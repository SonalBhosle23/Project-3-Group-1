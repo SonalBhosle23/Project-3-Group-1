{
 "cells": [
  {
   "cell_type": "code",
   "execution_count": 18,
   "id": "56a44eb9-cb33-4754-b4ec-77aaa5ab2b17",
   "metadata": {},
   "outputs": [],
   "source": [
    "# Import dependencies\n",
    "import pandas as pd\n",
    "pd.set_option('max_colwidth', 400)\n",
    "import matplotlib.pyplot as plt\n",
    "import hvplot.pandas\n",
    "import csv\n",
    "import json\n",
    "from pymongo import MongoClient\n",
    "from pprint import pprint\n",
    "from plotly.subplots import make_subplots\n",
    "import plotly.graph_objects as go\n",
    "import seaborn as sns\n",
    "import ipywidgets as widgets\n",
    "from ipywidgets import interact\n",
    "from IPython.display import clear_output\n",
    "from IPython.display import display\n",
    "from bokeh.io import output_notebook, show\n",
    "from bokeh.models import ColumnDataSource, HoverTool, LinearColorMapper, ColorBar\n",
    "from bokeh.plotting import figure\n",
    "from bokeh.layouts import row\n",
    "from bokeh.transform import linear_cmap\n"
   ]
  },
  {
   "cell_type": "code",
   "execution_count": 19,
   "id": "c8f419d0-a2d1-4ab0-92bf-fdc71815f667",
   "metadata": {},
   "outputs": [],
   "source": [
    "# read the origianl dataset extracted from data.world\n",
    "original_df = pd.read_excel('Resources/ABBREV.xlsx')"
   ]
  },
  {
   "cell_type": "code",
   "execution_count": 20,
   "id": "84073965",
   "metadata": {},
   "outputs": [],
   "source": [
    "#  Transform data for analyses\n",
    "# Define a function to categorise food items based on their descriptions\n",
    "def categorise_food(desc):\n",
    "    desc_upper = desc.upper()\n",
    "    if any(fruit in desc_upper for fruit in ['APPLE', 'BANANA', 'ORANGE', 'BERRY', 'FRUIT']):\n",
    "        return 'Fruits'\n",
    "    elif any(veggie in desc_upper for veggie in ['SPINACH', 'BROCCOLI', 'CARROT', 'LETTUCE', 'VEGETABLE']):\n",
    "        return 'Vegetables'\n",
    "    elif any(meat in desc_upper for meat in ['CHICKEN', 'BEEF', 'PORK', 'LAMB', 'MEAT']):\n",
    "        return 'Meats'\n",
    "    elif 'CHEESE' in desc_upper or 'MILK' in desc_upper or 'YOGURT' in desc_upper or 'DAIRY' in desc_upper:\n",
    "        return 'Dairy'\n",
    "    elif any(grain in desc_upper for grain in ['RICE', 'WHEAT', 'OATS', 'GRAIN', 'BREAD']):\n",
    "        return 'Grains'\n",
    "    elif any(nut in desc_upper for nut in ['ALMOND', 'WALNUT', 'SEED', 'NUT']):\n",
    "        return 'Nuts & Seeds'\n",
    "    elif any(seafood in desc_upper for seafood in ['FISH', 'SALMON', 'TUNA', 'SEAFOOD']):\n",
    "        return 'Seafood'\n",
    "    else:\n",
    "        return 'Other'\n",
    "    \n",
    "# Apply the categorisation function to the 'Shrt_Desc' column to create the 'Category' column\n",
    "original_df['Category'] = original_df['Shrt_Desc'].apply(categorise_food)"
   ]
  },
  {
   "cell_type": "code",
   "execution_count": 21,
   "id": "05a97bb7",
   "metadata": {},
   "outputs": [
    {
     "data": {
      "text/plain": [
       "Index(['NDB_No', 'Shrt_Desc', 'Water_(g)', 'Energ_Kcal', 'Protein_(g)',\n",
       "       'Lipid_Tot_(g)', 'Ash_(g)', 'Carbohydrt_(g)', 'Fiber_TD_(g)',\n",
       "       'Sugar_Tot_(g)', 'Calcium_(mg)', 'Iron_(mg)', 'Magnesium_(mg)',\n",
       "       'Phosphorus_(mg)', 'Potassium_(mg)', 'Sodium_(mg)', 'Zinc_(mg)',\n",
       "       'Copper_mg)', 'Manganese_(mg)', 'Selenium_(µg)', 'Vit_C_(mg)',\n",
       "       'Thiamin_(mg)', 'Riboflavin_(mg)', 'Niacin_(mg)', 'Panto_Acid_mg)',\n",
       "       'Vit_B6_(mg)', 'Folate_Tot_(µg)', 'Folic_Acid_(µg)', 'Food_Folate_(µg)',\n",
       "       'Folate_DFE_(µg)', 'Choline_Tot_ (mg)', 'Vit_B12_(µg)', 'Vit_A_IU',\n",
       "       'Vit_A_RAE', 'Retinol_(µg)', 'Alpha_Carot_(µg)', 'Beta_Carot_(µg)',\n",
       "       'Beta_Crypt_(µg)', 'Lycopene_(µg)', 'Lut+Zea_ (µg)', 'Vit_E_(mg)',\n",
       "       'Vit_D_µg', 'Vit_D_IU', 'Vit_K_(µg)', 'FA_Sat_(g)', 'FA_Mono_(g)',\n",
       "       'FA_Poly_(g)', 'Cholestrl_(mg)', 'GmWt_1', 'GmWt_Desc1', 'GmWt_2',\n",
       "       'GmWt_Desc2', 'Refuse_Pct', 'Category'],\n",
       "      dtype='object')"
      ]
     },
     "execution_count": 21,
     "metadata": {},
     "output_type": "execute_result"
    }
   ],
   "source": [
    "# select 100 samples for each category for analyses and visualisations\n",
    "sampled_df = original_df.groupby('Category').apply(lambda x: x.head(100)).reset_index(drop=True)\n",
    "\n",
    "sampled_df.head()\n",
    "sampled_df.columns"
   ]
  },
  {
   "cell_type": "code",
   "execution_count": 22,
   "id": "77d6ed46",
   "metadata": {},
   "outputs": [],
   "source": [
    "# Only keep the columns most commonly listed in the food labels\n",
    "reduced_columns_df = sampled_df[['Shrt_Desc','Energ_Kcal','Protein_(g)', 'Lipid_Tot_(g)', 'FA_Sat_(g)', \n",
    "                           'Carbohydrt_(g)','Sugar_Tot_(g)',\\\n",
    "                           'Fiber_TD_(g)','Sodium_(mg)','Category']]\n",
    "# Rename the columnns; note: all in g but sodium which is in mg\n",
    "food_label_df = reduced_columns_df.rename(columns={\"Shrt_Desc\":\"name\",\n",
    "                                    \"Energ_Kcal\":\"energy\",\n",
    "                                    \"Protein_(g)\": \"protein\",\n",
    "                                    \"Lipid_Tot_(g)\": \"fat_total\",\n",
    "                                    \"FA_Sat_(g)\":\"satuated_fat\",\n",
    "                                    \"Carbohydrt_(g)\":\"carbonhydrate\",\n",
    "                                    \"Sugar_Tot_(g)\":\"sugar\",\n",
    "                                    \"Fiber_TD_(g)\":\"dietary_fiber\",\n",
    "                                    \"Sodium_(mg)\":\"sodium\",\n",
    "                                    \"Category\": \"category\"                                       \n",
    "                                 })\n"
   ]
  },
  {
   "cell_type": "code",
   "execution_count": 23,
   "id": "089d8d15",
   "metadata": {},
   "outputs": [],
   "source": [
    "# Drop the category \"Other\" to keep the clear categories in the final sample analyses\n",
    "food_label_final_df = food_label_df.loc[food_label_df[\"category\"] !=\"Other\", :]"
   ]
  },
  {
   "cell_type": "code",
   "execution_count": 24,
   "id": "67eab987",
   "metadata": {},
   "outputs": [],
   "source": [
    "# Export both the original and final sample DataFrame for visualisations as CSV files. \n",
    "original_df.to_csv(\"Resources/original.csv\", index=False)\n",
    "food_label_final_df.to_csv(\"Resources/food_label_final.csv\", index=False)"
   ]
  },
  {
   "cell_type": "code",
   "execution_count": 25,
   "id": "3c736b2f",
   "metadata": {},
   "outputs": [],
   "source": [
    "# Convert the csv files to json files\n",
    "# Open the CSV file \n",
    "with open('Resources/original.csv', 'r') as csv_file:\n",
    "    csv_reader = csv.DictReader(csv_file)\n",
    "\n",
    "    data1 = []\n",
    "    for row in csv_reader:\n",
    "        data1.append(row)\n",
    "\n",
    "# Write the data to a JSON file\n",
    "with open('Resources/original.json', 'w') as json_file:\n",
    "    json.dump(data1, json_file, indent=4)\n",
    "\n",
    "with open('Resources/food_label_final.csv', 'r') as csv_file:\n",
    "    csv_reader = csv.DictReader(csv_file)\n",
    "\n",
    "    data2 = []\n",
    "    for row in csv_reader:\n",
    "        data2.append(row)\n",
    "\n",
    "# Write the data to a JSON file\n",
    "with open('Resources/food_label_final.json', 'w') as json_file:\n",
    "    json.dump(data2, json_file, indent=4)"
   ]
  },
  {
   "cell_type": "code",
   "execution_count": 26,
   "id": "34941f80-5cdb-41f0-9ced-11db18491a02",
   "metadata": {},
   "outputs": [],
   "source": [
    "# import both the original and transformed json data files to pymongo database to store\n",
    "#'mongoimport --type json -d food -c original --drop --jsonArray original.json'\n",
    "#'mongoimport --type json -d food -c food_label_final --drop --jsonArray food_label_final.json'\n",
    "# Create an instance of MongoClient\n",
    "mongo = MongoClient(port=27017)"
   ]
  },
  {
   "cell_type": "code",
   "execution_count": 27,
   "id": "294991fd-1c16-450b-98fc-04ab63ec9fd3",
   "metadata": {},
   "outputs": [],
   "source": [
    "# Assign the nutrients database to a variable name\n",
    "db = mongo['food']"
   ]
  },
  {
   "cell_type": "code",
   "execution_count": 28,
   "id": "bc7455ae-5c72-4376-a6b9-e384cf25d2e1",
   "metadata": {},
   "outputs": [
    {
     "name": "stdout",
     "output_type": "stream",
     "text": [
      "['food_label_final', 'nutrients', 'original']\n"
     ]
    }
   ],
   "source": [
    "# Review the collections in the database\n",
    "print(db.list_collection_names())"
   ]
  },
  {
   "cell_type": "code",
   "execution_count": 29,
   "id": "4ce39c87-7c7a-455a-9036-5b08c6ca25ba",
   "metadata": {},
   "outputs": [
    {
     "name": "stdout",
     "output_type": "stream",
     "text": [
      "{'_id': ObjectId('6619225e6cd7518d256da7a4'),\n",
      " 'carbonhydrate': '2.72',\n",
      " 'category': 'Dairy',\n",
      " 'dietary_fiber': '0.0',\n",
      " 'energy': '72',\n",
      " 'fat_total': '1.02',\n",
      " 'name': 'CHEESE,COTTAGE,LOWFAT,1% MILKFAT',\n",
      " 'protein': '12.39',\n",
      " 'satuated_fat': '0.645',\n",
      " 'sodium': '406.0',\n",
      " 'sugar': '2.72'}\n"
     ]
    }
   ],
   "source": [
    "# Review an object in the nutrients collection\n",
    "pprint(db.food_label_final.find_one())"
   ]
  },
  {
   "cell_type": "code",
   "execution_count": 30,
   "id": "6c038c65-2a59-475a-ab71-635c1422a49a",
   "metadata": {},
   "outputs": [
    {
     "data": {
      "text/html": [
       "<div>\n",
       "<style scoped>\n",
       "    .dataframe tbody tr th:only-of-type {\n",
       "        vertical-align: middle;\n",
       "    }\n",
       "\n",
       "    .dataframe tbody tr th {\n",
       "        vertical-align: top;\n",
       "    }\n",
       "\n",
       "    .dataframe thead th {\n",
       "        text-align: right;\n",
       "    }\n",
       "</style>\n",
       "<table border=\"1\" class=\"dataframe\">\n",
       "  <thead>\n",
       "    <tr style=\"text-align: right;\">\n",
       "      <th></th>\n",
       "      <th>category</th>\n",
       "      <th>energy</th>\n",
       "      <th>protein</th>\n",
       "      <th>fat_total</th>\n",
       "      <th>satuated_fat</th>\n",
       "      <th>carbonhydrate</th>\n",
       "      <th>sugar</th>\n",
       "      <th>dietary_fiber</th>\n",
       "      <th>sodium</th>\n",
       "    </tr>\n",
       "  </thead>\n",
       "  <tbody>\n",
       "    <tr>\n",
       "      <th>0</th>\n",
       "      <td>Dairy</td>\n",
       "      <td>233.11</td>\n",
       "      <td>15.6131</td>\n",
       "      <td>14.8385</td>\n",
       "      <td>9.251620</td>\n",
       "      <td>9.3034</td>\n",
       "      <td>8.208642</td>\n",
       "      <td>0.031000</td>\n",
       "      <td>521.69</td>\n",
       "    </tr>\n",
       "    <tr>\n",
       "      <th>1</th>\n",
       "      <td>Fruits</td>\n",
       "      <td>129.46</td>\n",
       "      <td>2.8806</td>\n",
       "      <td>1.5924</td>\n",
       "      <td>0.516333</td>\n",
       "      <td>26.7713</td>\n",
       "      <td>14.256047</td>\n",
       "      <td>1.620213</td>\n",
       "      <td>73.53</td>\n",
       "    </tr>\n",
       "    <tr>\n",
       "      <th>2</th>\n",
       "      <td>Grains</td>\n",
       "      <td>274.32</td>\n",
       "      <td>7.5450</td>\n",
       "      <td>5.4924</td>\n",
       "      <td>1.054273</td>\n",
       "      <td>52.1865</td>\n",
       "      <td>8.051183</td>\n",
       "      <td>5.426531</td>\n",
       "      <td>216.00</td>\n",
       "    </tr>\n",
       "    <tr>\n",
       "      <th>3</th>\n",
       "      <td>Meats</td>\n",
       "      <td>225.34</td>\n",
       "      <td>20.8628</td>\n",
       "      <td>14.2603</td>\n",
       "      <td>4.467636</td>\n",
       "      <td>2.0837</td>\n",
       "      <td>0.115493</td>\n",
       "      <td>0.062637</td>\n",
       "      <td>106.68</td>\n",
       "    </tr>\n",
       "    <tr>\n",
       "      <th>4</th>\n",
       "      <td>Nuts &amp; Seeds</td>\n",
       "      <td>343.55</td>\n",
       "      <td>6.1558</td>\n",
       "      <td>20.7423</td>\n",
       "      <td>5.619840</td>\n",
       "      <td>37.0574</td>\n",
       "      <td>18.529565</td>\n",
       "      <td>4.914286</td>\n",
       "      <td>181.04</td>\n",
       "    </tr>\n",
       "    <tr>\n",
       "      <th>5</th>\n",
       "      <td>Seafood</td>\n",
       "      <td>178.51</td>\n",
       "      <td>18.9776</td>\n",
       "      <td>10.5959</td>\n",
       "      <td>3.230204</td>\n",
       "      <td>0.6635</td>\n",
       "      <td>0.128542</td>\n",
       "      <td>0.023469</td>\n",
       "      <td>264.06</td>\n",
       "    </tr>\n",
       "    <tr>\n",
       "      <th>6</th>\n",
       "      <td>Vegetables</td>\n",
       "      <td>81.84</td>\n",
       "      <td>3.5881</td>\n",
       "      <td>2.6656</td>\n",
       "      <td>1.343771</td>\n",
       "      <td>11.7757</td>\n",
       "      <td>2.584353</td>\n",
       "      <td>2.473404</td>\n",
       "      <td>176.15</td>\n",
       "    </tr>\n",
       "  </tbody>\n",
       "</table>\n",
       "</div>"
      ],
      "text/plain": [
       "       category  energy  protein  fat_total  satuated_fat  carbonhydrate  \\\n",
       "0         Dairy  233.11  15.6131    14.8385      9.251620         9.3034   \n",
       "1        Fruits  129.46   2.8806     1.5924      0.516333        26.7713   \n",
       "2        Grains  274.32   7.5450     5.4924      1.054273        52.1865   \n",
       "3         Meats  225.34  20.8628    14.2603      4.467636         2.0837   \n",
       "4  Nuts & Seeds  343.55   6.1558    20.7423      5.619840        37.0574   \n",
       "5       Seafood  178.51  18.9776    10.5959      3.230204         0.6635   \n",
       "6    Vegetables   81.84   3.5881     2.6656      1.343771        11.7757   \n",
       "\n",
       "       sugar  dietary_fiber  sodium  \n",
       "0   8.208642       0.031000  521.69  \n",
       "1  14.256047       1.620213   73.53  \n",
       "2   8.051183       5.426531  216.00  \n",
       "3   0.115493       0.062637  106.68  \n",
       "4  18.529565       4.914286  181.04  \n",
       "5   0.128542       0.023469  264.06  \n",
       "6   2.584353       2.473404  176.15  "
      ]
     },
     "execution_count": 30,
     "metadata": {},
     "output_type": "execute_result"
    }
   ],
   "source": [
    "# Calculate the average of each nutrient for each category\n",
    "mean_by_category_df = food_label_final_df.groupby(['category']).mean().reset_index(drop=False)\n",
    "mean_by_category_df"
   ]
  },
  {
   "cell_type": "code",
   "execution_count": 31,
   "id": "90c1f865",
   "metadata": {},
   "outputs": [],
   "source": [
    "different_disc = food_label_final_df.groupby(['category']).mean()\n",
    "fig = make_subplots(\n",
    "    rows=2, cols=3,\n",
    "    specs=[[{\"type\": \"domain\"},{\"type\": \"domain\"},{\"type\": \"domain\"}],\n",
    "           [{\"type\": \"domain\"},{\"type\": \"domain\"},{\"type\": \"domain\"}]])"
   ]
  },
  {
   "cell_type": "code",
   "execution_count": 32,
   "id": "fc070751",
   "metadata": {},
   "outputs": [
    {
     "data": {
      "application/vnd.plotly.v1+json": {
       "config": {
        "plotlyServerURL": "https://plot.ly"
       },
       "data": [
        {
         "domain": {
          "x": [
           0,
           0.2888888888888889
          ],
          "y": [
           0.575,
           1
          ]
         },
         "labels": [
          "Dairy",
          "Fruits",
          "Grains",
          "Meats",
          "Nuts & Seeds",
          "Seafood",
          "Vegetables"
         ],
         "marker": {
          "colors": [
           "#100b",
           "#f00560"
          ],
          "line": {
           "color": "#FFFFFF",
           "width": 2.5
          }
         },
         "title": {
          "text": "calories"
         },
         "type": "pie",
         "values": [
          233.11,
          129.46,
          274.32,
          225.34,
          343.55,
          178.51,
          81.84
         ]
        },
        {
         "domain": {
          "x": [
           0.35555555555555557,
           0.6444444444444445
          ],
          "y": [
           0.575,
           1
          ]
         },
         "labels": [
          "Dairy",
          "Fruits",
          "Grains",
          "Meats",
          "Nuts & Seeds",
          "Seafood",
          "Vegetables"
         ],
         "marker": {
          "colors": [
           "#100b",
           "#f00560"
          ],
          "line": {
           "color": "#FFFFFF",
           "width": 2.5
          }
         },
         "title": {
          "text": "protein"
         },
         "type": "pie",
         "values": [
          15.6131,
          2.8806,
          7.545,
          20.862800000000004,
          6.1558,
          18.9776,
          3.5881
         ]
        },
        {
         "domain": {
          "x": [
           0.7111111111111111,
           1
          ],
          "y": [
           0.575,
           1
          ]
         },
         "labels": [
          "Dairy",
          "Fruits",
          "Grains",
          "Meats",
          "Nuts & Seeds",
          "Seafood",
          "Vegetables"
         ],
         "marker": {
          "colors": [
           "#100b",
           "#f00560"
          ],
          "line": {
           "color": "#FFFFFF",
           "width": 2.5
          }
         },
         "title": {
          "text": "sat.fat"
         },
         "type": "pie",
         "values": [
          9.25162,
          0.5163333333333333,
          1.0542727272727273,
          4.467636363636363,
          5.61984,
          3.230204081632653,
          1.3437708333333334
         ]
        },
        {
         "domain": {
          "x": [
           0,
           0.2888888888888889
          ],
          "y": [
           0,
           0.425
          ]
         },
         "labels": [
          "Dairy",
          "Fruits",
          "Grains",
          "Meats",
          "Nuts & Seeds",
          "Seafood",
          "Vegetables"
         ],
         "marker": {
          "colors": [
           "#100b",
           "#f00560"
          ],
          "line": {
           "color": "#FFFFFF",
           "width": 2.5
          }
         },
         "title": {
          "text": "carbs"
         },
         "type": "pie",
         "values": [
          9.3034,
          26.7713,
          52.186499999999995,
          2.0837,
          37.0574,
          0.6635,
          11.775699999999999
         ]
        },
        {
         "domain": {
          "x": [
           0.35555555555555557,
           0.6444444444444445
          ],
          "y": [
           0,
           0.425
          ]
         },
         "labels": [
          "Dairy",
          "Fruits",
          "Grains",
          "Meats",
          "Nuts & Seeds",
          "Seafood",
          "Vegetables"
         ],
         "marker": {
          "colors": [
           "#100b",
           "#f00560"
          ],
          "line": {
           "color": "#FFFFFF",
           "width": 2.5
          }
         },
         "title": {
          "text": "sugar"
         },
         "type": "pie",
         "values": [
          8.208641975308641,
          14.256046511627908,
          8.051182795698924,
          0.11549295774647886,
          18.529565217391305,
          0.12854166666666667,
          2.584352941176471
         ]
        },
        {
         "domain": {
          "x": [
           0.7111111111111111,
           1
          ],
          "y": [
           0,
           0.425
          ]
         },
         "labels": [
          "Dairy",
          "Fruits",
          "Grains",
          "Meats",
          "Nuts & Seeds",
          "Seafood",
          "Vegetables"
         ],
         "marker": {
          "colors": [
           "#100b",
           "#f00560"
          ],
          "line": {
           "color": "#FFFFFF",
           "width": 2.5
          }
         },
         "title": {
          "text": "fiber"
         },
         "type": "pie",
         "values": [
          0.031,
          1.620212765957447,
          5.426530612244897,
          0.06263736263736264,
          4.914285714285715,
          0.023469387755102038,
          2.473404255319149
         ]
        }
       ],
       "layout": {
        "height": 700,
        "template": {
         "data": {
          "bar": [
           {
            "error_x": {
             "color": "#2a3f5f"
            },
            "error_y": {
             "color": "#2a3f5f"
            },
            "marker": {
             "line": {
              "color": "#E5ECF6",
              "width": 0.5
             },
             "pattern": {
              "fillmode": "overlay",
              "size": 10,
              "solidity": 0.2
             }
            },
            "type": "bar"
           }
          ],
          "barpolar": [
           {
            "marker": {
             "line": {
              "color": "#E5ECF6",
              "width": 0.5
             },
             "pattern": {
              "fillmode": "overlay",
              "size": 10,
              "solidity": 0.2
             }
            },
            "type": "barpolar"
           }
          ],
          "carpet": [
           {
            "aaxis": {
             "endlinecolor": "#2a3f5f",
             "gridcolor": "white",
             "linecolor": "white",
             "minorgridcolor": "white",
             "startlinecolor": "#2a3f5f"
            },
            "baxis": {
             "endlinecolor": "#2a3f5f",
             "gridcolor": "white",
             "linecolor": "white",
             "minorgridcolor": "white",
             "startlinecolor": "#2a3f5f"
            },
            "type": "carpet"
           }
          ],
          "choropleth": [
           {
            "colorbar": {
             "outlinewidth": 0,
             "ticks": ""
            },
            "type": "choropleth"
           }
          ],
          "contour": [
           {
            "colorbar": {
             "outlinewidth": 0,
             "ticks": ""
            },
            "colorscale": [
             [
              0,
              "#0d0887"
             ],
             [
              0.1111111111111111,
              "#46039f"
             ],
             [
              0.2222222222222222,
              "#7201a8"
             ],
             [
              0.3333333333333333,
              "#9c179e"
             ],
             [
              0.4444444444444444,
              "#bd3786"
             ],
             [
              0.5555555555555556,
              "#d8576b"
             ],
             [
              0.6666666666666666,
              "#ed7953"
             ],
             [
              0.7777777777777778,
              "#fb9f3a"
             ],
             [
              0.8888888888888888,
              "#fdca26"
             ],
             [
              1,
              "#f0f921"
             ]
            ],
            "type": "contour"
           }
          ],
          "contourcarpet": [
           {
            "colorbar": {
             "outlinewidth": 0,
             "ticks": ""
            },
            "type": "contourcarpet"
           }
          ],
          "heatmap": [
           {
            "colorbar": {
             "outlinewidth": 0,
             "ticks": ""
            },
            "colorscale": [
             [
              0,
              "#0d0887"
             ],
             [
              0.1111111111111111,
              "#46039f"
             ],
             [
              0.2222222222222222,
              "#7201a8"
             ],
             [
              0.3333333333333333,
              "#9c179e"
             ],
             [
              0.4444444444444444,
              "#bd3786"
             ],
             [
              0.5555555555555556,
              "#d8576b"
             ],
             [
              0.6666666666666666,
              "#ed7953"
             ],
             [
              0.7777777777777778,
              "#fb9f3a"
             ],
             [
              0.8888888888888888,
              "#fdca26"
             ],
             [
              1,
              "#f0f921"
             ]
            ],
            "type": "heatmap"
           }
          ],
          "heatmapgl": [
           {
            "colorbar": {
             "outlinewidth": 0,
             "ticks": ""
            },
            "colorscale": [
             [
              0,
              "#0d0887"
             ],
             [
              0.1111111111111111,
              "#46039f"
             ],
             [
              0.2222222222222222,
              "#7201a8"
             ],
             [
              0.3333333333333333,
              "#9c179e"
             ],
             [
              0.4444444444444444,
              "#bd3786"
             ],
             [
              0.5555555555555556,
              "#d8576b"
             ],
             [
              0.6666666666666666,
              "#ed7953"
             ],
             [
              0.7777777777777778,
              "#fb9f3a"
             ],
             [
              0.8888888888888888,
              "#fdca26"
             ],
             [
              1,
              "#f0f921"
             ]
            ],
            "type": "heatmapgl"
           }
          ],
          "histogram": [
           {
            "marker": {
             "pattern": {
              "fillmode": "overlay",
              "size": 10,
              "solidity": 0.2
             }
            },
            "type": "histogram"
           }
          ],
          "histogram2d": [
           {
            "colorbar": {
             "outlinewidth": 0,
             "ticks": ""
            },
            "colorscale": [
             [
              0,
              "#0d0887"
             ],
             [
              0.1111111111111111,
              "#46039f"
             ],
             [
              0.2222222222222222,
              "#7201a8"
             ],
             [
              0.3333333333333333,
              "#9c179e"
             ],
             [
              0.4444444444444444,
              "#bd3786"
             ],
             [
              0.5555555555555556,
              "#d8576b"
             ],
             [
              0.6666666666666666,
              "#ed7953"
             ],
             [
              0.7777777777777778,
              "#fb9f3a"
             ],
             [
              0.8888888888888888,
              "#fdca26"
             ],
             [
              1,
              "#f0f921"
             ]
            ],
            "type": "histogram2d"
           }
          ],
          "histogram2dcontour": [
           {
            "colorbar": {
             "outlinewidth": 0,
             "ticks": ""
            },
            "colorscale": [
             [
              0,
              "#0d0887"
             ],
             [
              0.1111111111111111,
              "#46039f"
             ],
             [
              0.2222222222222222,
              "#7201a8"
             ],
             [
              0.3333333333333333,
              "#9c179e"
             ],
             [
              0.4444444444444444,
              "#bd3786"
             ],
             [
              0.5555555555555556,
              "#d8576b"
             ],
             [
              0.6666666666666666,
              "#ed7953"
             ],
             [
              0.7777777777777778,
              "#fb9f3a"
             ],
             [
              0.8888888888888888,
              "#fdca26"
             ],
             [
              1,
              "#f0f921"
             ]
            ],
            "type": "histogram2dcontour"
           }
          ],
          "mesh3d": [
           {
            "colorbar": {
             "outlinewidth": 0,
             "ticks": ""
            },
            "type": "mesh3d"
           }
          ],
          "parcoords": [
           {
            "line": {
             "colorbar": {
              "outlinewidth": 0,
              "ticks": ""
             }
            },
            "type": "parcoords"
           }
          ],
          "pie": [
           {
            "automargin": true,
            "type": "pie"
           }
          ],
          "scatter": [
           {
            "fillpattern": {
             "fillmode": "overlay",
             "size": 10,
             "solidity": 0.2
            },
            "type": "scatter"
           }
          ],
          "scatter3d": [
           {
            "line": {
             "colorbar": {
              "outlinewidth": 0,
              "ticks": ""
             }
            },
            "marker": {
             "colorbar": {
              "outlinewidth": 0,
              "ticks": ""
             }
            },
            "type": "scatter3d"
           }
          ],
          "scattercarpet": [
           {
            "marker": {
             "colorbar": {
              "outlinewidth": 0,
              "ticks": ""
             }
            },
            "type": "scattercarpet"
           }
          ],
          "scattergeo": [
           {
            "marker": {
             "colorbar": {
              "outlinewidth": 0,
              "ticks": ""
             }
            },
            "type": "scattergeo"
           }
          ],
          "scattergl": [
           {
            "marker": {
             "colorbar": {
              "outlinewidth": 0,
              "ticks": ""
             }
            },
            "type": "scattergl"
           }
          ],
          "scattermapbox": [
           {
            "marker": {
             "colorbar": {
              "outlinewidth": 0,
              "ticks": ""
             }
            },
            "type": "scattermapbox"
           }
          ],
          "scatterpolar": [
           {
            "marker": {
             "colorbar": {
              "outlinewidth": 0,
              "ticks": ""
             }
            },
            "type": "scatterpolar"
           }
          ],
          "scatterpolargl": [
           {
            "marker": {
             "colorbar": {
              "outlinewidth": 0,
              "ticks": ""
             }
            },
            "type": "scatterpolargl"
           }
          ],
          "scatterternary": [
           {
            "marker": {
             "colorbar": {
              "outlinewidth": 0,
              "ticks": ""
             }
            },
            "type": "scatterternary"
           }
          ],
          "surface": [
           {
            "colorbar": {
             "outlinewidth": 0,
             "ticks": ""
            },
            "colorscale": [
             [
              0,
              "#0d0887"
             ],
             [
              0.1111111111111111,
              "#46039f"
             ],
             [
              0.2222222222222222,
              "#7201a8"
             ],
             [
              0.3333333333333333,
              "#9c179e"
             ],
             [
              0.4444444444444444,
              "#bd3786"
             ],
             [
              0.5555555555555556,
              "#d8576b"
             ],
             [
              0.6666666666666666,
              "#ed7953"
             ],
             [
              0.7777777777777778,
              "#fb9f3a"
             ],
             [
              0.8888888888888888,
              "#fdca26"
             ],
             [
              1,
              "#f0f921"
             ]
            ],
            "type": "surface"
           }
          ],
          "table": [
           {
            "cells": {
             "fill": {
              "color": "#EBF0F8"
             },
             "line": {
              "color": "white"
             }
            },
            "header": {
             "fill": {
              "color": "#C8D4E3"
             },
             "line": {
              "color": "white"
             }
            },
            "type": "table"
           }
          ]
         },
         "layout": {
          "annotationdefaults": {
           "arrowcolor": "#2a3f5f",
           "arrowhead": 0,
           "arrowwidth": 1
          },
          "autotypenumbers": "strict",
          "coloraxis": {
           "colorbar": {
            "outlinewidth": 0,
            "ticks": ""
           }
          },
          "colorscale": {
           "diverging": [
            [
             0,
             "#8e0152"
            ],
            [
             0.1,
             "#c51b7d"
            ],
            [
             0.2,
             "#de77ae"
            ],
            [
             0.3,
             "#f1b6da"
            ],
            [
             0.4,
             "#fde0ef"
            ],
            [
             0.5,
             "#f7f7f7"
            ],
            [
             0.6,
             "#e6f5d0"
            ],
            [
             0.7,
             "#b8e186"
            ],
            [
             0.8,
             "#7fbc41"
            ],
            [
             0.9,
             "#4d9221"
            ],
            [
             1,
             "#276419"
            ]
           ],
           "sequential": [
            [
             0,
             "#0d0887"
            ],
            [
             0.1111111111111111,
             "#46039f"
            ],
            [
             0.2222222222222222,
             "#7201a8"
            ],
            [
             0.3333333333333333,
             "#9c179e"
            ],
            [
             0.4444444444444444,
             "#bd3786"
            ],
            [
             0.5555555555555556,
             "#d8576b"
            ],
            [
             0.6666666666666666,
             "#ed7953"
            ],
            [
             0.7777777777777778,
             "#fb9f3a"
            ],
            [
             0.8888888888888888,
             "#fdca26"
            ],
            [
             1,
             "#f0f921"
            ]
           ],
           "sequentialminus": [
            [
             0,
             "#0d0887"
            ],
            [
             0.1111111111111111,
             "#46039f"
            ],
            [
             0.2222222222222222,
             "#7201a8"
            ],
            [
             0.3333333333333333,
             "#9c179e"
            ],
            [
             0.4444444444444444,
             "#bd3786"
            ],
            [
             0.5555555555555556,
             "#d8576b"
            ],
            [
             0.6666666666666666,
             "#ed7953"
            ],
            [
             0.7777777777777778,
             "#fb9f3a"
            ],
            [
             0.8888888888888888,
             "#fdca26"
            ],
            [
             1,
             "#f0f921"
            ]
           ]
          },
          "colorway": [
           "#636efa",
           "#EF553B",
           "#00cc96",
           "#ab63fa",
           "#FFA15A",
           "#19d3f3",
           "#FF6692",
           "#B6E880",
           "#FF97FF",
           "#FECB52"
          ],
          "font": {
           "color": "#2a3f5f"
          },
          "geo": {
           "bgcolor": "white",
           "lakecolor": "white",
           "landcolor": "#E5ECF6",
           "showlakes": true,
           "showland": true,
           "subunitcolor": "white"
          },
          "hoverlabel": {
           "align": "left"
          },
          "hovermode": "closest",
          "mapbox": {
           "style": "light"
          },
          "paper_bgcolor": "white",
          "plot_bgcolor": "#E5ECF6",
          "polar": {
           "angularaxis": {
            "gridcolor": "white",
            "linecolor": "white",
            "ticks": ""
           },
           "bgcolor": "#E5ECF6",
           "radialaxis": {
            "gridcolor": "white",
            "linecolor": "white",
            "ticks": ""
           }
          },
          "scene": {
           "xaxis": {
            "backgroundcolor": "#E5ECF6",
            "gridcolor": "white",
            "gridwidth": 2,
            "linecolor": "white",
            "showbackground": true,
            "ticks": "",
            "zerolinecolor": "white"
           },
           "yaxis": {
            "backgroundcolor": "#E5ECF6",
            "gridcolor": "white",
            "gridwidth": 2,
            "linecolor": "white",
            "showbackground": true,
            "ticks": "",
            "zerolinecolor": "white"
           },
           "zaxis": {
            "backgroundcolor": "#E5ECF6",
            "gridcolor": "white",
            "gridwidth": 2,
            "linecolor": "white",
            "showbackground": true,
            "ticks": "",
            "zerolinecolor": "white"
           }
          },
          "shapedefaults": {
           "line": {
            "color": "#2a3f5f"
           }
          },
          "ternary": {
           "aaxis": {
            "gridcolor": "white",
            "linecolor": "white",
            "ticks": ""
           },
           "baxis": {
            "gridcolor": "white",
            "linecolor": "white",
            "ticks": ""
           },
           "bgcolor": "#E5ECF6",
           "caxis": {
            "gridcolor": "white",
            "linecolor": "white",
            "ticks": ""
           }
          },
          "title": {
           "x": 0.05
          },
          "xaxis": {
           "automargin": true,
           "gridcolor": "white",
           "linecolor": "white",
           "ticks": "",
           "title": {
            "standoff": 15
           },
           "zerolinecolor": "white",
           "zerolinewidth": 2
          },
          "yaxis": {
           "automargin": true,
           "gridcolor": "white",
           "linecolor": "white",
           "ticks": "",
           "title": {
            "standoff": 15
           },
           "zerolinecolor": "white",
           "zerolinewidth": 2
          }
         }
        },
        "title": {
         "text": "Category wise distribution of all metrics"
        },
        "width": 900
       }
      }
     },
     "metadata": {},
     "output_type": "display_data"
    }
   ],
   "source": [
    "\n",
    "fig.add_trace(go.Pie(values=different_disc['energy'], \n",
    "                     title='calories', labels=different_disc.index, marker=dict(colors=['#100b','#f00560'], \n",
    "                    line=dict(color='#FFFFFF', width=2.5))),row=1, col=1)\n",
    "fig.add_trace(go.Pie(values=different_disc['protein'], \n",
    "                     title='protein', labels=different_disc.index, marker=dict(colors=['#100b','#f00560'], \n",
    "                    line=dict(color='#FFFFFF', width=2.5))),row=1, col=2)\n",
    "fig.add_trace(go.Pie(values=different_disc['satuated_fat'], \n",
    "                     title='sat.fat', labels=different_disc.index, marker=dict(colors=['#100b','#f00560'], \n",
    "                    line=dict(color='#FFFFFF', width=2.5))),row=1, col=3)\n",
    "fig.add_trace(go.Pie(values=different_disc['carbonhydrate'], \n",
    "                     title='carbs', labels=different_disc.index, marker=dict(colors=['#100b','#f00560'], \n",
    "                    line=dict(color='#FFFFFF', width=2.5))),row=2, col=1)\n",
    "fig.add_trace(go.Pie(values=different_disc['sugar'], \n",
    "                     title='sugar', labels=different_disc.index, marker=dict(colors=['#100b','#f00560'], \n",
    "                    line=dict(color='#FFFFFF', width=2.5))),row=2, col=2)\n",
    "fig.add_trace(go.Pie(values=different_disc['dietary_fiber'], \n",
    "                     title='fiber', labels=different_disc.index, marker=dict(colors=['#100b','#f00560'], \n",
    "                    line=dict(color='#FFFFFF', width=2.5))),row=2, col=3)\n",
    "\n",
    "fig.update_layout(title_text=\"Category wise distribution of all metrics\", height=700, width=900)\n",
    "fig.show()\n",
    "\n"
   ]
  },
  {
   "cell_type": "code",
   "execution_count": 33,
   "id": "7f0e81cf-ec54-4d2c-b894-8c30a853ad31",
   "metadata": {},
   "outputs": [
    {
     "data": {
      "application/vnd.jupyter.widget-view+json": {
       "model_id": "634d5bc71fd6416baa92c66a0fe25bb7",
       "version_major": 2,
       "version_minor": 0
      },
      "text/plain": [
       "Dropdown(description='Category 1:', options=('Dairy', 'Fruits', 'Grains', 'Meats', 'Nuts & Seeds', 'Seafood', …"
      ]
     },
     "metadata": {},
     "output_type": "display_data"
    },
    {
     "data": {
      "application/vnd.jupyter.widget-view+json": {
       "model_id": "43006b2d76b2442ca6ba574f30e062be",
       "version_major": 2,
       "version_minor": 0
      },
      "text/plain": [
       "Dropdown(description='Category 2:', options=('Dairy', 'Fruits', 'Grains', 'Meats', 'Nuts & Seeds', 'Seafood', …"
      ]
     },
     "metadata": {},
     "output_type": "display_data"
    },
    {
     "data": {
      "application/vnd.jupyter.widget-view+json": {
       "model_id": "fda38534ab06411eb6d98459990b3108",
       "version_major": 2,
       "version_minor": 0
      },
      "text/plain": [
       "Button(description='Compare Categories', style=ButtonStyle())"
      ]
     },
     "metadata": {},
     "output_type": "display_data"
    },
    {
     "data": {
      "application/vnd.jupyter.widget-view+json": {
       "model_id": "a5e8aca0ac964e3c9e5b4a4ac51742e2",
       "version_major": 2,
       "version_minor": 0
      },
      "text/plain": [
       "Output()"
      ]
     },
     "metadata": {},
     "output_type": "display_data"
    },
    {
     "data": {
      "image/png": "[encoded data removed]",
      "text/plain": [
       "<Figure size 1200x600 with 2 Axes>"
      ]
     },
     "metadata": {},
     "output_type": "display_data"
    }
   ],
   "source": [
    "# Get the categories from the 'category' columns for dropdown menus\n",
    "# Only keep three primary columns for comparison charts\n",
    "reduced_category_df = mean_by_category_df[['category', 'energy', 'protein', 'fat_total','carbonhydrate']]\n",
    "categories = reduced_category_df['category'].unique()\n",
    "\n",
    "# Create dropdown widgets for category selection\n",
    "dropdown1 = widgets.Dropdown(options=categories, description='Category 1:')\n",
    "dropdown2 = widgets.Dropdown(options=categories, description='Category 2:')\n",
    "\n",
    "# Create a button widget for triggering the comparison\n",
    "button = widgets.Button(description='Compare Categories')\n",
    "# # Create an output widget for displaying the comparison results\n",
    "output = widgets.Output()\n",
    "\n",
    "# Define a function to compare the selected categories\n",
    "def compare_categories(b):\n",
    "    category1 = dropdown1.value\n",
    "    category2 = dropdown2.value\n",
    "\n",
    "    # Filter the DataFrame for the selected categories\n",
    "    category1_data = reduced_category_df[reduced_category_df['category'] == category1]\n",
    "    category2_data = reduced_category_df[reduced_category_df['category'] == category2]\n",
    "\n",
    "    fig, (ax1, ax2) = plt.subplots(1, 2, figsize=(12, 6))\n",
    "\n",
    "    category1_data.plot(kind=\"bar\", ax=ax1)\n",
    "    ax1.set_xticklabels(category1_data[\"category\"], rotation=45)\n",
    "\n",
    "    # Plot the second category data\n",
    "    category2_data.plot(kind=\"bar\", ax=ax2)\n",
    "    ax2.set_xticklabels(category2_data[\"category\"], rotation=45)\n",
    "\n",
    "    plt.tight_layout()\n",
    "    plt.show()\n",
    "\n",
    "\n",
    "# Link the button to to the function\n",
    "button.on_click(compare_categories)\n",
    "\n",
    "# # Display the widgets\n",
    "display(dropdown1, dropdown2, button, output)"
   ]
  },
  {
   "cell_type": "code",
   "execution_count": 34,
   "id": "332c795a-e7e9-4803-9f8d-4d572ada25cc",
   "metadata": {},
   "outputs": [
    {
     "data": {
      "text/html": [
       "\n",
       "  <div class=\"bk-root\" id=\"c2232150-c64f-4179-82b7-411e64a277ed\" data-root-id=\"1093\"></div>\n"
      ]
     },
     "metadata": {},
     "output_type": "display_data"
    },
    {
     "data": {
      "application/javascript": "(function(root) {\n  function embed_document(root) {\n  const docs_json = {\"91be029d-3962-40ea-b90f-7b69a6ab3f9b\":{\"defs\":[{\"extends\":null,\"module\":null,\"name\":\"ReactiveHTML1\",\"overrides\":[],\"properties\":[]},{\"extends\":null,\"module\":null,\"name\":\"FlexBox1\",\"overrides\":[],\"properties\":[{\"default\":\"flex-start\",\"kind\":null,\"name\":\"align_content\"},{\"default\":\"flex-start\",\"kind\":null,\"name\":\"align_items\"},{\"default\":\"row\",\"kind\":null,\"name\":\"flex_direction\"},{\"default\":\"wrap\",\"kind\":null,\"name\":\"flex_wrap\"},{\"default\":\"flex-start\",\"kind\":null,\"name\":\"justify_content\"}]},{\"extends\":null,\"module\":null,\"name\":\"GridStack1\",\"overrides\":[],\"properties\":[{\"default\":\"warn\",\"kind\":null,\"name\":\"mode\"},{\"default\":null,\"kind\":null,\"name\":\"ncols\"},{\"default\":null,\"kind\":null,\"name\":\"nrows\"},{\"default\":true,\"kind\":null,\"name\":\"allow_resize\"},{\"default\":true,\"kind\":null,\"name\":\"allow_drag\"},{\"default\":[],\"kind\":null,\"name\":\"state\"}]},{\"extends\":null,\"module\":null,\"name\":\"click1\",\"overrides\":[],\"properties\":[{\"default\":\"\",\"kind\":null,\"name\":\"terminal_output\"},{\"default\":\"\",\"kind\":null,\"name\":\"debug_name\"},{\"default\":0,\"kind\":null,\"name\":\"clears\"}]},{\"extends\":null,\"module\":null,\"name\":\"NotificationAreaBase1\",\"overrides\":[],\"properties\":[{\"default\":\"bottom-right\",\"kind\":null,\"name\":\"position\"},{\"default\":0,\"kind\":null,\"name\":\"_clear\"}]},{\"extends\":null,\"module\":null,\"name\":\"NotificationArea1\",\"overrides\":[],\"properties\":[{\"default\":[],\"kind\":null,\"name\":\"notifications\"},{\"default\":\"bottom-right\",\"kind\":null,\"name\":\"position\"},{\"default\":0,\"kind\":null,\"name\":\"_clear\"},{\"default\":[{\"background\":\"#ffc107\",\"icon\":{\"className\":\"fas fa-exclamation-triangle\",\"color\":\"white\",\"tagName\":\"i\"},\"type\":\"warning\"},{\"background\":\"#007bff\",\"icon\":{\"className\":\"fas fa-info-circle\",\"color\":\"white\",\"tagName\":\"i\"},\"type\":\"info\"}],\"kind\":null,\"name\":\"types\"}]},{\"extends\":null,\"module\":null,\"name\":\"Notification\",\"overrides\":[],\"properties\":[{\"default\":null,\"kind\":null,\"name\":\"background\"},{\"default\":3000,\"kind\":null,\"name\":\"duration\"},{\"default\":null,\"kind\":null,\"name\":\"icon\"},{\"default\":\"\",\"kind\":null,\"name\":\"message\"},{\"default\":null,\"kind\":null,\"name\":\"notification_type\"},{\"default\":false,\"kind\":null,\"name\":\"_destroyed\"}]},{\"extends\":null,\"module\":null,\"name\":\"TemplateActions1\",\"overrides\":[],\"properties\":[{\"default\":0,\"kind\":null,\"name\":\"open_modal\"},{\"default\":0,\"kind\":null,\"name\":\"close_modal\"}]},{\"extends\":null,\"module\":null,\"name\":\"MaterialTemplateActions1\",\"overrides\":[],\"properties\":[{\"default\":0,\"kind\":null,\"name\":\"open_modal\"},{\"default\":0,\"kind\":null,\"name\":\"close_modal\"}]}],\"roots\":{\"references\":[{\"attributes\":{\"below\":[{\"id\":\"1104\"}],\"center\":[{\"id\":\"1106\"},{\"id\":\"1109\"}],\"left\":[{\"id\":\"1107\"}],\"renderers\":[{\"id\":\"1117\"}],\"right\":[{\"id\":\"1119\"}],\"title\":{\"id\":\"1094\"},\"toolbar\":{\"id\":\"1111\"},\"x_range\":{\"id\":\"1096\"},\"x_scale\":{\"id\":\"1100\"},\"y_range\":{\"id\":\"1098\"},\"y_scale\":{\"id\":\"1102\"}},\"id\":\"1093\",\"subtype\":\"Figure\",\"type\":\"Plot\"},{\"attributes\":{\"coordinates\":null,\"group\":null,\"text\":\"Nutrient Density Heatmap\"},\"id\":\"1094\",\"type\":\"Title\"},{\"attributes\":{\"tools\":[{\"id\":\"1110\"}]},\"id\":\"1111\",\"type\":\"Toolbar\"},{\"attributes\":{\"fill_alpha\":{\"value\":0.2},\"fill_color\":{\"field\":\"Value\",\"transform\":{\"id\":\"1092\"}},\"hatch_alpha\":{\"value\":0.2},\"height\":{\"value\":1},\"line_alpha\":{\"value\":0.2},\"line_color\":{\"value\":null},\"width\":{\"value\":1},\"x\":{\"field\":\"category\"},\"y\":{\"field\":\"Nutrient\"}},\"id\":\"1116\",\"type\":\"Rect\"},{\"attributes\":{\"coordinates\":null,\"formatter\":{\"id\":\"1136\"},\"group\":null,\"major_label_policy\":{\"id\":\"1137\"},\"ticker\":{\"id\":\"1105\"}},\"id\":\"1104\",\"type\":\"CategoricalAxis\"},{\"attributes\":{\"high\":902.0,\"low\":0.0,\"palette\":[\"#440154\",\"#440255\",\"#440357\",\"#450558\",\"#45065A\",\"#45085B\",\"#46095C\",\"#460B5E\",\"#460C5F\",\"#460E61\",\"#470F62\",\"#471163\",\"#471265\",\"#471466\",\"#471567\",\"#471669\",\"#47186A\",\"#48196B\",\"#481A6C\",\"#481C6E\",\"#481D6F\",\"#481E70\",\"#482071\",\"#482172\",\"#482273\",\"#482374\",\"#472575\",\"#472676\",\"#472777\",\"#472878\",\"#472A79\",\"#472B7A\",\"#472C7B\",\"#462D7C\",\"#462F7C\",\"#46307D\",\"#46317E\",\"#45327F\",\"#45347F\",\"#453580\",\"#453681\",\"#443781\",\"#443982\",\"#433A83\",\"#433B83\",\"#433C84\",\"#423D84\",\"#423E85\",\"#424085\",\"#414186\",\"#414286\",\"#404387\",\"#404487\",\"#3F4587\",\"#3F4788\",\"#3E4888\",\"#3E4989\",\"#3D4A89\",\"#3D4B89\",\"#3D4C89\",\"#3C4D8A\",\"#3C4E8A\",\"#3B508A\",\"#3B518A\",\"#3A528B\",\"#3A538B\",\"#39548B\",\"#39558B\",\"#38568B\",\"#38578C\",\"#37588C\",\"#37598C\",\"#365A8C\",\"#365B8C\",\"#355C8C\",\"#355D8C\",\"#345E8D\",\"#345F8D\",\"#33608D\",\"#33618D\",\"#32628D\",\"#32638D\",\"#31648D\",\"#31658D\",\"#31668D\",\"#30678D\",\"#30688D\",\"#2F698D\",\"#2F6A8D\",\"#2E6B8E\",\"#2E6C8E\",\"#2E6D8E\",\"#2D6E8E\",\"#2D6F8E\",\"#2C708E\",\"#2C718E\",\"#2C728E\",\"#2B738E\",\"#2B748E\",\"#2A758E\",\"#2A768E\",\"#2A778E\",\"#29788E\",\"#29798E\",\"#287A8E\",\"#287A8E\",\"#287B8E\",\"#277C8E\",\"#277D8E\",\"#277E8E\",\"#267F8E\",\"#26808E\",\"#26818E\",\"#25828E\",\"#25838D\",\"#24848D\",\"#24858D\",\"#24868D\",\"#23878D\",\"#23888D\",\"#23898D\",\"#22898D\",\"#228A8D\",\"#228B8D\",\"#218C8D\",\"#218D8C\",\"#218E8C\",\"#208F8C\",\"#20908C\",\"#20918C\",\"#1F928C\",\"#1F938B\",\"#1F948B\",\"#1F958B\",\"#1F968B\",\"#1E978A\",\"#1E988A\",\"#1E998A\",\"#1E998A\",\"#1E9A89\",\"#1E9B89\",\"#1E9C89\",\"#1E9D88\",\"#1E9E88\",\"#1E9F88\",\"#1EA087\",\"#1FA187\",\"#1FA286\",\"#1FA386\",\"#20A485\",\"#20A585\",\"#21A685\",\"#21A784\",\"#22A784\",\"#23A883\",\"#23A982\",\"#24AA82\",\"#25AB81\",\"#26AC81\",\"#27AD80\",\"#28AE7F\",\"#29AF7F\",\"#2AB07E\",\"#2BB17D\",\"#2CB17D\",\"#2EB27C\",\"#2FB37B\",\"#30B47A\",\"#32B57A\",\"#33B679\",\"#35B778\",\"#36B877\",\"#38B976\",\"#39B976\",\"#3BBA75\",\"#3DBB74\",\"#3EBC73\",\"#40BD72\",\"#42BE71\",\"#44BE70\",\"#45BF6F\",\"#47C06E\",\"#49C16D\",\"#4BC26C\",\"#4DC26B\",\"#4FC369\",\"#51C468\",\"#53C567\",\"#55C666\",\"#57C665\",\"#59C764\",\"#5BC862\",\"#5EC961\",\"#60C960\",\"#62CA5F\",\"#64CB5D\",\"#67CC5C\",\"#69CC5B\",\"#6BCD59\",\"#6DCE58\",\"#70CE56\",\"#72CF55\",\"#74D054\",\"#77D052\",\"#79D151\",\"#7CD24F\",\"#7ED24E\",\"#81D34C\",\"#83D34B\",\"#86D449\",\"#88D547\",\"#8BD546\",\"#8DD644\",\"#90D643\",\"#92D741\",\"#95D73F\",\"#97D83E\",\"#9AD83C\",\"#9DD93A\",\"#9FD938\",\"#A2DA37\",\"#A5DA35\",\"#A7DB33\",\"#AADB32\",\"#ADDC30\",\"#AFDC2E\",\"#B2DD2C\",\"#B5DD2B\",\"#B7DD29\",\"#BADE27\",\"#BDDE26\",\"#BFDF24\",\"#C2DF22\",\"#C5DF21\",\"#C7E01F\",\"#CAE01E\",\"#CDE01D\",\"#CFE11C\",\"#D2E11B\",\"#D4E11A\",\"#D7E219\",\"#DAE218\",\"#DCE218\",\"#DFE318\",\"#E1E318\",\"#E4E318\",\"#E7E419\",\"#E9E419\",\"#ECE41A\",\"#EEE51B\",\"#F1E51C\",\"#F3E51E\",\"#F6E61F\",\"#F8E621\",\"#FAE622\",\"#FDE724\"]},\"id\":\"1092\",\"type\":\"LinearColorMapper\"},{\"attributes\":{\"fill_alpha\":{\"value\":0.1},\"fill_color\":{\"field\":\"Value\",\"transform\":{\"id\":\"1092\"}},\"hatch_alpha\":{\"value\":0.1},\"height\":{\"value\":1},\"line_alpha\":{\"value\":0.1},\"line_color\":{\"value\":null},\"width\":{\"value\":1},\"x\":{\"field\":\"category\"},\"y\":{\"field\":\"Nutrient\"}},\"id\":\"1115\",\"type\":\"Rect\"},{\"attributes\":{\"callback\":null,\"tooltips\":[[\"category\",\"@category\"],[\"Nutrient\",\"@Nutrient\"],[\"Value\",\"@Value\"]]},\"id\":\"1110\",\"type\":\"HoverTool\"},{\"attributes\":{},\"id\":\"1108\",\"type\":\"CategoricalTicker\"},{\"attributes\":{\"factors\":[\"Dairy\",\"Fruits\",\"Grains\",\"Meats\",\"Nuts & Seeds\",\"Seafood\",\"Vegetables\"]},\"id\":\"1096\",\"type\":\"FactorRange\"},{\"attributes\":{},\"id\":\"1100\",\"type\":\"CategoricalScale\"},{\"attributes\":{},\"id\":\"1133\",\"type\":\"AllLabels\"},{\"attributes\":{},\"id\":\"1132\",\"type\":\"CategoricalTickFormatter\"},{\"attributes\":{\"coordinates\":null,\"formatter\":{\"id\":\"1132\"},\"group\":null,\"major_label_policy\":{\"id\":\"1133\"},\"ticker\":{\"id\":\"1108\"}},\"id\":\"1107\",\"type\":\"CategoricalAxis\"},{\"attributes\":{},\"id\":\"1138\",\"type\":\"UnionRenderers\"},{\"attributes\":{},\"id\":\"1137\",\"type\":\"AllLabels\"},{\"attributes\":{},\"id\":\"1136\",\"type\":\"CategoricalTickFormatter\"},{\"attributes\":{},\"id\":\"1134\",\"type\":\"NoOverlap\"},{\"attributes\":{},\"id\":\"1105\",\"type\":\"CategoricalTicker\"},{\"attributes\":{},\"id\":\"1139\",\"type\":\"Selection\"},{\"attributes\":{\"source\":{\"id\":\"1091\"}},\"id\":\"1118\",\"type\":\"CDSView\"},{\"attributes\":{\"factors\":[\"carbonhydrate\",\"fat_total\",\"protein\",\"energy\"]},\"id\":\"1098\",\"type\":\"FactorRange\"},{\"attributes\":{\"axis\":{\"id\":\"1104\"},\"coordinates\":null,\"group\":null,\"ticker\":null},\"id\":\"1106\",\"type\":\"Grid\"},{\"attributes\":{},\"id\":\"1102\",\"type\":\"CategoricalScale\"},{\"attributes\":{\"axis\":{\"id\":\"1107\"},\"coordinates\":null,\"dimension\":1,\"group\":null,\"ticker\":null},\"id\":\"1109\",\"type\":\"Grid\"},{\"attributes\":{\"coordinates\":null,\"data_source\":{\"id\":\"1091\"},\"glyph\":{\"id\":\"1114\"},\"group\":null,\"hover_glyph\":null,\"muted_glyph\":{\"id\":\"1116\"},\"nonselection_glyph\":{\"id\":\"1115\"},\"view\":{\"id\":\"1118\"}},\"id\":\"1117\",\"type\":\"GlyphRenderer\"},{\"attributes\":{\"color_mapper\":{\"id\":\"1092\"},\"coordinates\":null,\"group\":null,\"label_standoff\":12,\"major_label_policy\":{\"id\":\"1134\"}},\"id\":\"1119\",\"type\":\"ColorBar\"},{\"attributes\":{\"data\":{\"Nutrient\":[\"energy\",\"energy\",\"energy\",\"energy\",\"energy\",\"energy\",\"energy\",\"energy\",\"energy\",\"energy\",\"energy\",\"energy\",\"energy\",\"energy\",\"energy\",\"energy\",\"energy\",\"energy\",\"energy\",\"energy\",\"energy\",\"energy\",\"energy\",\"energy\",\"energy\",\"energy\",\"energy\",\"energy\",\"energy\",\"energy\",\"energy\",\"energy\",\"energy\",\"energy\",\"energy\",\"energy\",\"energy\",\"energy\",\"energy\",\"energy\",\"energy\",\"energy\",\"energy\",\"energy\",\"energy\",\"energy\",\"energy\",\"energy\",\"energy\",\"energy\",\"energy\",\"energy\",\"energy\",\"energy\",\"energy\",\"energy\",\"energy\",\"energy\",\"energy\",\"energy\",\"energy\",\"energy\",\"energy\",\"energy\",\"energy\",\"energy\",\"energy\",\"energy\",\"energy\",\"energy\",\"energy\",\"energy\",\"energy\",\"energy\",\"energy\",\"energy\",\"energy\",\"energy\",\"energy\",\"energy\",\"energy\",\"energy\",\"energy\",\"energy\",\"energy\",\"energy\",\"energy\",\"energy\",\"energy\",\"energy\",\"energy\",\"energy\",\"energy\",\"energy\",\"energy\",\"energy\",\"energy\",\"energy\",\"energy\",\"energy\",\"energy\",\"energy\",\"energy\",\"energy\",\"energy\",\"energy\",\"energy\",\"energy\",\"energy\",\"energy\",\"energy\",\"energy\",\"energy\",\"energy\",\"energy\",\"energy\",\"energy\",\"energy\",\"energy\",\"energy\",\"energy\",\"energy\",\"energy\",\"energy\",\"energy\",\"energy\",\"energy\",\"energy\",\"energy\",\"energy\",\"energy\",\"energy\",\"energy\",\"energy\",\"energy\",\"energy\",\"energy\",\"energy\",\"energy\",\"energy\",\"energy\",\"energy\",\"energy\",\"energy\",\"energy\",\"energy\",\"energy\",\"energy\",\"energy\",\"energy\",\"energy\",\"energy\",\"energy\",\"energy\",\"energy\",\"energy\",\"energy\",\"energy\",\"energy\",\"energy\",\"energy\",\"energy\",\"energy\",\"energy\",\"energy\",\"energy\",\"energy\",\"energy\",\"energy\",\"energy\",\"energy\",\"energy\",\"energy\",\"energy\",\"energy\",\"energy\",\"energy\",\"energy\",\"energy\",\"energy\",\"energy\",\"energy\",\"energy\",\"energy\",\"energy\",\"energy\",\"energy\",\"energy\",\"energy\",\"energy\",\"energy\",\"energy\",\"energy\",\"energy\",\"energy\",\"energy\",\"energy\",\"energy\",\"energy\",\"energy\",\"energy\",\"energy\",\"energy\",\"energy\",\"energy\",\"energy\",\"energy\",\"energy\",\"energy\",\"energy\",\"energy\",\"energy\",\"energy\",\"energy\",\"energy\",\"energy\",\"energy\",\"energy\",\"energy\",\"energy\",\"energy\",\"energy\",\"energy\",\"energy\",\"energy\",\"energy\",\"energy\",\"energy\",\"energy\",\"energy\",\"energy\",\"energy\",\"energy\",\"energy\",\"energy\",\"energy\",\"energy\",\"energy\",\"energy\",\"energy\",\"energy\",\"energy\",\"energy\",\"energy\",\"energy\",\"energy\",\"energy\",\"energy\",\"energy\",\"energy\",\"energy\",\"energy\",\"energy\",\"energy\",\"energy\",\"energy\",\"energy\",\"energy\",\"energy\",\"energy\",\"energy\",\"energy\",\"energy\",\"energy\",\"energy\",\"energy\",\"energy\",\"energy\",\"energy\",\"energy\",\"energy\",\"energy\",\"energy\",\"energy\",\"energy\",\"energy\",\"energy\",\"energy\",\"energy\",\"energy\",\"energy\",\"energy\",\"energy\",\"energy\",\"energy\",\"energy\",\"energy\",\"energy\",\"energy\",\"energy\",\"energy\",\"energy\",\"energy\",\"energy\",\"energy\",\"energy\",\"energy\",\"energy\",\"energy\",\"energy\",\"energy\",\"energy\",\"energy\",\"energy\",\"energy\",\"energy\",\"energy\",\"energy\",\"energy\",\"energy\",\"energy\",\"energy\",\"energy\",\"energy\",\"energy\",\"energy\",\"energy\",\"energy\",\"energy\",\"energy\",\"energy\",\"energy\",\"energy\",\"energy\",\"energy\",\"energy\",\"energy\",\"energy\",\"energy\",\"energy\",\"energy\",\"energy\",\"energy\",\"energy\",\"energy\",\"energy\",\"energy\",\"energy\",\"energy\",\"energy\",\"energy\",\"energy\",\"energy\",\"energy\",\"energy\",\"energy\",\"energy\",\"energy\",\"energy\",\"energy\",\"energy\",\"energy\",\"energy\",\"energy\",\"energy\",\"energy\",\"energy\",\"energy\",\"energy\",\"energy\",\"energy\",\"energy\",\"energy\",\"energy\",\"energy\",\"energy\",\"energy\",\"energy\",\"energy\",\"energy\",\"energy\",\"energy\",\"energy\",\"energy\",\"energy\",\"energy\",\"energy\",\"energy\",\"energy\",\"energy\",\"energy\",\"energy\",\"energy\",\"energy\",\"energy\",\"energy\",\"energy\",\"energy\",\"energy\",\"energy\",\"energy\",\"energy\",\"energy\",\"energy\",\"energy\",\"energy\",\"energy\",\"energy\",\"energy\",\"energy\",\"energy\",\"energy\",\"energy\",\"energy\",\"energy\",\"energy\",\"energy\",\"energy\",\"energy\",\"energy\",\"energy\",\"energy\",\"energy\",\"energy\",\"energy\",\"energy\",\"energy\",\"energy\",\"energy\",\"energy\",\"energy\",\"energy\",\"energy\",\"energy\",\"energy\",\"energy\",\"energy\",\"energy\",\"energy\",\"energy\",\"energy\",\"energy\",\"energy\",\"energy\",\"energy\",\"energy\",\"energy\",\"energy\",\"energy\",\"energy\",\"energy\",\"energy\",\"energy\",\"energy\",\"energy\",\"energy\",\"energy\",\"energy\",\"energy\",\"energy\",\"energy\",\"energy\",\"energy\",\"energy\",\"energy\",\"energy\",\"energy\",\"energy\",\"energy\",\"energy\",\"energy\",\"energy\",\"energy\",\"energy\",\"energy\",\"energy\",\"energy\",\"energy\",\"energy\",\"energy\",\"energy\",\"energy\",\"energy\",\"energy\",\"energy\",\"energy\",\"energy\",\"energy\",\"energy\",\"energy\",\"energy\",\"energy\",\"energy\",\"energy\",\"energy\",\"energy\",\"energy\",\"energy\",\"energy\",\"energy\",\"energy\",\"energy\",\"energy\",\"energy\",\"energy\",\"energy\",\"energy\",\"energy\",\"energy\",\"energy\",\"energy\",\"energy\",\"energy\",\"energy\",\"energy\",\"energy\",\"energy\",\"energy\",\"energy\",\"energy\",\"energy\",\"energy\",\"energy\",\"energy\",\"energy\",\"energy\",\"energy\",\"energy\",\"energy\",\"energy\",\"energy\",\"energy\",\"energy\",\"energy\",\"energy\",\"energy\",\"energy\",\"energy\",\"energy\",\"energy\",\"energy\",\"energy\",\"energy\",\"energy\",\"energy\",\"energy\",\"energy\",\"energy\",\"energy\",\"energy\",\"energy\",\"energy\",\"energy\",\"energy\",\"energy\",\"energy\",\"energy\",\"energy\",\"energy\",\"energy\",\"energy\",\"energy\",\"energy\",\"energy\",\"energy\",\"energy\",\"energy\",\"energy\",\"energy\",\"energy\",\"energy\",\"energy\",\"energy\",\"energy\",\"energy\",\"energy\",\"energy\",\"energy\",\"energy\",\"energy\",\"energy\",\"energy\",\"energy\",\"energy\",\"energy\",\"energy\",\"energy\",\"energy\",\"energy\",\"energy\",\"energy\",\"energy\",\"energy\",\"energy\",\"energy\",\"energy\",\"energy\",\"energy\",\"energy\",\"energy\",\"energy\",\"energy\",\"energy\",\"energy\",\"energy\",\"energy\",\"energy\",\"energy\",\"energy\",\"energy\",\"energy\",\"energy\",\"energy\",\"energy\",\"energy\",\"energy\",\"energy\",\"energy\",\"energy\",\"energy\",\"energy\",\"energy\",\"energy\",\"energy\",\"energy\",\"energy\",\"energy\",\"energy\",\"energy\",\"energy\",\"energy\",\"energy\",\"energy\",\"energy\",\"energy\",\"energy\",\"energy\",\"energy\",\"energy\",\"energy\",\"energy\",\"energy\",\"energy\",\"energy\",\"energy\",\"energy\",\"energy\",\"energy\",\"energy\",\"energy\",\"energy\",\"energy\",\"energy\",\"energy\",\"energy\",\"energy\",\"energy\",\"energy\",\"energy\",\"energy\",\"energy\",\"energy\",\"energy\",\"energy\",\"energy\",\"energy\",\"energy\",\"energy\",\"energy\",\"energy\",\"energy\",\"energy\",\"energy\",\"energy\",\"energy\",\"energy\",\"energy\",\"energy\",\"energy\",\"energy\",\"energy\",\"energy\",\"energy\",\"energy\",\"energy\",\"energy\",\"energy\",\"energy\",\"energy\",\"energy\",\"energy\",\"energy\",\"energy\",\"energy\",\"energy\",\"energy\",\"energy\",\"energy\",\"energy\",\"energy\",\"energy\",\"energy\",\"energy\",\"energy\",\"energy\",\"energy\",\"energy\",\"energy\",\"energy\",\"energy\",\"protein\",\"protein\",\"protein\",\"protein\",\"protein\",\"protein\",\"protein\",\"protein\",\"protein\",\"protein\",\"protein\",\"protein\",\"protein\",\"protein\",\"protein\",\"protein\",\"protein\",\"protein\",\"protein\",\"protein\",\"protein\",\"protein\",\"protein\",\"protein\",\"protein\",\"protein\",\"protein\",\"protein\",\"protein\",\"protein\",\"protein\",\"protein\",\"protein\",\"protein\",\"protein\",\"protein\",\"protein\",\"protein\",\"protein\",\"protein\",\"protein\",\"protein\",\"protein\",\"protein\",\"protein\",\"protein\",\"protein\",\"protein\",\"protein\",\"protein\",\"protein\",\"protein\",\"protein\",\"protein\",\"protein\",\"protein\",\"protein\",\"protein\",\"protein\",\"protein\",\"protein\",\"protein\",\"protein\",\"protein\",\"protein\",\"protein\",\"protein\",\"protein\",\"protein\",\"protein\",\"protein\",\"protein\",\"protein\",\"protein\",\"protein\",\"protein\",\"protein\",\"protein\",\"protein\",\"protein\",\"protein\",\"protein\",\"protein\",\"protein\",\"protein\",\"protein\",\"protein\",\"protein\",\"protein\",\"protein\",\"protein\",\"protein\",\"protein\",\"protein\",\"protein\",\"protein\",\"protein\",\"protein\",\"protein\",\"protein\",\"protein\",\"protein\",\"protein\",\"protein\",\"protein\",\"protein\",\"protein\",\"protein\",\"protein\",\"protein\",\"protein\",\"protein\",\"protein\",\"protein\",\"protein\",\"protein\",\"protein\",\"protein\",\"protein\",\"protein\",\"protein\",\"protein\",\"protein\",\"protein\",\"protein\",\"protein\",\"protein\",\"protein\",\"protein\",\"protein\",\"protein\",\"protein\",\"protein\",\"protein\",\"protein\",\"protein\",\"protein\",\"protein\",\"protein\",\"protein\",\"protein\",\"protein\",\"protein\",\"protein\",\"protein\",\"protein\",\"protein\",\"protein\",\"protein\",\"protein\",\"protein\",\"protein\",\"protein\",\"protein\",\"protein\",\"protein\",\"protein\",\"protein\",\"protein\",\"protein\",\"protein\",\"protein\",\"protein\",\"protein\",\"protein\",\"protein\",\"protein\",\"protein\",\"protein\",\"protein\",\"protein\",\"protein\",\"protein\",\"protein\",\"protein\",\"protein\",\"protein\",\"protein\",\"protein\",\"protein\",\"protein\",\"protein\",\"protein\",\"protein\",\"protein\",\"protein\",\"protein\",\"protein\",\"protein\",\"protein\",\"protein\",\"protein\",\"protein\",\"protein\",\"protein\",\"protein\",\"protein\",\"protein\",\"protein\",\"protein\",\"protein\",\"protein\",\"protein\",\"protein\",\"protein\",\"protein\",\"protein\",\"protein\",\"protein\",\"protein\",\"protein\",\"protein\",\"protein\",\"protein\",\"protein\",\"protein\",\"protein\",\"protein\",\"protein\",\"protein\",\"protein\",\"protein\",\"protein\",\"protein\",\"protein\",\"protein\",\"protein\",\"protein\",\"protein\",\"protein\",\"protein\",\"protein\",\"protein\",\"protein\",\"protein\",\"protein\",\"protein\",\"protein\",\"protein\",\"protein\",\"protein\",\"protein\",\"protein\",\"protein\",\"protein\",\"protein\",\"protein\",\"protein\",\"protein\",\"protein\",\"protein\",\"protein\",\"protein\",\"protein\",\"protein\",\"protein\",\"protein\",\"protein\",\"protein\",\"protein\",\"protein\",\"protein\",\"protein\",\"protein\",\"protein\",\"protein\",\"protein\",\"protein\",\"protein\",\"protein\",\"protein\",\"protein\",\"protein\",\"protein\",\"protein\",\"protein\",\"protein\",\"protein\",\"protein\",\"protein\",\"protein\",\"protein\",\"protein\",\"protein\",\"protein\",\"protein\",\"protein\",\"protein\",\"protein\",\"protein\",\"protein\",\"protein\",\"protein\",\"protein\",\"protein\",\"protein\",\"protein\",\"protein\",\"protein\",\"protein\",\"protein\",\"protein\",\"protein\",\"protein\",\"protein\",\"protein\",\"protein\",\"protein\",\"protein\",\"protein\",\"protein\",\"protein\",\"protein\",\"protein\",\"protein\",\"protein\",\"protein\",\"protein\",\"protein\",\"protein\",\"protein\",\"protein\",\"protein\",\"protein\",\"protein\",\"protein\",\"protein\",\"protein\",\"protein\",\"protein\",\"protein\",\"protein\",\"protein\",\"protein\",\"protein\",\"protein\",\"protein\",\"protein\",\"protein\",\"protein\",\"protein\",\"protein\",\"protein\",\"protein\",\"protein\",\"protein\",\"protein\",\"protein\",\"protein\",\"protein\",\"protein\",\"protein\",\"protein\",\"protein\",\"protein\",\"protein\",\"protein\",\"protein\",\"protein\",\"protein\",\"protein\",\"protein\",\"protein\",\"protein\",\"protein\",\"protein\",\"protein\",\"protein\",\"protein\",\"protein\",\"protein\",\"protein\",\"protein\",\"protein\",\"protein\",\"protein\",\"protein\",\"protein\",\"protein\",\"protein\",\"protein\",\"protein\",\"protein\",\"protein\",\"protein\",\"protein\",\"protein\",\"protein\",\"protein\",\"protein\",\"protein\",\"protein\",\"protein\",\"protein\",\"protein\",\"protein\",\"protein\",\"protein\",\"protein\",\"protein\",\"protein\",\"protein\",\"protein\",\"protein\",\"protein\",\"protein\",\"protein\",\"protein\",\"protein\",\"protein\",\"protein\",\"protein\",\"protein\",\"protein\",\"protein\",\"protein\",\"protein\",\"protein\",\"protein\",\"protein\",\"protein\",\"protein\",\"protein\",\"protein\",\"protein\",\"protein\",\"protein\",\"protein\",\"protein\",\"protein\",\"protein\",\"protein\",\"protein\",\"protein\",\"protein\",\"protein\",\"protein\",\"protein\",\"protein\",\"protein\",\"protein\",\"protein\",\"protein\",\"protein\",\"protein\",\"protein\",\"protein\",\"protein\",\"protein\",\"protein\",\"protein\",\"protein\",\"protein\",\"protein\",\"protein\",\"protein\",\"protein\",\"protein\",\"protein\",\"protein\",\"protein\",\"protein\",\"protein\",\"protein\",\"protein\",\"protein\",\"protein\",\"protein\",\"protein\",\"protein\",\"protein\",\"protein\",\"protein\",\"protein\",\"protein\",\"protein\",\"protein\",\"protein\",\"protein\",\"protein\",\"protein\",\"protein\",\"protein\",\"protein\",\"protein\",\"protein\",\"protein\",\"protein\",\"protein\",\"protein\",\"protein\",\"protein\",\"protein\",\"protein\",\"protein\",\"protein\",\"protein\",\"protein\",\"protein\",\"protein\",\"protein\",\"protein\",\"protein\",\"protein\",\"protein\",\"protein\",\"protein\",\"protein\",\"protein\",\"protein\",\"protein\",\"protein\",\"protein\",\"protein\",\"protein\",\"protein\",\"protein\",\"protein\",\"protein\",\"protein\",\"protein\",\"protein\",\"protein\",\"protein\",\"protein\",\"protein\",\"protein\",\"protein\",\"protein\",\"protein\",\"protein\",\"protein\",\"protein\",\"protein\",\"protein\",\"protein\",\"protein\",\"protein\",\"protein\",\"protein\",\"protein\",\"protein\",\"protein\",\"protein\",\"protein\",\"protein\",\"protein\",\"protein\",\"protein\",\"protein\",\"protein\",\"protein\",\"protein\",\"protein\",\"protein\",\"protein\",\"protein\",\"protein\",\"protein\",\"protein\",\"protein\",\"protein\",\"protein\",\"protein\",\"protein\",\"protein\",\"protein\",\"protein\",\"protein\",\"protein\",\"protein\",\"protein\",\"protein\",\"protein\",\"protein\",\"protein\",\"protein\",\"protein\",\"protein\",\"protein\",\"protein\",\"protein\",\"protein\",\"protein\",\"protein\",\"protein\",\"protein\",\"protein\",\"protein\",\"protein\",\"protein\",\"protein\",\"protein\",\"protein\",\"protein\",\"protein\",\"protein\",\"protein\",\"protein\",\"protein\",\"protein\",\"protein\",\"protein\",\"protein\",\"protein\",\"protein\",\"protein\",\"protein\",\"protein\",\"protein\",\"protein\",\"protein\",\"protein\",\"protein\",\"protein\",\"protein\",\"protein\",\"protein\",\"protein\",\"protein\",\"protein\",\"protein\",\"protein\",\"protein\",\"protein\",\"protein\",\"protein\",\"protein\",\"protein\",\"protein\",\"protein\",\"protein\",\"protein\",\"protein\",\"protein\",\"protein\",\"protein\",\"protein\",\"protein\",\"protein\",\"protein\",\"protein\",\"protein\",\"protein\",\"protein\",\"protein\",\"protein\",\"protein\",\"protein\",\"protein\",\"protein\",\"protein\",\"protein\",\"protein\",\"protein\",\"protein\",\"protein\",\"protein\",\"protein\",\"protein\",\"protein\",\"protein\",\"protein\",\"protein\",\"protein\",\"protein\",\"protein\",\"protein\",\"protein\",\"protein\",\"protein\",\"protein\",\"protein\",\"protein\",\"protein\",\"protein\",\"protein\",\"protein\",\"protein\",\"protein\",\"protein\",\"protein\",\"protein\",\"protein\",\"protein\",\"protein\",\"protein\",\"protein\",\"protein\",\"protein\",\"protein\",\"protein\",\"protein\",\"protein\",\"protein\",\"protein\",\"protein\",\"protein\",\"protein\",\"protein\",\"fat_total\",\"fat_total\",\"fat_total\",\"fat_total\",\"fat_total\",\"fat_total\",\"fat_total\",\"fat_total\",\"fat_total\",\"fat_total\",\"fat_total\",\"fat_total\",\"fat_total\",\"fat_total\",\"fat_total\",\"fat_total\",\"fat_total\",\"fat_total\",\"fat_total\",\"fat_total\",\"fat_total\",\"fat_total\",\"fat_total\",\"fat_total\",\"fat_total\",\"fat_total\",\"fat_total\",\"fat_total\",\"fat_total\",\"fat_total\",\"fat_total\",\"fat_total\",\"fat_total\",\"fat_total\",\"fat_total\",\"fat_total\",\"fat_total\",\"fat_total\",\"fat_total\",\"fat_total\",\"fat_total\",\"fat_total\",\"fat_total\",\"fat_total\",\"fat_total\",\"fat_total\",\"fat_total\",\"fat_total\",\"fat_total\",\"fat_total\",\"fat_total\",\"fat_total\",\"fat_total\",\"fat_total\",\"fat_total\",\"fat_total\",\"fat_total\",\"fat_total\",\"fat_total\",\"fat_total\",\"fat_total\",\"fat_total\",\"fat_total\",\"fat_total\",\"fat_total\",\"fat_total\",\"fat_total\",\"fat_total\",\"fat_total\",\"fat_total\",\"fat_total\",\"fat_total\",\"fat_total\",\"fat_total\",\"fat_total\",\"fat_total\",\"fat_total\",\"fat_total\",\"fat_total\",\"fat_total\",\"fat_total\",\"fat_total\",\"fat_total\",\"fat_total\",\"fat_total\",\"fat_total\",\"fat_total\",\"fat_total\",\"fat_total\",\"fat_total\",\"fat_total\",\"fat_total\",\"fat_total\",\"fat_total\",\"fat_total\",\"fat_total\",\"fat_total\",\"fat_total\",\"fat_total\",\"fat_total\",\"fat_total\",\"fat_total\",\"fat_total\",\"fat_total\",\"fat_total\",\"fat_total\",\"fat_total\",\"fat_total\",\"fat_total\",\"fat_total\",\"fat_total\",\"fat_total\",\"fat_total\",\"fat_total\",\"fat_total\",\"fat_total\",\"fat_total\",\"fat_total\",\"fat_total\",\"fat_total\",\"fat_total\",\"fat_total\",\"fat_total\",\"fat_total\",\"fat_total\",\"fat_total\",\"fat_total\",\"fat_total\",\"fat_total\",\"fat_total\",\"fat_total\",\"fat_total\",\"fat_total\",\"fat_total\",\"fat_total\",\"fat_total\",\"fat_total\",\"fat_total\",\"fat_total\",\"fat_total\",\"fat_total\",\"fat_total\",\"fat_total\",\"fat_total\",\"fat_total\",\"fat_total\",\"fat_total\",\"fat_total\",\"fat_total\",\"fat_total\",\"fat_total\",\"fat_total\",\"fat_total\",\"fat_total\",\"fat_total\",\"fat_total\",\"fat_total\",\"fat_total\",\"fat_total\",\"fat_total\",\"fat_total\",\"fat_total\",\"fat_total\",\"fat_total\",\"fat_total\",\"fat_total\",\"fat_total\",\"fat_total\",\"fat_total\",\"fat_total\",\"fat_total\",\"fat_total\",\"fat_total\",\"fat_total\",\"fat_total\",\"fat_total\",\"fat_total\",\"fat_total\",\"fat_total\",\"fat_total\",\"fat_total\",\"fat_total\",\"fat_total\",\"fat_total\",\"fat_total\",\"fat_total\",\"fat_total\",\"fat_total\",\"fat_total\",\"fat_total\",\"fat_total\",\"fat_total\",\"fat_total\",\"fat_total\",\"fat_total\",\"fat_total\",\"fat_total\",\"fat_total\",\"fat_total\",\"fat_total\",\"fat_total\",\"fat_total\",\"fat_total\",\"fat_total\",\"fat_total\",\"fat_total\",\"fat_total\",\"fat_total\",\"fat_total\",\"fat_total\",\"fat_total\",\"fat_total\",\"fat_total\",\"fat_total\",\"fat_total\",\"fat_total\",\"fat_total\",\"fat_total\",\"fat_total\",\"fat_total\",\"fat_total\",\"fat_total\",\"fat_total\",\"fat_total\",\"fat_total\",\"fat_total\",\"fat_total\",\"fat_total\",\"fat_total\",\"fat_total\",\"fat_total\",\"fat_total\",\"fat_total\",\"fat_total\",\"fat_total\",\"fat_total\",\"fat_total\",\"fat_total\",\"fat_total\",\"fat_total\",\"fat_total\",\"fat_total\",\"fat_total\",\"fat_total\",\"fat_total\",\"fat_total\",\"fat_total\",\"fat_total\",\"fat_total\",\"fat_total\",\"fat_total\",\"fat_total\",\"fat_total\",\"fat_total\",\"fat_total\",\"fat_total\",\"fat_total\",\"fat_total\",\"fat_total\",\"fat_total\",\"fat_total\",\"fat_total\",\"fat_total\",\"fat_total\",\"fat_total\",\"fat_total\",\"fat_total\",\"fat_total\",\"fat_total\",\"fat_total\",\"fat_total\",\"fat_total\",\"fat_total\",\"fat_total\",\"fat_total\",\"fat_total\",\"fat_total\",\"fat_total\",\"fat_total\",\"fat_total\",\"fat_total\",\"fat_total\",\"fat_total\",\"fat_total\",\"fat_total\",\"fat_total\",\"fat_total\",\"fat_total\",\"fat_total\",\"fat_total\",\"fat_total\",\"fat_total\",\"fat_total\",\"fat_total\",\"fat_total\",\"fat_total\",\"fat_total\",\"fat_total\",\"fat_total\",\"fat_total\",\"fat_total\",\"fat_total\",\"fat_total\",\"fat_total\",\"fat_total\",\"fat_total\",\"fat_total\",\"fat_total\",\"fat_total\",\"fat_total\",\"fat_total\",\"fat_total\",\"fat_total\",\"fat_total\",\"fat_total\",\"fat_total\",\"fat_total\",\"fat_total\",\"fat_total\",\"fat_total\",\"fat_total\",\"fat_total\",\"fat_total\",\"fat_total\",\"fat_total\",\"fat_total\",\"fat_total\",\"fat_total\",\"fat_total\",\"fat_total\",\"fat_total\",\"fat_total\",\"fat_total\",\"fat_total\",\"fat_total\",\"fat_total\",\"fat_total\",\"fat_total\",\"fat_total\",\"fat_total\",\"fat_total\",\"fat_total\",\"fat_total\",\"fat_total\",\"fat_total\",\"fat_total\",\"fat_total\",\"fat_total\",\"fat_total\",\"fat_total\",\"fat_total\",\"fat_total\",\"fat_total\",\"fat_total\",\"fat_total\",\"fat_total\",\"fat_total\",\"fat_total\",\"fat_total\",\"fat_total\",\"fat_total\",\"fat_total\",\"fat_total\",\"fat_total\",\"fat_total\",\"fat_total\",\"fat_total\",\"fat_total\",\"fat_total\",\"fat_total\",\"fat_total\",\"fat_total\",\"fat_total\",\"fat_total\",\"fat_total\",\"fat_total\",\"fat_total\",\"fat_total\",\"fat_total\",\"fat_total\",\"fat_total\",\"fat_total\",\"fat_total\",\"fat_total\",\"fat_total\",\"fat_total\",\"fat_total\",\"fat_total\",\"fat_total\",\"fat_total\",\"fat_total\",\"fat_total\",\"fat_total\",\"fat_total\",\"fat_total\",\"fat_total\",\"fat_total\",\"fat_total\",\"fat_total\",\"fat_total\",\"fat_total\",\"fat_total\",\"fat_total\",\"fat_total\",\"fat_total\",\"fat_total\",\"fat_total\",\"fat_total\",\"fat_total\",\"fat_total\",\"fat_total\",\"fat_total\",\"fat_total\",\"fat_total\",\"fat_total\",\"fat_total\",\"fat_total\",\"fat_total\",\"fat_total\",\"fat_total\",\"fat_total\",\"fat_total\",\"fat_total\",\"fat_total\",\"fat_total\",\"fat_total\",\"fat_total\",\"fat_total\",\"fat_total\",\"fat_total\",\"fat_total\",\"fat_total\",\"fat_total\",\"fat_total\",\"fat_total\",\"fat_total\",\"fat_total\",\"fat_total\",\"fat_total\",\"fat_total\",\"fat_total\",\"fat_total\",\"fat_total\",\"fat_total\",\"fat_total\",\"fat_total\",\"fat_total\",\"fat_total\",\"fat_total\",\"fat_total\",\"fat_total\",\"fat_total\",\"fat_total\",\"fat_total\",\"fat_total\",\"fat_total\",\"fat_total\",\"fat_total\",\"fat_total\",\"fat_total\",\"fat_total\",\"fat_total\",\"fat_total\",\"fat_total\",\"fat_total\",\"fat_total\",\"fat_total\",\"fat_total\",\"fat_total\",\"fat_total\",\"fat_total\",\"fat_total\",\"fat_total\",\"fat_total\",\"fat_total\",\"fat_total\",\"fat_total\",\"fat_total\",\"fat_total\",\"fat_total\",\"fat_total\",\"fat_total\",\"fat_total\",\"fat_total\",\"fat_total\",\"fat_total\",\"fat_total\",\"fat_total\",\"fat_total\",\"fat_total\",\"fat_total\",\"fat_total\",\"fat_total\",\"fat_total\",\"fat_total\",\"fat_total\",\"fat_total\",\"fat_total\",\"fat_total\",\"fat_total\",\"fat_total\",\"fat_total\",\"fat_total\",\"fat_total\",\"fat_total\",\"fat_total\",\"fat_total\",\"fat_total\",\"fat_total\",\"fat_total\",\"fat_total\",\"fat_total\",\"fat_total\",\"fat_total\",\"fat_total\",\"fat_total\",\"fat_total\",\"fat_total\",\"fat_total\",\"fat_total\",\"fat_total\",\"fat_total\",\"fat_total\",\"fat_total\",\"fat_total\",\"fat_total\",\"fat_total\",\"fat_total\",\"fat_total\",\"fat_total\",\"fat_total\",\"fat_total\",\"fat_total\",\"fat_total\",\"fat_total\",\"fat_total\",\"fat_total\",\"fat_total\",\"fat_total\",\"fat_total\",\"fat_total\",\"fat_total\",\"fat_total\",\"fat_total\",\"fat_total\",\"fat_total\",\"fat_total\",\"fat_total\",\"fat_total\",\"fat_total\",\"fat_total\",\"fat_total\",\"fat_total\",\"fat_total\",\"fat_total\",\"fat_total\",\"fat_total\",\"fat_total\",\"fat_total\",\"fat_total\",\"fat_total\",\"fat_total\",\"fat_total\",\"fat_total\",\"fat_total\",\"fat_total\",\"fat_total\",\"fat_total\",\"fat_total\",\"fat_total\",\"fat_total\",\"fat_total\",\"fat_total\",\"fat_total\",\"fat_total\",\"fat_total\",\"fat_total\",\"fat_total\",\"fat_total\",\"fat_total\",\"fat_total\",\"fat_total\",\"fat_total\",\"fat_total\",\"fat_total\",\"fat_total\",\"fat_total\",\"fat_total\",\"fat_total\",\"fat_total\",\"fat_total\",\"fat_total\",\"fat_total\",\"fat_total\",\"fat_total\",\"fat_total\",\"fat_total\",\"fat_total\",\"fat_total\",\"fat_total\",\"fat_total\",\"fat_total\",\"fat_total\",\"fat_total\",\"fat_total\",\"fat_total\",\"fat_total\",\"fat_total\",\"fat_total\",\"fat_total\",\"fat_total\",\"fat_total\",\"fat_total\",\"fat_total\",\"fat_total\",\"fat_total\",\"fat_total\",\"fat_total\",\"fat_total\",\"fat_total\",\"fat_total\",\"fat_total\",\"fat_total\",\"fat_total\",\"fat_total\",\"fat_total\",\"fat_total\",\"fat_total\",\"fat_total\",\"fat_total\",\"fat_total\",\"fat_total\",\"fat_total\",\"fat_total\",\"fat_total\",\"fat_total\",\"fat_total\",\"fat_total\",\"fat_total\",\"fat_total\",\"fat_total\",\"fat_total\",\"fat_total\",\"fat_total\",\"fat_total\",\"fat_total\",\"fat_total\",\"fat_total\",\"fat_total\",\"fat_total\",\"fat_total\",\"fat_total\",\"fat_total\",\"fat_total\",\"fat_total\",\"fat_total\",\"fat_total\",\"fat_total\",\"fat_total\",\"fat_total\",\"fat_total\",\"fat_total\",\"fat_total\",\"fat_total\",\"fat_total\",\"fat_total\",\"fat_total\",\"fat_total\",\"fat_total\",\"fat_total\",\"fat_total\",\"fat_total\",\"fat_total\",\"fat_total\",\"fat_total\",\"fat_total\",\"fat_total\",\"fat_total\",\"fat_total\",\"fat_total\",\"fat_total\",\"fat_total\",\"fat_total\",\"fat_total\",\"fat_total\",\"fat_total\",\"fat_total\",\"fat_total\",\"fat_total\",\"fat_total\",\"fat_total\",\"fat_total\",\"fat_total\",\"fat_total\",\"fat_total\",\"fat_total\",\"fat_total\",\"fat_total\",\"fat_total\",\"fat_total\",\"carbonhydrate\",\"carbonhydrate\",\"carbonhydrate\",\"carbonhydrate\",\"carbonhydrate\",\"carbonhydrate\",\"carbonhydrate\",\"carbonhydrate\",\"carbonhydrate\",\"carbonhydrate\",\"carbonhydrate\",\"carbonhydrate\",\"carbonhydrate\",\"carbonhydrate\",\"carbonhydrate\",\"carbonhydrate\",\"carbonhydrate\",\"carbonhydrate\",\"carbonhydrate\",\"carbonhydrate\",\"carbonhydrate\",\"carbonhydrate\",\"carbonhydrate\",\"carbonhydrate\",\"carbonhydrate\",\"carbonhydrate\",\"carbonhydrate\",\"carbonhydrate\",\"carbonhydrate\",\"carbonhydrate\",\"carbonhydrate\",\"carbonhydrate\",\"carbonhydrate\",\"carbonhydrate\",\"carbonhydrate\",\"carbonhydrate\",\"carbonhydrate\",\"carbonhydrate\",\"carbonhydrate\",\"carbonhydrate\",\"carbonhydrate\",\"carbonhydrate\",\"carbonhydrate\",\"carbonhydrate\",\"carbonhydrate\",\"carbonhydrate\",\"carbonhydrate\",\"carbonhydrate\",\"carbonhydrate\",\"carbonhydrate\",\"carbonhydrate\",\"carbonhydrate\",\"carbonhydrate\",\"carbonhydrate\",\"carbonhydrate\",\"carbonhydrate\",\"carbonhydrate\",\"carbonhydrate\",\"carbonhydrate\",\"carbonhydrate\",\"carbonhydrate\",\"carbonhydrate\",\"carbonhydrate\",\"carbonhydrate\",\"carbonhydrate\",\"carbonhydrate\",\"carbonhydrate\",\"carbonhydrate\",\"carbonhydrate\",\"carbonhydrate\",\"carbonhydrate\",\"carbonhydrate\",\"carbonhydrate\",\"carbonhydrate\",\"carbonhydrate\",\"carbonhydrate\",\"carbonhydrate\",\"carbonhydrate\",\"carbonhydrate\",\"carbonhydrate\",\"carbonhydrate\",\"carbonhydrate\",\"carbonhydrate\",\"carbonhydrate\",\"carbonhydrate\",\"carbonhydrate\",\"carbonhydrate\",\"carbonhydrate\",\"carbonhydrate\",\"carbonhydrate\",\"carbonhydrate\",\"carbonhydrate\",\"carbonhydrate\",\"carbonhydrate\",\"carbonhydrate\",\"carbonhydrate\",\"carbonhydrate\",\"carbonhydrate\",\"carbonhydrate\",\"carbonhydrate\",\"carbonhydrate\",\"carbonhydrate\",\"carbonhydrate\",\"carbonhydrate\",\"carbonhydrate\",\"carbonhydrate\",\"carbonhydrate\",\"carbonhydrate\",\"carbonhydrate\",\"carbonhydrate\",\"carbonhydrate\",\"carbonhydrate\",\"carbonhydrate\",\"carbonhydrate\",\"carbonhydrate\",\"carbonhydrate\",\"carbonhydrate\",\"carbonhydrate\",\"carbonhydrate\",\"carbonhydrate\",\"carbonhydrate\",\"carbonhydrate\",\"carbonhydrate\",\"carbonhydrate\",\"carbonhydrate\",\"carbonhydrate\",\"carbonhydrate\",\"carbonhydrate\",\"carbonhydrate\",\"carbonhydrate\",\"carbonhydrate\",\"carbonhydrate\",\"carbonhydrate\",\"carbonhydrate\",\"carbonhydrate\",\"carbonhydrate\",\"carbonhydrate\",\"carbonhydrate\",\"carbonhydrate\",\"carbonhydrate\",\"carbonhydrate\",\"carbonhydrate\",\"carbonhydrate\",\"carbonhydrate\",\"carbonhydrate\",\"carbonhydrate\",\"carbonhydrate\",\"carbonhydrate\",\"carbonhydrate\",\"carbonhydrate\",\"carbonhydrate\",\"carbonhydrate\",\"carbonhydrate\",\"carbonhydrate\",\"carbonhydrate\",\"carbonhydrate\",\"carbonhydrate\",\"carbonhydrate\",\"carbonhydrate\",\"carbonhydrate\",\"carbonhydrate\",\"carbonhydrate\",\"carbonhydrate\",\"carbonhydrate\",\"carbonhydrate\",\"carbonhydrate\",\"carbonhydrate\",\"carbonhydrate\",\"carbonhydrate\",\"carbonhydrate\",\"carbonhydrate\",\"carbonhydrate\",\"carbonhydrate\",\"carbonhydrate\",\"carbonhydrate\",\"carbonhydrate\",\"carbonhydrate\",\"carbonhydrate\",\"carbonhydrate\",\"carbonhydrate\",\"carbonhydrate\",\"carbonhydrate\",\"carbonhydrate\",\"carbonhydrate\",\"carbonhydrate\",\"carbonhydrate\",\"carbonhydrate\",\"carbonhydrate\",\"carbonhydrate\",\"carbonhydrate\",\"carbonhydrate\",\"carbonhydrate\",\"carbonhydrate\",\"carbonhydrate\",\"carbonhydrate\",\"carbonhydrate\",\"carbonhydrate\",\"carbonhydrate\",\"carbonhydrate\",\"carbonhydrate\",\"carbonhydrate\",\"carbonhydrate\",\"carbonhydrate\",\"carbonhydrate\",\"carbonhydrate\",\"carbonhydrate\",\"carbonhydrate\",\"carbonhydrate\",\"carbonhydrate\",\"carbonhydrate\",\"carbonhydrate\",\"carbonhydrate\",\"carbonhydrate\",\"carbonhydrate\",\"carbonhydrate\",\"carbonhydrate\",\"carbonhydrate\",\"carbonhydrate\",\"carbonhydrate\",\"carbonhydrate\",\"carbonhydrate\",\"carbonhydrate\",\"carbonhydrate\",\"carbonhydrate\",\"carbonhydrate\",\"carbonhydrate\",\"carbonhydrate\",\"carbonhydrate\",\"carbonhydrate\",\"carbonhydrate\",\"carbonhydrate\",\"carbonhydrate\",\"carbonhydrate\",\"carbonhydrate\",\"carbonhydrate\",\"carbonhydrate\",\"carbonhydrate\",\"carbonhydrate\",\"carbonhydrate\",\"carbonhydrate\",\"carbonhydrate\",\"carbonhydrate\",\"carbonhydrate\",\"carbonhydrate\",\"carbonhydrate\",\"carbonhydrate\",\"carbonhydrate\",\"carbonhydrate\",\"carbonhydrate\",\"carbonhydrate\",\"carbonhydrate\",\"carbonhydrate\",\"carbonhydrate\",\"carbonhydrate\",\"carbonhydrate\",\"carbonhydrate\",\"carbonhydrate\",\"carbonhydrate\",\"carbonhydrate\",\"carbonhydrate\",\"carbonhydrate\",\"carbonhydrate\",\"carbonhydrate\",\"carbonhydrate\",\"carbonhydrate\",\"carbonhydrate\",\"carbonhydrate\",\"carbonhydrate\",\"carbonhydrate\",\"carbonhydrate\",\"carbonhydrate\",\"carbonhydrate\",\"carbonhydrate\",\"carbonhydrate\",\"carbonhydrate\",\"carbonhydrate\",\"carbonhydrate\",\"carbonhydrate\",\"carbonhydrate\",\"carbonhydrate\",\"carbonhydrate\",\"carbonhydrate\",\"carbonhydrate\",\"carbonhydrate\",\"carbonhydrate\",\"carbonhydrate\",\"carbonhydrate\",\"carbonhydrate\",\"carbonhydrate\",\"carbonhydrate\",\"carbonhydrate\",\"carbonhydrate\",\"carbonhydrate\",\"carbonhydrate\",\"carbonhydrate\",\"carbonhydrate\",\"carbonhydrate\",\"carbonhydrate\",\"carbonhydrate\",\"carbonhydrate\",\"carbonhydrate\",\"carbonhydrate\",\"carbonhydrate\",\"carbonhydrate\",\"carbonhydrate\",\"carbonhydrate\",\"carbonhydrate\",\"carbonhydrate\",\"carbonhydrate\",\"carbonhydrate\",\"carbonhydrate\",\"carbonhydrate\",\"carbonhydrate\",\"carbonhydrate\",\"carbonhydrate\",\"carbonhydrate\",\"carbonhydrate\",\"carbonhydrate\",\"carbonhydrate\",\"carbonhydrate\",\"carbonhydrate\",\"carbonhydrate\",\"carbonhydrate\",\"carbonhydrate\",\"carbonhydrate\",\"carbonhydrate\",\"carbonhydrate\",\"carbonhydrate\",\"carbonhydrate\",\"carbonhydrate\",\"carbonhydrate\",\"carbonhydrate\",\"carbonhydrate\",\"carbonhydrate\",\"carbonhydrate\",\"carbonhydrate\",\"carbonhydrate\",\"carbonhydrate\",\"carbonhydrate\",\"carbonhydrate\",\"carbonhydrate\",\"carbonhydrate\",\"carbonhydrate\",\"carbonhydrate\",\"carbonhydrate\",\"carbonhydrate\",\"carbonhydrate\",\"carbonhydrate\",\"carbonhydrate\",\"carbonhydrate\",\"carbonhydrate\",\"carbonhydrate\",\"carbonhydrate\",\"carbonhydrate\",\"carbonhydrate\",\"carbonhydrate\",\"carbonhydrate\",\"carbonhydrate\",\"carbonhydrate\",\"carbonhydrate\",\"carbonhydrate\",\"carbonhydrate\",\"carbonhydrate\",\"carbonhydrate\",\"carbonhydrate\",\"carbonhydrate\",\"carbonhydrate\",\"carbonhydrate\",\"carbonhydrate\",\"carbonhydrate\",\"carbonhydrate\",\"carbonhydrate\",\"carbonhydrate\",\"carbonhydrate\",\"carbonhydrate\",\"carbonhydrate\",\"carbonhydrate\",\"carbonhydrate\",\"carbonhydrate\",\"carbonhydrate\",\"carbonhydrate\",\"carbonhydrate\",\"carbonhydrate\",\"carbonhydrate\",\"carbonhydrate\",\"carbonhydrate\",\"carbonhydrate\",\"carbonhydrate\",\"carbonhydrate\",\"carbonhydrate\",\"carbonhydrate\",\"carbonhydrate\",\"carbonhydrate\",\"carbonhydrate\",\"carbonhydrate\",\"carbonhydrate\",\"carbonhydrate\",\"carbonhydrate\",\"carbonhydrate\",\"carbonhydrate\",\"carbonhydrate\",\"carbonhydrate\",\"carbonhydrate\",\"carbonhydrate\",\"carbonhydrate\",\"carbonhydrate\",\"carbonhydrate\",\"carbonhydrate\",\"carbonhydrate\",\"carbonhydrate\",\"carbonhydrate\",\"carbonhydrate\",\"carbonhydrate\",\"carbonhydrate\",\"carbonhydrate\",\"carbonhydrate\",\"carbonhydrate\",\"carbonhydrate\",\"carbonhydrate\",\"carbonhydrate\",\"carbonhydrate\",\"carbonhydrate\",\"carbonhydrate\",\"carbonhydrate\",\"carbonhydrate\",\"carbonhydrate\",\"carbonhydrate\",\"carbonhydrate\",\"carbonhydrate\",\"carbonhydrate\",\"carbonhydrate\",\"carbonhydrate\",\"carbonhydrate\",\"carbonhydrate\",\"carbonhydrate\",\"carbonhydrate\",\"carbonhydrate\",\"carbonhydrate\",\"carbonhydrate\",\"carbonhydrate\",\"carbonhydrate\",\"carbonhydrate\",\"carbonhydrate\",\"carbonhydrate\",\"carbonhydrate\",\"carbonhydrate\",\"carbonhydrate\",\"carbonhydrate\",\"carbonhydrate\",\"carbonhydrate\",\"carbonhydrate\",\"carbonhydrate\",\"carbonhydrate\",\"carbonhydrate\",\"carbonhydrate\",\"carbonhydrate\",\"carbonhydrate\",\"carbonhydrate\",\"carbonhydrate\",\"carbonhydrate\",\"carbonhydrate\",\"carbonhydrate\",\"carbonhydrate\",\"carbonhydrate\",\"carbonhydrate\",\"carbonhydrate\",\"carbonhydrate\",\"carbonhydrate\",\"carbonhydrate\",\"carbonhydrate\",\"carbonhydrate\",\"carbonhydrate\",\"carbonhydrate\",\"carbonhydrate\",\"carbonhydrate\",\"carbonhydrate\",\"carbonhydrate\",\"carbonhydrate\",\"carbonhydrate\",\"carbonhydrate\",\"carbonhydrate\",\"carbonhydrate\",\"carbonhydrate\",\"carbonhydrate\",\"carbonhydrate\",\"carbonhydrate\",\"carbonhydrate\",\"carbonhydrate\",\"carbonhydrate\",\"carbonhydrate\",\"carbonhydrate\",\"carbonhydrate\",\"carbonhydrate\",\"carbonhydrate\",\"carbonhydrate\",\"carbonhydrate\",\"carbonhydrate\",\"carbonhydrate\",\"carbonhydrate\",\"carbonhydrate\",\"carbonhydrate\",\"carbonhydrate\",\"carbonhydrate\",\"carbonhydrate\",\"carbonhydrate\",\"carbonhydrate\",\"carbonhydrate\",\"carbonhydrate\",\"carbonhydrate\",\"carbonhydrate\",\"carbonhydrate\",\"carbonhydrate\",\"carbonhydrate\",\"carbonhydrate\",\"carbonhydrate\",\"carbonhydrate\",\"carbonhydrate\",\"carbonhydrate\",\"carbonhydrate\",\"carbonhydrate\",\"carbonhydrate\",\"carbonhydrate\",\"carbonhydrate\",\"carbonhydrate\",\"carbonhydrate\",\"carbonhydrate\",\"carbonhydrate\",\"carbonhydrate\",\"carbonhydrate\",\"carbonhydrate\",\"carbonhydrate\",\"carbonhydrate\",\"carbonhydrate\",\"carbonhydrate\",\"carbonhydrate\",\"carbonhydrate\",\"carbonhydrate\",\"carbonhydrate\",\"carbonhydrate\",\"carbonhydrate\",\"carbonhydrate\",\"carbonhydrate\",\"carbonhydrate\",\"carbonhydrate\",\"carbonhydrate\",\"carbonhydrate\",\"carbonhydrate\",\"carbonhydrate\",\"carbonhydrate\",\"carbonhydrate\",\"carbonhydrate\",\"carbonhydrate\",\"carbonhydrate\",\"carbonhydrate\",\"carbonhydrate\",\"carbonhydrate\",\"carbonhydrate\",\"carbonhydrate\",\"carbonhydrate\",\"carbonhydrate\",\"carbonhydrate\",\"carbonhydrate\",\"carbonhydrate\",\"carbonhydrate\",\"carbonhydrate\",\"carbonhydrate\",\"carbonhydrate\",\"carbonhydrate\",\"carbonhydrate\",\"carbonhydrate\",\"carbonhydrate\",\"carbonhydrate\",\"carbonhydrate\",\"carbonhydrate\",\"carbonhydrate\",\"carbonhydrate\",\"carbonhydrate\",\"carbonhydrate\",\"carbonhydrate\",\"carbonhydrate\",\"carbonhydrate\",\"carbonhydrate\",\"carbonhydrate\",\"carbonhydrate\",\"carbonhydrate\",\"carbonhydrate\",\"carbonhydrate\",\"carbonhydrate\",\"carbonhydrate\",\"carbonhydrate\",\"carbonhydrate\",\"carbonhydrate\",\"carbonhydrate\",\"carbonhydrate\",\"carbonhydrate\",\"carbonhydrate\",\"carbonhydrate\",\"carbonhydrate\",\"carbonhydrate\",\"carbonhydrate\",\"carbonhydrate\",\"carbonhydrate\",\"carbonhydrate\",\"carbonhydrate\",\"carbonhydrate\",\"carbonhydrate\",\"carbonhydrate\",\"carbonhydrate\",\"carbonhydrate\",\"carbonhydrate\",\"carbonhydrate\",\"carbonhydrate\",\"carbonhydrate\",\"carbonhydrate\",\"carbonhydrate\",\"carbonhydrate\",\"carbonhydrate\",\"carbonhydrate\",\"carbonhydrate\",\"carbonhydrate\",\"carbonhydrate\",\"carbonhydrate\",\"carbonhydrate\",\"carbonhydrate\",\"carbonhydrate\",\"carbonhydrate\",\"carbonhydrate\",\"carbonhydrate\",\"carbonhydrate\",\"carbonhydrate\",\"carbonhydrate\",\"carbonhydrate\",\"carbonhydrate\",\"carbonhydrate\",\"carbonhydrate\",\"carbonhydrate\",\"carbonhydrate\",\"carbonhydrate\",\"carbonhydrate\",\"carbonhydrate\",\"carbonhydrate\",\"carbonhydrate\",\"carbonhydrate\",\"carbonhydrate\",\"carbonhydrate\",\"carbonhydrate\",\"carbonhydrate\",\"carbonhydrate\",\"carbonhydrate\",\"carbonhydrate\",\"carbonhydrate\",\"carbonhydrate\",\"carbonhydrate\",\"carbonhydrate\",\"carbonhydrate\",\"carbonhydrate\",\"carbonhydrate\",\"carbonhydrate\",\"carbonhydrate\",\"carbonhydrate\",\"carbonhydrate\",\"carbonhydrate\",\"carbonhydrate\",\"carbonhydrate\",\"carbonhydrate\",\"carbonhydrate\",\"carbonhydrate\",\"carbonhydrate\",\"carbonhydrate\",\"carbonhydrate\",\"carbonhydrate\",\"carbonhydrate\",\"carbonhydrate\",\"carbonhydrate\",\"carbonhydrate\",\"carbonhydrate\",\"carbonhydrate\",\"carbonhydrate\",\"carbonhydrate\",\"carbonhydrate\",\"carbonhydrate\",\"carbonhydrate\",\"carbonhydrate\",\"carbonhydrate\",\"carbonhydrate\",\"carbonhydrate\",\"carbonhydrate\",\"carbonhydrate\",\"carbonhydrate\",\"carbonhydrate\",\"carbonhydrate\",\"carbonhydrate\",\"carbonhydrate\",\"carbonhydrate\",\"carbonhydrate\",\"carbonhydrate\",\"carbonhydrate\",\"carbonhydrate\",\"carbonhydrate\",\"carbonhydrate\"],\"Value\":{\"__ndarray__\":\"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\",\"dtype\":\"float64\",\"order\":\"little\",\"shape\":[2800]},\"category\":[\"Dairy\",\"Dairy\",\"Dairy\",\"Dairy\",\"Dairy\",\"Dairy\",\"Dairy\",\"Dairy\",\"Dairy\",\"Dairy\",\"Dairy\",\"Dairy\",\"Dairy\",\"Dairy\",\"Dairy\",\"Dairy\",\"Dairy\",\"Dairy\",\"Dairy\",\"Dairy\",\"Dairy\",\"Dairy\",\"Dairy\",\"Dairy\",\"Dairy\",\"Dairy\",\"Dairy\",\"Dairy\",\"Dairy\",\"Dairy\",\"Dairy\",\"Dairy\",\"Dairy\",\"Dairy\",\"Dairy\",\"Dairy\",\"Dairy\",\"Dairy\",\"Dairy\",\"Dairy\",\"Dairy\",\"Dairy\",\"Dairy\",\"Dairy\",\"Dairy\",\"Dairy\",\"Dairy\",\"Dairy\",\"Dairy\",\"Dairy\",\"Dairy\",\"Dairy\",\"Dairy\",\"Dairy\",\"Dairy\",\"Dairy\",\"Dairy\",\"Dairy\",\"Dairy\",\"Dairy\",\"Dairy\",\"Dairy\",\"Dairy\",\"Dairy\",\"Dairy\",\"Dairy\",\"Dairy\",\"Dairy\",\"Dairy\",\"Dairy\",\"Dairy\",\"Dairy\",\"Dairy\",\"Dairy\",\"Dairy\",\"Dairy\",\"Dairy\",\"Dairy\",\"Dairy\",\"Dairy\",\"Dairy\",\"Dairy\",\"Dairy\",\"Dairy\",\"Dairy\",\"Dairy\",\"Dairy\",\"Dairy\",\"Dairy\",\"Dairy\",\"Dairy\",\"Dairy\",\"Dairy\",\"Dairy\",\"Dairy\",\"Dairy\",\"Dairy\",\"Dairy\",\"Dairy\",\"Dairy\",\"Fruits\",\"Fruits\",\"Fruits\",\"Fruits\",\"Fruits\",\"Fruits\",\"Fruits\",\"Fruits\",\"Fruits\",\"Fruits\",\"Fruits\",\"Fruits\",\"Fruits\",\"Fruits\",\"Fruits\",\"Fruits\",\"Fruits\",\"Fruits\",\"Fruits\",\"Fruits\",\"Fruits\",\"Fruits\",\"Fruits\",\"Fruits\",\"Fruits\",\"Fruits\",\"Fruits\",\"Fruits\",\"Fruits\",\"Fruits\",\"Fruits\",\"Fruits\",\"Fruits\",\"Fruits\",\"Fruits\",\"Fruits\",\"Fruits\",\"Fruits\",\"Fruits\",\"Fruits\",\"Fruits\",\"Fruits\",\"Fruits\",\"Fruits\",\"Fruits\",\"Fruits\",\"Fruits\",\"Fruits\",\"Fruits\",\"Fruits\",\"Fruits\",\"Fruits\",\"Fruits\",\"Fruits\",\"Fruits\",\"Fruits\",\"Fruits\",\"Fruits\",\"Fruits\",\"Fruits\",\"Fruits\",\"Fruits\",\"Fruits\",\"Fruits\",\"Fruits\",\"Fruits\",\"Fruits\",\"Fruits\",\"Fruits\",\"Fruits\",\"Fruits\",\"Fruits\",\"Fruits\",\"Fruits\",\"Fruits\",\"Fruits\",\"Fruits\",\"Fruits\",\"Fruits\",\"Fruits\",\"Fruits\",\"Fruits\",\"Fruits\",\"Fruits\",\"Fruits\",\"Fruits\",\"Fruits\",\"Fruits\",\"Fruits\",\"Fruits\",\"Fruits\",\"Fruits\",\"Fruits\",\"Fruits\",\"Fruits\",\"Fruits\",\"Fruits\",\"Fruits\",\"Fruits\",\"Fruits\",\"Grains\",\"Grains\",\"Grains\",\"Grains\",\"Grains\",\"Grains\",\"Grains\",\"Grains\",\"Grains\",\"Grains\",\"Grains\",\"Grains\",\"Grains\",\"Grains\",\"Grains\",\"Grains\",\"Grains\",\"Grains\",\"Grains\",\"Grains\",\"Grains\",\"Grains\",\"Grains\",\"Grains\",\"Grains\",\"Grains\",\"Grains\",\"Grains\",\"Grains\",\"Grains\",\"Grains\",\"Grains\",\"Grains\",\"Grains\",\"Grains\",\"Grains\",\"Grains\",\"Grains\",\"Grains\",\"Grains\",\"Grains\",\"Grains\",\"Grains\",\"Grains\",\"Grains\",\"Grains\",\"Grains\",\"Grains\",\"Grains\",\"Grains\",\"Grains\",\"Grains\",\"Grains\",\"Grains\",\"Grains\",\"Grains\",\"Grains\",\"Grains\",\"Grains\",\"Grains\",\"Grains\",\"Grains\",\"Grains\",\"Grains\",\"Grains\",\"Grains\",\"Grains\",\"Grains\",\"Grains\",\"Grains\",\"Grains\",\"Grains\",\"Grains\",\"Grains\",\"Grains\",\"Grains\",\"Grains\",\"Grains\",\"Grains\",\"Grains\",\"Grains\",\"Grains\",\"Grains\",\"Grains\",\"Grains\",\"Grains\",\"Grains\",\"Grains\",\"Grains\",\"Grains\",\"Grains\",\"Grains\",\"Grains\",\"Grains\",\"Grains\",\"Grains\",\"Grains\",\"Grains\",\"Grains\",\"Grains\",\"Meats\",\"Meats\",\"Meats\",\"Meats\",\"Meats\",\"Meats\",\"Meats\",\"Meats\",\"Meats\",\"Meats\",\"Meats\",\"Meats\",\"Meats\",\"Meats\",\"Meats\",\"Meats\",\"Meats\",\"Meats\",\"Meats\",\"Meats\",\"Meats\",\"Meats\",\"Meats\",\"Meats\",\"Meats\",\"Meats\",\"Meats\",\"Meats\",\"Meats\",\"Meats\",\"Meats\",\"Meats\",\"Meats\",\"Meats\",\"Meats\",\"Meats\",\"Meats\",\"Meats\",\"Meats\",\"Meats\",\"Meats\",\"Meats\",\"Meats\",\"Meats\",\"Meats\",\"Meats\",\"Meats\",\"Meats\",\"Meats\",\"Meats\",\"Meats\",\"Meats\",\"Meats\",\"Meats\",\"Meats\",\"Meats\",\"Meats\",\"Meats\",\"Meats\",\"Meats\",\"Meats\",\"Meats\",\"Meats\",\"Meats\",\"Meats\",\"Meats\",\"Meats\",\"Meats\",\"Meats\",\"Meats\",\"Meats\",\"Meats\",\"Meats\",\"Meats\",\"Meats\",\"Meats\",\"Meats\",\"Meats\",\"Meats\",\"Meats\",\"Meats\",\"Meats\",\"Meats\",\"Meats\",\"Meats\",\"Meats\",\"Meats\",\"Meats\",\"Meats\",\"Meats\",\"Meats\",\"Meats\",\"Meats\",\"Meats\",\"Meats\",\"Meats\",\"Meats\",\"Meats\",\"Meats\",\"Meats\",\"Nuts & Seeds\",\"Nuts & Seeds\",\"Nuts & Seeds\",\"Nuts & Seeds\",\"Nuts & Seeds\",\"Nuts & Seeds\",\"Nuts & Seeds\",\"Nuts & Seeds\",\"Nuts & Seeds\",\"Nuts & Seeds\",\"Nuts & Seeds\",\"Nuts & Seeds\",\"Nuts & Seeds\",\"Nuts & Seeds\",\"Nuts & Seeds\",\"Nuts & Seeds\",\"Nuts & Seeds\",\"Nuts & Seeds\",\"Nuts & Seeds\",\"Nuts & Seeds\",\"Nuts & Seeds\",\"Nuts & Seeds\",\"Nuts & Seeds\",\"Nuts & Seeds\",\"Nuts & Seeds\",\"Nuts & Seeds\",\"Nuts & Seeds\",\"Nuts & Seeds\",\"Nuts & Seeds\",\"Nuts & Seeds\",\"Nuts & Seeds\",\"Nuts & Seeds\",\"Nuts & Seeds\",\"Nuts & Seeds\",\"Nuts & Seeds\",\"Nuts & Seeds\",\"Nuts & Seeds\",\"Nuts & Seeds\",\"Nuts & Seeds\",\"Nuts & Seeds\",\"Nuts & Seeds\",\"Nuts & Seeds\",\"Nuts & Seeds\",\"Nuts & Seeds\",\"Nuts & Seeds\",\"Nuts & Seeds\",\"Nuts & Seeds\",\"Nuts & Seeds\",\"Nuts & Seeds\",\"Nuts & Seeds\",\"Nuts & Seeds\",\"Nuts & Seeds\",\"Nuts & Seeds\",\"Nuts & Seeds\",\"Nuts & Seeds\",\"Nuts & Seeds\",\"Nuts & Seeds\",\"Nuts & Seeds\",\"Nuts & Seeds\",\"Nuts & Seeds\",\"Nuts & Seeds\",\"Nuts & Seeds\",\"Nuts & Seeds\",\"Nuts & Seeds\",\"Nuts & Seeds\",\"Nuts & Seeds\",\"Nuts & Seeds\",\"Nuts & Seeds\",\"Nuts & Seeds\",\"Nuts & Seeds\",\"Nuts & Seeds\",\"Nuts & Seeds\",\"Nuts & Seeds\",\"Nuts & Seeds\",\"Nuts & Seeds\",\"Nuts & Seeds\",\"Nuts & Seeds\",\"Nuts & Seeds\",\"Nuts & Seeds\",\"Nuts & Seeds\",\"Nuts & Seeds\",\"Nuts & Seeds\",\"Nuts & Seeds\",\"Nuts & Seeds\",\"Nuts & Seeds\",\"Nuts & Seeds\",\"Nuts & Seeds\",\"Nuts & Seeds\",\"Nuts & Seeds\",\"Nuts & Seeds\",\"Nuts & Seeds\",\"Nuts & Seeds\",\"Nuts & Seeds\",\"Nuts & Seeds\",\"Nuts & Seeds\",\"Nuts & Seeds\",\"Nuts & Seeds\",\"Nuts & Seeds\",\"Nuts & Seeds\",\"Nuts & Seeds\",\"Seafood\",\"Seafood\",\"Seafood\",\"Seafood\",\"Seafood\",\"Seafood\",\"Seafood\",\"Seafood\",\"Seafood\",\"Seafood\",\"Seafood\",\"Seafood\",\"Seafood\",\"Seafood\",\"Seafood\",\"Seafood\",\"Seafood\",\"Seafood\",\"Seafood\",\"Seafood\",\"Seafood\",\"Seafood\",\"Seafood\",\"Seafood\",\"Seafood\",\"Seafood\",\"Seafood\",\"Seafood\",\"Seafood\",\"Seafood\",\"Seafood\",\"Seafood\",\"Seafood\",\"Seafood\",\"Seafood\",\"Seafood\",\"Seafood\",\"Seafood\",\"Seafood\",\"Seafood\",\"Seafood\",\"Seafood\",\"Seafood\",\"Seafood\",\"Seafood\",\"Seafood\",\"Seafood\",\"Seafood\",\"Seafood\",\"Seafood\",\"Seafood\",\"Seafood\",\"Seafood\",\"Seafood\",\"Seafood\",\"Seafood\",\"Seafood\",\"Seafood\",\"Seafood\",\"Seafood\",\"Seafood\",\"Seafood\",\"Seafood\",\"Seafood\",\"Seafood\",\"Seafood\",\"Seafood\",\"Seafood\",\"Seafood\",\"Seafood\",\"Seafood\",\"Seafood\",\"Seafood\",\"Seafood\",\"Seafood\",\"Seafood\",\"Seafood\",\"Seafood\",\"Seafood\",\"Seafood\",\"Seafood\",\"Seafood\",\"Seafood\",\"Seafood\",\"Seafood\",\"Seafood\",\"Seafood\",\"Seafood\",\"Seafood\",\"Seafood\",\"Seafood\",\"Seafood\",\"Seafood\",\"Seafood\",\"Seafood\",\"Seafood\",\"Seafood\",\"Seafood\",\"Seafood\",\"Seafood\",\"Vegetables\",\"Vegetables\",\"Vegetables\",\"Vegetables\",\"Vegetables\",\"Vegetables\",\"Vegetables\",\"Vegetables\",\"Vegetables\",\"Vegetables\",\"Vegetables\",\"Vegetables\",\"Vegetables\",\"Vegetables\",\"Vegetables\",\"Vegetables\",\"Vegetables\",\"Vegetables\",\"Vegetables\",\"Vegetables\",\"Vegetables\",\"Vegetables\",\"Vegetables\",\"Vegetables\",\"Vegetables\",\"Vegetables\",\"Vegetables\",\"Vegetables\",\"Vegetables\",\"Vegetables\",\"Vegetables\",\"Vegetables\",\"Vegetables\",\"Vegetables\",\"Vegetables\",\"Vegetables\",\"Vegetables\",\"Vegetables\",\"Vegetables\",\"Vegetables\",\"Vegetables\",\"Vegetables\",\"Vegetables\",\"Vegetables\",\"Vegetables\",\"Vegetables\",\"Vegetables\",\"Vegetables\",\"Vegetables\",\"Vegetables\",\"Vegetables\",\"Vegetables\",\"Vegetables\",\"Vegetables\",\"Vegetables\",\"Vegetables\",\"Vegetables\",\"Vegetables\",\"Vegetables\",\"Vegetables\",\"Vegetables\",\"Vegetables\",\"Vegetables\",\"Vegetables\",\"Vegetables\",\"Vegetables\",\"Vegetables\",\"Vegetables\",\"Vegetables\",\"Vegetables\",\"Vegetables\",\"Vegetables\",\"Vegetables\",\"Vegetables\",\"Vegetables\",\"Vegetables\",\"Vegetables\",\"Vegetables\",\"Vegetables\",\"Vegetables\",\"Vegetables\",\"Vegetables\",\"Vegetables\",\"Vegetables\",\"Vegetables\",\"Vegetables\",\"Vegetables\",\"Vegetables\",\"Vegetables\",\"Vegetables\",\"Vegetables\",\"Vegetables\",\"Vegetables\",\"Vegetables\",\"Vegetables\",\"Vegetables\",\"Vegetables\",\"Vegetables\",\"Vegetables\",\"Vegetables\",\"Dairy\",\"Dairy\",\"Dairy\",\"Dairy\",\"Dairy\",\"Dairy\",\"Dairy\",\"Dairy\",\"Dairy\",\"Dairy\",\"Dairy\",\"Dairy\",\"Dairy\",\"Dairy\",\"Dairy\",\"Dairy\",\"Dairy\",\"Dairy\",\"Dairy\",\"Dairy\",\"Dairy\",\"Dairy\",\"Dairy\",\"Dairy\",\"Dairy\",\"Dairy\",\"Dairy\",\"Dairy\",\"Dairy\",\"Dairy\",\"Dairy\",\"Dairy\",\"Dairy\",\"Dairy\",\"Dairy\",\"Dairy\",\"Dairy\",\"Dairy\",\"Dairy\",\"Dairy\",\"Dairy\",\"Dairy\",\"Dairy\",\"Dairy\",\"Dairy\",\"Dairy\",\"Dairy\",\"Dairy\",\"Dairy\",\"Dairy\",\"Dairy\",\"Dairy\",\"Dairy\",\"Dairy\",\"Dairy\",\"Dairy\",\"Dairy\",\"Dairy\",\"Dairy\",\"Dairy\",\"Dairy\",\"Dairy\",\"Dairy\",\"Dairy\",\"Dairy\",\"Dairy\",\"Dairy\",\"Dairy\",\"Dairy\",\"Dairy\",\"Dairy\",\"Dairy\",\"Dairy\",\"Dairy\",\"Dairy\",\"Dairy\",\"Dairy\",\"Dairy\",\"Dairy\",\"Dairy\",\"Dairy\",\"Dairy\",\"Dairy\",\"Dairy\",\"Dairy\",\"Dairy\",\"Dairy\",\"Dairy\",\"Dairy\",\"Dairy\",\"Dairy\",\"Dairy\",\"Dairy\",\"Dairy\",\"Dairy\",\"Dairy\",\"Dairy\",\"Dairy\",\"Dairy\",\"Dairy\",\"Fruits\",\"Fruits\",\"Fruits\",\"Fruits\",\"Fruits\",\"Fruits\",\"Fruits\",\"Fruits\",\"Fruits\",\"Fruits\",\"Fruits\",\"Fruits\",\"Fruits\",\"Fruits\",\"Fruits\",\"Fruits\",\"Fruits\",\"Fruits\",\"Fruits\",\"Fruits\",\"Fruits\",\"Fruits\",\"Fruits\",\"Fruits\",\"Fruits\",\"Fruits\",\"Fruits\",\"Fruits\",\"Fruits\",\"Fruits\",\"Fruits\",\"Fruits\",\"Fruits\",\"Fruits\",\"Fruits\",\"Fruits\",\"Fruits\",\"Fruits\",\"Fruits\",\"Fruits\",\"Fruits\",\"Fruits\",\"Fruits\",\"Fruits\",\"Fruits\",\"Fruits\",\"Fruits\",\"Fruits\",\"Fruits\",\"Fruits\",\"Fruits\",\"Fruits\",\"Fruits\",\"Fruits\",\"Fruits\",\"Fruits\",\"Fruits\",\"Fruits\",\"Fruits\",\"Fruits\",\"Fruits\",\"Fruits\",\"Fruits\",\"Fruits\",\"Fruits\",\"Fruits\",\"Fruits\",\"Fruits\",\"Fruits\",\"Fruits\",\"Fruits\",\"Fruits\",\"Fruits\",\"Fruits\",\"Fruits\",\"Fruits\",\"Fruits\",\"Fruits\",\"Fruits\",\"Fruits\",\"Fruits\",\"Fruits\",\"Fruits\",\"Fruits\",\"Fruits\",\"Fruits\",\"Fruits\",\"Fruits\",\"Fruits\",\"Fruits\",\"Fruits\",\"Fruits\",\"Fruits\",\"Fruits\",\"Fruits\",\"Fruits\",\"Fruits\",\"Fruits\",\"Fruits\",\"Fruits\",\"Grains\",\"Grains\",\"Grains\",\"Grains\",\"Grains\",\"Grains\",\"Grains\",\"Grains\",\"Grains\",\"Grains\",\"Grains\",\"Grains\",\"Grains\",\"Grains\",\"Grains\",\"Grains\",\"Grains\",\"Grains\",\"Grains\",\"Grains\",\"Grains\",\"Grains\",\"Grains\",\"Grains\",\"Grains\",\"Grains\",\"Grains\",\"Grains\",\"Grains\",\"Grains\",\"Grains\",\"Grains\",\"Grains\",\"Grains\",\"Grains\",\"Grains\",\"Grains\",\"Grains\",\"Grains\",\"Grains\",\"Grains\",\"Grains\",\"Grains\",\"Grains\",\"Grains\",\"Grains\",\"Grains\",\"Grains\",\"Grains\",\"Grains\",\"Grains\",\"Grains\",\"Grains\",\"Grains\",\"Grains\",\"Grains\",\"Grains\",\"Grains\",\"Grains\",\"Grains\",\"Grains\",\"Grains\",\"Grains\",\"Grains\",\"Grains\",\"Grains\",\"Grains\",\"Grains\",\"Grains\",\"Grains\",\"Grains\",\"Grains\",\"Grains\",\"Grains\",\"Grains\",\"Grains\",\"Grains\",\"Grains\",\"Grains\",\"Grains\",\"Grains\",\"Grains\",\"Grains\",\"Grains\",\"Grains\",\"Grains\",\"Grains\",\"Grains\",\"Grains\",\"Grains\",\"Grains\",\"Grains\",\"Grains\",\"Grains\",\"Grains\",\"Grains\",\"Grains\",\"Grains\",\"Grains\",\"Grains\",\"Meats\",\"Meats\",\"Meats\",\"Meats\",\"Meats\",\"Meats\",\"Meats\",\"Meats\",\"Meats\",\"Meats\",\"Meats\",\"Meats\",\"Meats\",\"Meats\",\"Meats\",\"Meats\",\"Meats\",\"Meats\",\"Meats\",\"Meats\",\"Meats\",\"Meats\",\"Meats\",\"Meats\",\"Meats\",\"Meats\",\"Meats\",\"Meats\",\"Meats\",\"Meats\",\"Meats\",\"Meats\",\"Meats\",\"Meats\",\"Meats\",\"Meats\",\"Meats\",\"Meats\",\"Meats\",\"Meats\",\"Meats\",\"Meats\",\"Meats\",\"Meats\",\"Meats\",\"Meats\",\"Meats\",\"Meats\",\"Meats\",\"Meats\",\"Meats\",\"Meats\",\"Meats\",\"Meats\",\"Meats\",\"Meats\",\"Meats\",\"Meats\",\"Meats\",\"Meats\",\"Meats\",\"Meats\",\"Meats\",\"Meats\",\"Meats\",\"Meats\",\"Meats\",\"Meats\",\"Meats\",\"Meats\",\"Meats\",\"Meats\",\"Meats\",\"Meats\",\"Meats\",\"Meats\",\"Meats\",\"Meats\",\"Meats\",\"Meats\",\"Meats\",\"Meats\",\"Meats\",\"Meats\",\"Meats\",\"Meats\",\"Meats\",\"Meats\",\"Meats\",\"Meats\",\"Meats\",\"Meats\",\"Meats\",\"Meats\",\"Meats\",\"Meats\",\"Meats\",\"Meats\",\"Meats\",\"Meats\",\"Nuts & Seeds\",\"Nuts & Seeds\",\"Nuts & Seeds\",\"Nuts & Seeds\",\"Nuts & Seeds\",\"Nuts & Seeds\",\"Nuts & Seeds\",\"Nuts & Seeds\",\"Nuts & Seeds\",\"Nuts & Seeds\",\"Nuts & Seeds\",\"Nuts & Seeds\",\"Nuts & Seeds\",\"Nuts & Seeds\",\"Nuts & Seeds\",\"Nuts & Seeds\",\"Nuts & Seeds\",\"Nuts & Seeds\",\"Nuts & Seeds\",\"Nuts & Seeds\",\"Nuts & Seeds\",\"Nuts & Seeds\",\"Nuts & Seeds\",\"Nuts & Seeds\",\"Nuts & Seeds\",\"Nuts & Seeds\",\"Nuts & Seeds\",\"Nuts & Seeds\",\"Nuts & Seeds\",\"Nuts & Seeds\",\"Nuts & Seeds\",\"Nuts & Seeds\",\"Nuts & Seeds\",\"Nuts & Seeds\",\"Nuts & Seeds\",\"Nuts & Seeds\",\"Nuts & Seeds\",\"Nuts & Seeds\",\"Nuts & Seeds\",\"Nuts & Seeds\",\"Nuts & Seeds\",\"Nuts & Seeds\",\"Nuts & Seeds\",\"Nuts & Seeds\",\"Nuts & Seeds\",\"Nuts & Seeds\",\"Nuts & Seeds\",\"Nuts & Seeds\",\"Nuts & Seeds\",\"Nuts & Seeds\",\"Nuts & Seeds\",\"Nuts & Seeds\",\"Nuts & Seeds\",\"Nuts & Seeds\",\"Nuts & Seeds\",\"Nuts & Seeds\",\"Nuts & Seeds\",\"Nuts & Seeds\",\"Nuts & Seeds\",\"Nuts & Seeds\",\"Nuts & Seeds\",\"Nuts & Seeds\",\"Nuts & Seeds\",\"Nuts & Seeds\",\"Nuts & Seeds\",\"Nuts & Seeds\",\"Nuts & Seeds\",\"Nuts & Seeds\",\"Nuts & Seeds\",\"Nuts & Seeds\",\"Nuts & Seeds\",\"Nuts & Seeds\",\"Nuts & Seeds\",\"Nuts & Seeds\",\"Nuts & Seeds\",\"Nuts & Seeds\",\"Nuts & Seeds\",\"Nuts & Seeds\",\"Nuts & Seeds\",\"Nuts & Seeds\",\"Nuts & Seeds\",\"Nuts & Seeds\",\"Nuts & Seeds\",\"Nuts & Seeds\",\"Nuts & Seeds\",\"Nuts & Seeds\",\"Nuts & Seeds\",\"Nuts & Seeds\",\"Nuts & Seeds\",\"Nuts & Seeds\",\"Nuts & Seeds\",\"Nuts & Seeds\",\"Nuts & Seeds\",\"Nuts & Seeds\",\"Nuts & Seeds\",\"Nuts & Seeds\",\"Nuts & Seeds\",\"Nuts & Seeds\",\"Nuts & Seeds\",\"Nuts & Seeds\",\"Seafood\",\"Seafood\",\"Seafood\",\"Seafood\",\"Seafood\",\"Seafood\",\"Seafood\",\"Seafood\",\"Seafood\",\"Seafood\",\"Seafood\",\"Seafood\",\"Seafood\",\"Seafood\",\"Seafood\",\"Seafood\",\"Seafood\",\"Seafood\",\"Seafood\",\"Seafood\",\"Seafood\",\"Seafood\",\"Seafood\",\"Seafood\",\"Seafood\",\"Seafood\",\"Seafood\",\"Seafood\",\"Seafood\",\"Seafood\",\"Seafood\",\"Seafood\",\"Seafood\",\"Seafood\",\"Seafood\",\"Seafood\",\"Seafood\",\"Seafood\",\"Seafood\",\"Seafood\",\"Seafood\",\"Seafood\",\"Seafood\",\"Seafood\",\"Seafood\",\"Seafood\",\"Seafood\",\"Seafood\",\"Seafood\",\"Seafood\",\"Seafood\",\"Seafood\",\"Seafood\",\"Seafood\",\"Seafood\",\"Seafood\",\"Seafood\",\"Seafood\",\"Seafood\",\"Seafood\",\"Seafood\",\"Seafood\",\"Seafood\",\"Seafood\",\"Seafood\",\"Seafood\",\"Seafood\",\"Seafood\",\"Seafood\",\"Seafood\",\"Seafood\",\"Seafood\",\"Seafood\",\"Seafood\",\"Seafood\",\"Seafood\",\"Seafood\",\"Seafood\",\"Seafood\",\"Seafood\",\"Seafood\",\"Seafood\",\"Seafood\",\"Seafood\",\"Seafood\",\"Seafood\",\"Seafood\",\"Seafood\",\"Seafood\",\"Seafood\",\"Seafood\",\"Seafood\",\"Seafood\",\"Seafood\",\"Seafood\",\"Seafood\",\"Seafood\",\"Seafood\",\"Seafood\",\"Seafood\",\"Vegetables\",\"Vegetables\",\"Vegetables\",\"Vegetables\",\"Vegetables\",\"Vegetables\",\"Vegetables\",\"Vegetables\",\"Vegetables\",\"Vegetables\",\"Vegetables\",\"Vegetables\",\"Vegetables\",\"Vegetables\",\"Vegetables\",\"Vegetables\",\"Vegetables\",\"Vegetables\",\"Vegetables\",\"Vegetables\",\"Vegetables\",\"Vegetables\",\"Vegetables\",\"Vegetables\",\"Vegetables\",\"Vegetables\",\"Vegetables\",\"Vegetables\",\"Vegetables\",\"Vegetables\",\"Vegetables\",\"Vegetables\",\"Vegetables\",\"Vegetables\",\"Vegetables\",\"Vegetables\",\"Vegetables\",\"Vegetables\",\"Vegetables\",\"Vegetables\",\"Vegetables\",\"Vegetables\",\"Vegetables\",\"Vegetables\",\"Vegetables\",\"Vegetables\",\"Vegetables\",\"Vegetables\",\"Vegetables\",\"Vegetables\",\"Vegetables\",\"Vegetables\",\"Vegetables\",\"Vegetables\",\"Vegetables\",\"Vegetables\",\"Vegetables\",\"Vegetables\",\"Vegetables\",\"Vegetables\",\"Vegetables\",\"Vegetables\",\"Vegetables\",\"Vegetables\",\"Vegetables\",\"Vegetables\",\"Vegetables\",\"Vegetables\",\"Vegetables\",\"Vegetables\",\"Vegetables\",\"Vegetables\",\"Vegetables\",\"Vegetables\",\"Vegetables\",\"Vegetables\",\"Vegetables\",\"Vegetables\",\"Vegetables\",\"Vegetables\",\"Vegetables\",\"Vegetables\",\"Vegetables\",\"Vegetables\",\"Vegetables\",\"Vegetables\",\"Vegetables\",\"Vegetables\",\"Vegetables\",\"Vegetables\",\"Vegetables\",\"Vegetables\",\"Vegetables\",\"Vegetables\",\"Vegetables\",\"Vegetables\",\"Vegetables\",\"Vegetables\",\"Vegetables\",\"Vegetables\",\"Dairy\",\"Dairy\",\"Dairy\",\"Dairy\",\"Dairy\",\"Dairy\",\"Dairy\",\"Dairy\",\"Dairy\",\"Dairy\",\"Dairy\",\"Dairy\",\"Dairy\",\"Dairy\",\"Dairy\",\"Dairy\",\"Dairy\",\"Dairy\",\"Dairy\",\"Dairy\",\"Dairy\",\"Dairy\",\"Dairy\",\"Dairy\",\"Dairy\",\"Dairy\",\"Dairy\",\"Dairy\",\"Dairy\",\"Dairy\",\"Dairy\",\"Dairy\",\"Dairy\",\"Dairy\",\"Dairy\",\"Dairy\",\"Dairy\",\"Dairy\",\"Dairy\",\"Dairy\",\"Dairy\",\"Dairy\",\"Dairy\",\"Dairy\",\"Dairy\",\"Dairy\",\"Dairy\",\"Dairy\",\"Dairy\",\"Dairy\",\"Dairy\",\"Dairy\",\"Dairy\",\"Dairy\",\"Dairy\",\"Dairy\",\"Dairy\",\"Dairy\",\"Dairy\",\"Dairy\",\"Dairy\",\"Dairy\",\"Dairy\",\"Dairy\",\"Dairy\",\"Dairy\",\"Dairy\",\"Dairy\",\"Dairy\",\"Dairy\",\"Dairy\",\"Dairy\",\"Dairy\",\"Dairy\",\"Dairy\",\"Dairy\",\"Dairy\",\"Dairy\",\"Dairy\",\"Dairy\",\"Dairy\",\"Dairy\",\"Dairy\",\"Dairy\",\"Dairy\",\"Dairy\",\"Dairy\",\"Dairy\",\"Dairy\",\"Dairy\",\"Dairy\",\"Dairy\",\"Dairy\",\"Dairy\",\"Dairy\",\"Dairy\",\"Dairy\",\"Dairy\",\"Dairy\",\"Dairy\",\"Fruits\",\"Fruits\",\"Fruits\",\"Fruits\",\"Fruits\",\"Fruits\",\"Fruits\",\"Fruits\",\"Fruits\",\"Fruits\",\"Fruits\",\"Fruits\",\"Fruits\",\"Fruits\",\"Fruits\",\"Fruits\",\"Fruits\",\"Fruits\",\"Fruits\",\"Fruits\",\"Fruits\",\"Fruits\",\"Fruits\",\"Fruits\",\"Fruits\",\"Fruits\",\"Fruits\",\"Fruits\",\"Fruits\",\"Fruits\",\"Fruits\",\"Fruits\",\"Fruits\",\"Fruits\",\"Fruits\",\"Fruits\",\"Fruits\",\"Fruits\",\"Fruits\",\"Fruits\",\"Fruits\",\"Fruits\",\"Fruits\",\"Fruits\",\"Fruits\",\"Fruits\",\"Fruits\",\"Fruits\",\"Fruits\",\"Fruits\",\"Fruits\",\"Fruits\",\"Fruits\",\"Fruits\",\"Fruits\",\"Fruits\",\"Fruits\",\"Fruits\",\"Fruits\",\"Fruits\",\"Fruits\",\"Fruits\",\"Fruits\",\"Fruits\",\"Fruits\",\"Fruits\",\"Fruits\",\"Fruits\",\"Fruits\",\"Fruits\",\"Fruits\",\"Fruits\",\"Fruits\",\"Fruits\",\"Fruits\",\"Fruits\",\"Fruits\",\"Fruits\",\"Fruits\",\"Fruits\",\"Fruits\",\"Fruits\",\"Fruits\",\"Fruits\",\"Fruits\",\"Fruits\",\"Fruits\",\"Fruits\",\"Fruits\",\"Fruits\",\"Fruits\",\"Fruits\",\"Fruits\",\"Fruits\",\"Fruits\",\"Fruits\",\"Fruits\",\"Fruits\",\"Fruits\",\"Fruits\",\"Grains\",\"Grains\",\"Grains\",\"Grains\",\"Grains\",\"Grains\",\"Grains\",\"Grains\",\"Grains\",\"Grains\",\"Grains\",\"Grains\",\"Grains\",\"Grains\",\"Grains\",\"Grains\",\"Grains\",\"Grains\",\"Grains\",\"Grains\",\"Grains\",\"Grains\",\"Grains\",\"Grains\",\"Grains\",\"Grains\",\"Grains\",\"Grains\",\"Grains\",\"Grains\",\"Grains\",\"Grains\",\"Grains\",\"Grains\",\"Grains\",\"Grains\",\"Grains\",\"Grains\",\"Grains\",\"Grains\",\"Grains\",\"Grains\",\"Grains\",\"Grains\",\"Grains\",\"Grains\",\"Grains\",\"Grains\",\"Grains\",\"Grains\",\"Grains\",\"Grains\",\"Grains\",\"Grains\",\"Grains\",\"Grains\",\"Grains\",\"Grains\",\"Grains\",\"Grains\",\"Grains\",\"Grains\",\"Grains\",\"Grains\",\"Grains\",\"Grains\",\"Grains\",\"Grains\",\"Grains\",\"Grains\",\"Grains\",\"Grains\",\"Grains\",\"Grains\",\"Grains\",\"Grains\",\"Grains\",\"Grains\",\"Grains\",\"Grains\",\"Grains\",\"Grains\",\"Grains\",\"Grains\",\"Grains\",\"Grains\",\"Grains\",\"Grains\",\"Grains\",\"Grains\",\"Grains\",\"Grains\",\"Grains\",\"Grains\",\"Grains\",\"Grains\",\"Grains\",\"Grains\",\"Grains\",\"Grains\",\"Meats\",\"Meats\",\"Meats\",\"Meats\",\"Meats\",\"Meats\",\"Meats\",\"Meats\",\"Meats\",\"Meats\",\"Meats\",\"Meats\",\"Meats\",\"Meats\",\"Meats\",\"Meats\",\"Meats\",\"Meats\",\"Meats\",\"Meats\",\"Meats\",\"Meats\",\"Meats\",\"Meats\",\"Meats\",\"Meats\",\"Meats\",\"Meats\",\"Meats\",\"Meats\",\"Meats\",\"Meats\",\"Meats\",\"Meats\",\"Meats\",\"Meats\",\"Meats\",\"Meats\",\"Meats\",\"Meats\",\"Meats\",\"Meats\",\"Meats\",\"Meats\",\"Meats\",\"Meats\",\"Meats\",\"Meats\",\"Meats\",\"Meats\",\"Meats\",\"Meats\",\"Meats\",\"Meats\",\"Meats\",\"Meats\",\"Meats\",\"Meats\",\"Meats\",\"Meats\",\"Meats\",\"Meats\",\"Meats\",\"Meats\",\"Meats\",\"Meats\",\"Meats\",\"Meats\",\"Meats\",\"Meats\",\"Meats\",\"Meats\",\"Meats\",\"Meats\",\"Meats\",\"Meats\",\"Meats\",\"Meats\",\"Meats\",\"Meats\",\"Meats\",\"Meats\",\"Meats\",\"Meats\",\"Meats\",\"Meats\",\"Meats\",\"Meats\",\"Meats\",\"Meats\",\"Meats\",\"Meats\",\"Meats\",\"Meats\",\"Meats\",\"Meats\",\"Meats\",\"Meats\",\"Meats\",\"Meats\",\"Nuts & Seeds\",\"Nuts & Seeds\",\"Nuts & Seeds\",\"Nuts & Seeds\",\"Nuts & Seeds\",\"Nuts & Seeds\",\"Nuts & Seeds\",\"Nuts & Seeds\",\"Nuts & Seeds\",\"Nuts & Seeds\",\"Nuts & Seeds\",\"Nuts & Seeds\",\"Nuts & Seeds\",\"Nuts & Seeds\",\"Nuts & Seeds\",\"Nuts & Seeds\",\"Nuts & Seeds\",\"Nuts & Seeds\",\"Nuts & Seeds\",\"Nuts & Seeds\",\"Nuts & Seeds\",\"Nuts & Seeds\",\"Nuts & Seeds\",\"Nuts & Seeds\",\"Nuts & Seeds\",\"Nuts & Seeds\",\"Nuts & Seeds\",\"Nuts & Seeds\",\"Nuts & Seeds\",\"Nuts & Seeds\",\"Nuts & Seeds\",\"Nuts & Seeds\",\"Nuts & Seeds\",\"Nuts & Seeds\",\"Nuts & Seeds\",\"Nuts & Seeds\",\"Nuts & Seeds\",\"Nuts & Seeds\",\"Nuts & Seeds\",\"Nuts & Seeds\",\"Nuts & Seeds\",\"Nuts & Seeds\",\"Nuts & Seeds\",\"Nuts & Seeds\",\"Nuts & Seeds\",\"Nuts & Seeds\",\"Nuts & Seeds\",\"Nuts & Seeds\",\"Nuts & Seeds\",\"Nuts & Seeds\",\"Nuts & Seeds\",\"Nuts & Seeds\",\"Nuts & Seeds\",\"Nuts & Seeds\",\"Nuts & Seeds\",\"Nuts & Seeds\",\"Nuts & Seeds\",\"Nuts & Seeds\",\"Nuts & Seeds\",\"Nuts & Seeds\",\"Nuts & Seeds\",\"Nuts & Seeds\",\"Nuts & Seeds\",\"Nuts & Seeds\",\"Nuts & Seeds\",\"Nuts & Seeds\",\"Nuts & Seeds\",\"Nuts & Seeds\",\"Nuts & Seeds\",\"Nuts & Seeds\",\"Nuts & Seeds\",\"Nuts & Seeds\",\"Nuts & Seeds\",\"Nuts & Seeds\",\"Nuts & Seeds\",\"Nuts & Seeds\",\"Nuts & Seeds\",\"Nuts & Seeds\",\"Nuts & Seeds\",\"Nuts & Seeds\",\"Nuts & Seeds\",\"Nuts & Seeds\",\"Nuts & Seeds\",\"Nuts & Seeds\",\"Nuts & Seeds\",\"Nuts & Seeds\",\"Nuts & Seeds\",\"Nuts & Seeds\",\"Nuts & Seeds\",\"Nuts & Seeds\",\"Nuts & Seeds\",\"Nuts & Seeds\",\"Nuts & Seeds\",\"Nuts & Seeds\",\"Nuts & Seeds\",\"Nuts & Seeds\",\"Nuts & Seeds\",\"Nuts & Seeds\",\"Nuts & Seeds\",\"Nuts & Seeds\",\"Seafood\",\"Seafood\",\"Seafood\",\"Seafood\",\"Seafood\",\"Seafood\",\"Seafood\",\"Seafood\",\"Seafood\",\"Seafood\",\"Seafood\",\"Seafood\",\"Seafood\",\"Seafood\",\"Seafood\",\"Seafood\",\"Seafood\",\"Seafood\",\"Seafood\",\"Seafood\",\"Seafood\",\"Seafood\",\"Seafood\",\"Seafood\",\"Seafood\",\"Seafood\",\"Seafood\",\"Seafood\",\"Seafood\",\"Seafood\",\"Seafood\",\"Seafood\",\"Seafood\",\"Seafood\",\"Seafood\",\"Seafood\",\"Seafood\",\"Seafood\",\"Seafood\",\"Seafood\",\"Seafood\",\"Seafood\",\"Seafood\",\"Seafood\",\"Seafood\",\"Seafood\",\"Seafood\",\"Seafood\",\"Seafood\",\"Seafood\",\"Seafood\",\"Seafood\",\"Seafood\",\"Seafood\",\"Seafood\",\"Seafood\",\"Seafood\",\"Seafood\",\"Seafood\",\"Seafood\",\"Seafood\",\"Seafood\",\"Seafood\",\"Seafood\",\"Seafood\",\"Seafood\",\"Seafood\",\"Seafood\",\"Seafood\",\"Seafood\",\"Seafood\",\"Seafood\",\"Seafood\",\"Seafood\",\"Seafood\",\"Seafood\",\"Seafood\",\"Seafood\",\"Seafood\",\"Seafood\",\"Seafood\",\"Seafood\",\"Seafood\",\"Seafood\",\"Seafood\",\"Seafood\",\"Seafood\",\"Seafood\",\"Seafood\",\"Seafood\",\"Seafood\",\"Seafood\",\"Seafood\",\"Seafood\",\"Seafood\",\"Seafood\",\"Seafood\",\"Seafood\",\"Seafood\",\"Seafood\",\"Vegetables\",\"Vegetables\",\"Vegetables\",\"Vegetables\",\"Vegetables\",\"Vegetables\",\"Vegetables\",\"Vegetables\",\"Vegetables\",\"Vegetables\",\"Vegetables\",\"Vegetables\",\"Vegetables\",\"Vegetables\",\"Vegetables\",\"Vegetables\",\"Vegetables\",\"Vegetables\",\"Vegetables\",\"Vegetables\",\"Vegetables\",\"Vegetables\",\"Vegetables\",\"Vegetables\",\"Vegetables\",\"Vegetables\",\"Vegetables\",\"Vegetables\",\"Vegetables\",\"Vegetables\",\"Vegetables\",\"Vegetables\",\"Vegetables\",\"Vegetables\",\"Vegetables\",\"Vegetables\",\"Vegetables\",\"Vegetables\",\"Vegetables\",\"Vegetables\",\"Vegetables\",\"Vegetables\",\"Vegetables\",\"Vegetables\",\"Vegetables\",\"Vegetables\",\"Vegetables\",\"Vegetables\",\"Vegetables\",\"Vegetables\",\"Vegetables\",\"Vegetables\",\"Vegetables\",\"Vegetables\",\"Vegetables\",\"Vegetables\",\"Vegetables\",\"Vegetables\",\"Vegetables\",\"Vegetables\",\"Vegetables\",\"Vegetables\",\"Vegetables\",\"Vegetables\",\"Vegetables\",\"Vegetables\",\"Vegetables\",\"Vegetables\",\"Vegetables\",\"Vegetables\",\"Vegetables\",\"Vegetables\",\"Vegetables\",\"Vegetables\",\"Vegetables\",\"Vegetables\",\"Vegetables\",\"Vegetables\",\"Vegetables\",\"Vegetables\",\"Vegetables\",\"Vegetables\",\"Vegetables\",\"Vegetables\",\"Vegetables\",\"Vegetables\",\"Vegetables\",\"Vegetables\",\"Vegetables\",\"Vegetables\",\"Vegetables\",\"Vegetables\",\"Vegetables\",\"Vegetables\",\"Vegetables\",\"Vegetables\",\"Vegetables\",\"Vegetables\",\"Vegetables\",\"Vegetables\",\"Dairy\",\"Dairy\",\"Dairy\",\"Dairy\",\"Dairy\",\"Dairy\",\"Dairy\",\"Dairy\",\"Dairy\",\"Dairy\",\"Dairy\",\"Dairy\",\"Dairy\",\"Dairy\",\"Dairy\",\"Dairy\",\"Dairy\",\"Dairy\",\"Dairy\",\"Dairy\",\"Dairy\",\"Dairy\",\"Dairy\",\"Dairy\",\"Dairy\",\"Dairy\",\"Dairy\",\"Dairy\",\"Dairy\",\"Dairy\",\"Dairy\",\"Dairy\",\"Dairy\",\"Dairy\",\"Dairy\",\"Dairy\",\"Dairy\",\"Dairy\",\"Dairy\",\"Dairy\",\"Dairy\",\"Dairy\",\"Dairy\",\"Dairy\",\"Dairy\",\"Dairy\",\"Dairy\",\"Dairy\",\"Dairy\",\"Dairy\",\"Dairy\",\"Dairy\",\"Dairy\",\"Dairy\",\"Dairy\",\"Dairy\",\"Dairy\",\"Dairy\",\"Dairy\",\"Dairy\",\"Dairy\",\"Dairy\",\"Dairy\",\"Dairy\",\"Dairy\",\"Dairy\",\"Dairy\",\"Dairy\",\"Dairy\",\"Dairy\",\"Dairy\",\"Dairy\",\"Dairy\",\"Dairy\",\"Dairy\",\"Dairy\",\"Dairy\",\"Dairy\",\"Dairy\",\"Dairy\",\"Dairy\",\"Dairy\",\"Dairy\",\"Dairy\",\"Dairy\",\"Dairy\",\"Dairy\",\"Dairy\",\"Dairy\",\"Dairy\",\"Dairy\",\"Dairy\",\"Dairy\",\"Dairy\",\"Dairy\",\"Dairy\",\"Dairy\",\"Dairy\",\"Dairy\",\"Dairy\",\"Fruits\",\"Fruits\",\"Fruits\",\"Fruits\",\"Fruits\",\"Fruits\",\"Fruits\",\"Fruits\",\"Fruits\",\"Fruits\",\"Fruits\",\"Fruits\",\"Fruits\",\"Fruits\",\"Fruits\",\"Fruits\",\"Fruits\",\"Fruits\",\"Fruits\",\"Fruits\",\"Fruits\",\"Fruits\",\"Fruits\",\"Fruits\",\"Fruits\",\"Fruits\",\"Fruits\",\"Fruits\",\"Fruits\",\"Fruits\",\"Fruits\",\"Fruits\",\"Fruits\",\"Fruits\",\"Fruits\",\"Fruits\",\"Fruits\",\"Fruits\",\"Fruits\",\"Fruits\",\"Fruits\",\"Fruits\",\"Fruits\",\"Fruits\",\"Fruits\",\"Fruits\",\"Fruits\",\"Fruits\",\"Fruits\",\"Fruits\",\"Fruits\",\"Fruits\",\"Fruits\",\"Fruits\",\"Fruits\",\"Fruits\",\"Fruits\",\"Fruits\",\"Fruits\",\"Fruits\",\"Fruits\",\"Fruits\",\"Fruits\",\"Fruits\",\"Fruits\",\"Fruits\",\"Fruits\",\"Fruits\",\"Fruits\",\"Fruits\",\"Fruits\",\"Fruits\",\"Fruits\",\"Fruits\",\"Fruits\",\"Fruits\",\"Fruits\",\"Fruits\",\"Fruits\",\"Fruits\",\"Fruits\",\"Fruits\",\"Fruits\",\"Fruits\",\"Fruits\",\"Fruits\",\"Fruits\",\"Fruits\",\"Fruits\",\"Fruits\",\"Fruits\",\"Fruits\",\"Fruits\",\"Fruits\",\"Fruits\",\"Fruits\",\"Fruits\",\"Fruits\",\"Fruits\",\"Fruits\",\"Grains\",\"Grains\",\"Grains\",\"Grains\",\"Grains\",\"Grains\",\"Grains\",\"Grains\",\"Grains\",\"Grains\",\"Grains\",\"Grains\",\"Grains\",\"Grains\",\"Grains\",\"Grains\",\"Grains\",\"Grains\",\"Grains\",\"Grains\",\"Grains\",\"Grains\",\"Grains\",\"Grains\",\"Grains\",\"Grains\",\"Grains\",\"Grains\",\"Grains\",\"Grains\",\"Grains\",\"Grains\",\"Grains\",\"Grains\",\"Grains\",\"Grains\",\"Grains\",\"Grains\",\"Grains\",\"Grains\",\"Grains\",\"Grains\",\"Grains\",\"Grains\",\"Grains\",\"Grains\",\"Grains\",\"Grains\",\"Grains\",\"Grains\",\"Grains\",\"Grains\",\"Grains\",\"Grains\",\"Grains\",\"Grains\",\"Grains\",\"Grains\",\"Grains\",\"Grains\",\"Grains\",\"Grains\",\"Grains\",\"Grains\",\"Grains\",\"Grains\",\"Grains\",\"Grains\",\"Grains\",\"Grains\",\"Grains\",\"Grains\",\"Grains\",\"Grains\",\"Grains\",\"Grains\",\"Grains\",\"Grains\",\"Grains\",\"Grains\",\"Grains\",\"Grains\",\"Grains\",\"Grains\",\"Grains\",\"Grains\",\"Grains\",\"Grains\",\"Grains\",\"Grains\",\"Grains\",\"Grains\",\"Grains\",\"Grains\",\"Grains\",\"Grains\",\"Grains\",\"Grains\",\"Grains\",\"Grains\",\"Meats\",\"Meats\",\"Meats\",\"Meats\",\"Meats\",\"Meats\",\"Meats\",\"Meats\",\"Meats\",\"Meats\",\"Meats\",\"Meats\",\"Meats\",\"Meats\",\"Meats\",\"Meats\",\"Meats\",\"Meats\",\"Meats\",\"Meats\",\"Meats\",\"Meats\",\"Meats\",\"Meats\",\"Meats\",\"Meats\",\"Meats\",\"Meats\",\"Meats\",\"Meats\",\"Meats\",\"Meats\",\"Meats\",\"Meats\",\"Meats\",\"Meats\",\"Meats\",\"Meats\",\"Meats\",\"Meats\",\"Meats\",\"Meats\",\"Meats\",\"Meats\",\"Meats\",\"Meats\",\"Meats\",\"Meats\",\"Meats\",\"Meats\",\"Meats\",\"Meats\",\"Meats\",\"Meats\",\"Meats\",\"Meats\",\"Meats\",\"Meats\",\"Meats\",\"Meats\",\"Meats\",\"Meats\",\"Meats\",\"Meats\",\"Meats\",\"Meats\",\"Meats\",\"Meats\",\"Meats\",\"Meats\",\"Meats\",\"Meats\",\"Meats\",\"Meats\",\"Meats\",\"Meats\",\"Meats\",\"Meats\",\"Meats\",\"Meats\",\"Meats\",\"Meats\",\"Meats\",\"Meats\",\"Meats\",\"Meats\",\"Meats\",\"Meats\",\"Meats\",\"Meats\",\"Meats\",\"Meats\",\"Meats\",\"Meats\",\"Meats\",\"Meats\",\"Meats\",\"Meats\",\"Meats\",\"Meats\",\"Nuts & Seeds\",\"Nuts & Seeds\",\"Nuts & Seeds\",\"Nuts & Seeds\",\"Nuts & Seeds\",\"Nuts & Seeds\",\"Nuts & Seeds\",\"Nuts & Seeds\",\"Nuts & Seeds\",\"Nuts & Seeds\",\"Nuts & Seeds\",\"Nuts & Seeds\",\"Nuts & Seeds\",\"Nuts & Seeds\",\"Nuts & Seeds\",\"Nuts & Seeds\",\"Nuts & Seeds\",\"Nuts & Seeds\",\"Nuts & Seeds\",\"Nuts & Seeds\",\"Nuts & Seeds\",\"Nuts & Seeds\",\"Nuts & Seeds\",\"Nuts & Seeds\",\"Nuts & Seeds\",\"Nuts & Seeds\",\"Nuts & Seeds\",\"Nuts & Seeds\",\"Nuts & Seeds\",\"Nuts & Seeds\",\"Nuts & Seeds\",\"Nuts & Seeds\",\"Nuts & Seeds\",\"Nuts & Seeds\",\"Nuts & Seeds\",\"Nuts & Seeds\",\"Nuts & Seeds\",\"Nuts & Seeds\",\"Nuts & Seeds\",\"Nuts & Seeds\",\"Nuts & Seeds\",\"Nuts & Seeds\",\"Nuts & Seeds\",\"Nuts & Seeds\",\"Nuts & Seeds\",\"Nuts & Seeds\",\"Nuts & Seeds\",\"Nuts & Seeds\",\"Nuts & Seeds\",\"Nuts & Seeds\",\"Nuts & Seeds\",\"Nuts & Seeds\",\"Nuts & Seeds\",\"Nuts & Seeds\",\"Nuts & Seeds\",\"Nuts & Seeds\",\"Nuts & Seeds\",\"Nuts & Seeds\",\"Nuts & Seeds\",\"Nuts & Seeds\",\"Nuts & Seeds\",\"Nuts & Seeds\",\"Nuts & Seeds\",\"Nuts & Seeds\",\"Nuts & Seeds\",\"Nuts & Seeds\",\"Nuts & Seeds\",\"Nuts & Seeds\",\"Nuts & Seeds\",\"Nuts & Seeds\",\"Nuts & Seeds\",\"Nuts & Seeds\",\"Nuts & Seeds\",\"Nuts & Seeds\",\"Nuts & Seeds\",\"Nuts & Seeds\",\"Nuts & Seeds\",\"Nuts & Seeds\",\"Nuts & Seeds\",\"Nuts & Seeds\",\"Nuts & Seeds\",\"Nuts & Seeds\",\"Nuts & Seeds\",\"Nuts & Seeds\",\"Nuts & Seeds\",\"Nuts & Seeds\",\"Nuts & Seeds\",\"Nuts & Seeds\",\"Nuts & Seeds\",\"Nuts & Seeds\",\"Nuts & Seeds\",\"Nuts & Seeds\",\"Nuts & Seeds\",\"Nuts & Seeds\",\"Nuts & Seeds\",\"Nuts & Seeds\",\"Nuts & Seeds\",\"Nuts & Seeds\",\"Nuts & Seeds\",\"Nuts & Seeds\",\"Seafood\",\"Seafood\",\"Seafood\",\"Seafood\",\"Seafood\",\"Seafood\",\"Seafood\",\"Seafood\",\"Seafood\",\"Seafood\",\"Seafood\",\"Seafood\",\"Seafood\",\"Seafood\",\"Seafood\",\"Seafood\",\"Seafood\",\"Seafood\",\"Seafood\",\"Seafood\",\"Seafood\",\"Seafood\",\"Seafood\",\"Seafood\",\"Seafood\",\"Seafood\",\"Seafood\",\"Seafood\",\"Seafood\",\"Seafood\",\"Seafood\",\"Seafood\",\"Seafood\",\"Seafood\",\"Seafood\",\"Seafood\",\"Seafood\",\"Seafood\",\"Seafood\",\"Seafood\",\"Seafood\",\"Seafood\",\"Seafood\",\"Seafood\",\"Seafood\",\"Seafood\",\"Seafood\",\"Seafood\",\"Seafood\",\"Seafood\",\"Seafood\",\"Seafood\",\"Seafood\",\"Seafood\",\"Seafood\",\"Seafood\",\"Seafood\",\"Seafood\",\"Seafood\",\"Seafood\",\"Seafood\",\"Seafood\",\"Seafood\",\"Seafood\",\"Seafood\",\"Seafood\",\"Seafood\",\"Seafood\",\"Seafood\",\"Seafood\",\"Seafood\",\"Seafood\",\"Seafood\",\"Seafood\",\"Seafood\",\"Seafood\",\"Seafood\",\"Seafood\",\"Seafood\",\"Seafood\",\"Seafood\",\"Seafood\",\"Seafood\",\"Seafood\",\"Seafood\",\"Seafood\",\"Seafood\",\"Seafood\",\"Seafood\",\"Seafood\",\"Seafood\",\"Seafood\",\"Seafood\",\"Seafood\",\"Seafood\",\"Seafood\",\"Seafood\",\"Seafood\",\"Seafood\",\"Seafood\",\"Vegetables\",\"Vegetables\",\"Vegetables\",\"Vegetables\",\"Vegetables\",\"Vegetables\",\"Vegetables\",\"Vegetables\",\"Vegetables\",\"Vegetables\",\"Vegetables\",\"Vegetables\",\"Vegetables\",\"Vegetables\",\"Vegetables\",\"Vegetables\",\"Vegetables\",\"Vegetables\",\"Vegetables\",\"Vegetables\",\"Vegetables\",\"Vegetables\",\"Vegetables\",\"Vegetables\",\"Vegetables\",\"Vegetables\",\"Vegetables\",\"Vegetables\",\"Vegetables\",\"Vegetables\",\"Vegetables\",\"Vegetables\",\"Vegetables\",\"Vegetables\",\"Vegetables\",\"Vegetables\",\"Vegetables\",\"Vegetables\",\"Vegetables\",\"Vegetables\",\"Vegetables\",\"Vegetables\",\"Vegetables\",\"Vegetables\",\"Vegetables\",\"Vegetables\",\"Vegetables\",\"Vegetables\",\"Vegetables\",\"Vegetables\",\"Vegetables\",\"Vegetables\",\"Vegetables\",\"Vegetables\",\"Vegetables\",\"Vegetables\",\"Vegetables\",\"Vegetables\",\"Vegetables\",\"Vegetables\",\"Vegetables\",\"Vegetables\",\"Vegetables\",\"Vegetables\",\"Vegetables\",\"Vegetables\",\"Vegetables\",\"Vegetables\",\"Vegetables\",\"Vegetables\",\"Vegetables\",\"Vegetables\",\"Vegetables\",\"Vegetables\",\"Vegetables\",\"Vegetables\",\"Vegetables\",\"Vegetables\",\"Vegetables\",\"Vegetables\",\"Vegetables\",\"Vegetables\",\"Vegetables\",\"Vegetables\",\"Vegetables\",\"Vegetables\",\"Vegetables\",\"Vegetables\",\"Vegetables\",\"Vegetables\",\"Vegetables\",\"Vegetables\",\"Vegetables\",\"Vegetables\",\"Vegetables\",\"Vegetables\",\"Vegetables\",\"Vegetables\",\"Vegetables\",\"Vegetables\"],\"index\":[0,1,2,3,4,5,6,7,8,9,10,11,12,13,14,15,16,17,18,19,20,21,22,23,24,25,26,27,28,29,30,31,32,33,34,35,36,37,38,39,40,41,42,43,44,45,46,47,48,49,50,51,52,53,54,55,56,57,58,59,60,61,62,63,64,65,66,67,68,69,70,71,72,73,74,75,76,77,78,79,80,81,82,83,84,85,86,87,88,89,90,91,92,93,94,95,96,97,98,99,100,101,102,103,104,105,106,107,108,109,110,111,112,113,114,115,116,117,118,119,120,121,122,123,124,125,126,127,128,129,130,131,132,133,134,135,136,137,138,139,140,141,142,143,144,145,146,147,148,149,150,151,152,153,154,155,156,157,158,159,160,161,162,163,164,165,166,167,168,169,170,171,172,173,174,175,176,177,178,179,180,181,182,183,184,185,186,187,188,189,190,191,192,193,194,195,196,197,198,199,200,201,202,203,204,205,206,207,208,209,210,211,212,213,214,215,216,217,218,219,220,221,222,223,224,225,226,227,228,229,230,231,232,233,234,235,236,237,238,239,240,241,242,243,244,245,246,247,248,249,250,251,252,253,254,255,256,257,258,259,260,261,262,263,264,265,266,267,268,269,270,271,272,273,274,275,276,277,278,279,280,281,282,283,284,285,286,287,288,289,290,291,292,293,294,295,296,297,298,299,300,301,302,303,304,305,306,307,308,309,310,311,312,313,314,315,316,317,318,319,320,321,322,323,324,325,326,327,328,329,330,331,332,333,334,335,336,337,338,339,340,341,342,343,344,345,346,347,348,349,350,351,352,353,354,355,356,357,358,359,360,361,362,363,364,365,366,367,368,369,370,371,372,373,374,375,376,377,378,379,380,381,382,383,384,385,386,387,388,389,390,391,392,393,394,395,396,397,398,399,400,401,402,403,404,405,406,407,408,409,410,411,412,413,414,415,416,417,418,419,420,421,422,423,424,425,426,427,428,429,430,431,432,433,434,435,436,437,438,439,440,441,442,443,444,445,446,447,448,449,450,451,452,453,454,455,456,457,458,459,460,461,462,463,464,465,466,467,468,469,470,471,472,473,474,475,476,477,478,479,480,481,482,483,484,485,486,487,488,489,490,491,492,493,494,495,496,497,498,499,500,501,502,503,504,505,506,507,508,509,510,511,512,513,514,515,516,517,518,519,520,521,522,523,524,525,526,527,528,529,530,531,532,533,534,535,536,537,538,539,540,541,542,543,544,545,546,547,548,549,550,551,552,553,554,555,556,557,558,559,560,561,562,563,564,565,566,567,568,569,570,571,572,573,574,575,576,577,578,579,580,581,582,583,584,585,586,587,588,589,590,591,592,593,594,595,596,597,598,599,600,601,602,603,604,605,606,607,608,609,610,611,612,613,614,615,616,617,618,619,620,621,622,623,624,625,626,627,628,629,630,631,632,633,634,635,636,637,638,639,640,641,642,643,644,645,646,647,648,649,650,651,652,653,654,655,656,657,658,659,660,661,662,663,664,665,666,667,668,669,670,671,672,673,674,675,676,677,678,679,680,681,682,683,684,685,686,687,688,689,690,691,692,693,694,695,696,697,698,699,700,701,702,703,704,705,706,707,708,709,710,711,712,713,714,715,716,717,718,719,720,721,722,723,724,725,726,727,728,729,730,731,732,733,734,735,736,737,738,739,740,741,742,743,744,745,746,747,748,749,750,751,752,753,754,755,756,757,758,759,760,761,762,763,764,765,766,767,768,769,770,771,772,773,774,775,776,777,778,779,780,781,782,783,784,785,786,787,788,789,790,791,792,793,794,795,796,797,798,799,800,801,802,803,804,805,806,807,808,809,810,811,812,813,814,815,816,817,818,819,820,821,822,823,824,825,826,827,828,829,830,831,832,833,834,835,836,837,838,839,840,841,842,843,844,845,846,847,848,849,850,851,852,853,854,855,856,857,858,859,860,861,862,863,864,865,866,867,868,869,870,871,872,873,874,875,876,877,878,879,880,881,882,883,884,885,886,887,888,889,890,891,892,893,894,895,896,897,898,899,900,901,902,903,904,905,906,907,908,909,910,911,912,913,914,915,916,917,918,919,920,921,922,923,924,925,926,927,928,929,930,931,932,933,934,935,936,937,938,939,940,941,942,943,944,945,946,947,948,949,950,951,952,953,954,955,956,957,958,959,960,961,962,963,964,965,966,967,968,969,970,971,972,973,974,975,976,977,978,979,980,981,982,983,984,985,986,987,988,989,990,991,992,993,994,995,996,997,998,999,1000,1001,1002,1003,1004,1005,1006,1007,1008,1009,1010,1011,1012,1013,1014,1015,1016,1017,1018,1019,1020,1021,1022,1023,1024,1025,1026,1027,1028,1029,1030,1031,1032,1033,1034,1035,1036,1037,1038,1039,1040,1041,1042,1043,1044,1045,1046,1047,1048,1049,1050,1051,1052,1053,1054,1055,1056,1057,1058,1059,1060,1061,1062,1063,1064,1065,1066,1067,1068,1069,1070,1071,1072,1073,1074,1075,1076,1077,1078,1079,1080,1081,1082,1083,1084,1085,1086,1087,1088,1089,1090,1091,1092,1093,1094,1095,1096,1097,1098,1099,1100,1101,1102,1103,1104,1105,1106,1107,1108,1109,1110,1111,1112,1113,1114,1115,1116,1117,1118,1119,1120,1121,1122,1123,1124,1125,1126,1127,1128,1129,1130,1131,1132,1133,1134,1135,1136,1137,1138,1139,1140,1141,1142,1143,1144,1145,1146,1147,1148,1149,1150,1151,1152,1153,1154,1155,1156,1157,1158,1159,1160,1161,1162,1163,1164,1165,1166,1167,1168,1169,1170,1171,1172,1173,1174,1175,1176,1177,1178,1179,1180,1181,1182,1183,1184,1185,1186,1187,1188,1189,1190,1191,1192,1193,1194,1195,1196,1197,1198,1199,1200,1201,1202,1203,1204,1205,1206,1207,1208,1209,1210,1211,1212,1213,1214,1215,1216,1217,1218,1219,1220,1221,1222,1223,1224,1225,1226,1227,1228,1229,1230,1231,1232,1233,1234,1235,1236,1237,1238,1239,1240,1241,1242,1243,1244,1245,1246,1247,1248,1249,1250,1251,1252,1253,1254,1255,1256,1257,1258,1259,1260,1261,1262,1263,1264,1265,1266,1267,1268,1269,1270,1271,1272,1273,1274,1275,1276,1277,1278,1279,1280,1281,1282,1283,1284,1285,1286,1287,1288,1289,1290,1291,1292,1293,1294,1295,1296,1297,1298,1299,1300,1301,1302,1303,1304,1305,1306,1307,1308,1309,1310,1311,1312,1313,1314,1315,1316,1317,1318,1319,1320,1321,1322,1323,1324,1325,1326,1327,1328,1329,1330,1331,1332,1333,1334,1335,1336,1337,1338,1339,1340,1341,1342,1343,1344,1345,1346,1347,1348,1349,1350,1351,1352,1353,1354,1355,1356,1357,1358,1359,1360,1361,1362,1363,1364,1365,1366,1367,1368,1369,1370,1371,1372,1373,1374,1375,1376,1377,1378,1379,1380,1381,1382,1383,1384,1385,1386,1387,1388,1389,1390,1391,1392,1393,1394,1395,1396,1397,1398,1399,1400,1401,1402,1403,1404,1405,1406,1407,1408,1409,1410,1411,1412,1413,1414,1415,1416,1417,1418,1419,1420,1421,1422,1423,1424,1425,1426,1427,1428,1429,1430,1431,1432,1433,1434,1435,1436,1437,1438,1439,1440,1441,1442,1443,1444,1445,1446,1447,1448,1449,1450,1451,1452,1453,1454,1455,1456,1457,1458,1459,1460,1461,1462,1463,1464,1465,1466,1467,1468,1469,1470,1471,1472,1473,1474,1475,1476,1477,1478,1479,1480,1481,1482,1483,1484,1485,1486,1487,1488,1489,1490,1491,1492,1493,1494,1495,1496,1497,1498,1499,1500,1501,1502,1503,1504,1505,1506,1507,1508,1509,1510,1511,1512,1513,1514,1515,1516,1517,1518,1519,1520,1521,1522,1523,1524,1525,1526,1527,1528,1529,1530,1531,1532,1533,1534,1535,1536,1537,1538,1539,1540,1541,1542,1543,1544,1545,1546,1547,1548,1549,1550,1551,1552,1553,1554,1555,1556,1557,1558,1559,1560,1561,1562,1563,1564,1565,1566,1567,1568,1569,1570,1571,1572,1573,1574,1575,1576,1577,1578,1579,1580,1581,1582,1583,1584,1585,1586,1587,1588,1589,1590,1591,1592,1593,1594,1595,1596,1597,1598,1599,1600,1601,1602,1603,1604,1605,1606,1607,1608,1609,1610,1611,1612,1613,1614,1615,1616,1617,1618,1619,1620,1621,1622,1623,1624,1625,1626,1627,1628,1629,1630,1631,1632,1633,1634,1635,1636,1637,1638,1639,1640,1641,1642,1643,1644,1645,1646,1647,1648,1649,1650,1651,1652,1653,1654,1655,1656,1657,1658,1659,1660,1661,1662,1663,1664,1665,1666,1667,1668,1669,1670,1671,1672,1673,1674,1675,1676,1677,1678,1679,1680,1681,1682,1683,1684,1685,1686,1687,1688,1689,1690,1691,1692,1693,1694,1695,1696,1697,1698,1699,1700,1701,1702,1703,1704,1705,1706,1707,1708,1709,1710,1711,1712,1713,1714,1715,1716,1717,1718,1719,1720,1721,1722,1723,1724,1725,1726,1727,1728,1729,1730,1731,1732,1733,1734,1735,1736,1737,1738,1739,1740,1741,1742,1743,1744,1745,1746,1747,1748,1749,1750,1751,1752,1753,1754,1755,1756,1757,1758,1759,1760,1761,1762,1763,1764,1765,1766,1767,1768,1769,1770,1771,1772,1773,1774,1775,1776,1777,1778,1779,1780,1781,1782,1783,1784,1785,1786,1787,1788,1789,1790,1791,1792,1793,1794,1795,1796,1797,1798,1799,1800,1801,1802,1803,1804,1805,1806,1807,1808,1809,1810,1811,1812,1813,1814,1815,1816,1817,1818,1819,1820,1821,1822,1823,1824,1825,1826,1827,1828,1829,1830,1831,1832,1833,1834,1835,1836,1837,1838,1839,1840,1841,1842,1843,1844,1845,1846,1847,1848,1849,1850,1851,1852,1853,1854,1855,1856,1857,1858,1859,1860,1861,1862,1863,1864,1865,1866,1867,1868,1869,1870,1871,1872,1873,1874,1875,1876,1877,1878,1879,1880,1881,1882,1883,1884,1885,1886,1887,1888,1889,1890,1891,1892,1893,1894,1895,1896,1897,1898,1899,1900,1901,1902,1903,1904,1905,1906,1907,1908,1909,1910,1911,1912,1913,1914,1915,1916,1917,1918,1919,1920,1921,1922,1923,1924,1925,1926,1927,1928,1929,1930,1931,1932,1933,1934,1935,1936,1937,1938,1939,1940,1941,1942,1943,1944,1945,1946,1947,1948,1949,1950,1951,1952,1953,1954,1955,1956,1957,1958,1959,1960,1961,1962,1963,1964,1965,1966,1967,1968,1969,1970,1971,1972,1973,1974,1975,1976,1977,1978,1979,1980,1981,1982,1983,1984,1985,1986,1987,1988,1989,1990,1991,1992,1993,1994,1995,1996,1997,1998,1999,2000,2001,2002,2003,2004,2005,2006,2007,2008,2009,2010,2011,2012,2013,2014,2015,2016,2017,2018,2019,2020,2021,2022,2023,2024,2025,2026,2027,2028,2029,2030,2031,2032,2033,2034,2035,2036,2037,2038,2039,2040,2041,2042,2043,2044,2045,2046,2047,2048,2049,2050,2051,2052,2053,2054,2055,2056,2057,2058,2059,2060,2061,2062,2063,2064,2065,2066,2067,2068,2069,2070,2071,2072,2073,2074,2075,2076,2077,2078,2079,2080,2081,2082,2083,2084,2085,2086,2087,2088,2089,2090,2091,2092,2093,2094,2095,2096,2097,2098,2099,2100,2101,2102,2103,2104,2105,2106,2107,2108,2109,2110,2111,2112,2113,2114,2115,2116,2117,2118,2119,2120,2121,2122,2123,2124,2125,2126,2127,2128,2129,2130,2131,2132,2133,2134,2135,2136,2137,2138,2139,2140,2141,2142,2143,2144,2145,2146,2147,2148,2149,2150,2151,2152,2153,2154,2155,2156,2157,2158,2159,2160,2161,2162,2163,2164,2165,2166,2167,2168,2169,2170,2171,2172,2173,2174,2175,2176,2177,2178,2179,2180,2181,2182,2183,2184,2185,2186,2187,2188,2189,2190,2191,2192,2193,2194,2195,2196,2197,2198,2199,2200,2201,2202,2203,2204,2205,2206,2207,2208,2209,2210,2211,2212,2213,2214,2215,2216,2217,2218,2219,2220,2221,2222,2223,2224,2225,2226,2227,2228,2229,2230,2231,2232,2233,2234,2235,2236,2237,2238,2239,2240,2241,2242,2243,2244,2245,2246,2247,2248,2249,2250,2251,2252,2253,2254,2255,2256,2257,2258,2259,2260,2261,2262,2263,2264,2265,2266,2267,2268,2269,2270,2271,2272,2273,2274,2275,2276,2277,2278,2279,2280,2281,2282,2283,2284,2285,2286,2287,2288,2289,2290,2291,2292,2293,2294,2295,2296,2297,2298,2299,2300,2301,2302,2303,2304,2305,2306,2307,2308,2309,2310,2311,2312,2313,2314,2315,2316,2317,2318,2319,2320,2321,2322,2323,2324,2325,2326,2327,2328,2329,2330,2331,2332,2333,2334,2335,2336,2337,2338,2339,2340,2341,2342,2343,2344,2345,2346,2347,2348,2349,2350,2351,2352,2353,2354,2355,2356,2357,2358,2359,2360,2361,2362,2363,2364,2365,2366,2367,2368,2369,2370,2371,2372,2373,2374,2375,2376,2377,2378,2379,2380,2381,2382,2383,2384,2385,2386,2387,2388,2389,2390,2391,2392,2393,2394,2395,2396,2397,2398,2399,2400,2401,2402,2403,2404,2405,2406,2407,2408,2409,2410,2411,2412,2413,2414,2415,2416,2417,2418,2419,2420,2421,2422,2423,2424,2425,2426,2427,2428,2429,2430,2431,2432,2433,2434,2435,2436,2437,2438,2439,2440,2441,2442,2443,2444,2445,2446,2447,2448,2449,2450,2451,2452,2453,2454,2455,2456,2457,2458,2459,2460,2461,2462,2463,2464,2465,2466,2467,2468,2469,2470,2471,2472,2473,2474,2475,2476,2477,2478,2479,2480,2481,2482,2483,2484,2485,2486,2487,2488,2489,2490,2491,2492,2493,2494,2495,2496,2497,2498,2499,2500,2501,2502,2503,2504,2505,2506,2507,2508,2509,2510,2511,2512,2513,2514,2515,2516,2517,2518,2519,2520,2521,2522,2523,2524,2525,2526,2527,2528,2529,2530,2531,2532,2533,2534,2535,2536,2537,2538,2539,2540,2541,2542,2543,2544,2545,2546,2547,2548,2549,2550,2551,2552,2553,2554,2555,2556,2557,2558,2559,2560,2561,2562,2563,2564,2565,2566,2567,2568,2569,2570,2571,2572,2573,2574,2575,2576,2577,2578,2579,2580,2581,2582,2583,2584,2585,2586,2587,2588,2589,2590,2591,2592,2593,2594,2595,2596,2597,2598,2599,2600,2601,2602,2603,2604,2605,2606,2607,2608,2609,2610,2611,2612,2613,2614,2615,2616,2617,2618,2619,2620,2621,2622,2623,2624,2625,2626,2627,2628,2629,2630,2631,2632,2633,2634,2635,2636,2637,2638,2639,2640,2641,2642,2643,2644,2645,2646,2647,2648,2649,2650,2651,2652,2653,2654,2655,2656,2657,2658,2659,2660,2661,2662,2663,2664,2665,2666,2667,2668,2669,2670,2671,2672,2673,2674,2675,2676,2677,2678,2679,2680,2681,2682,2683,2684,2685,2686,2687,2688,2689,2690,2691,2692,2693,2694,2695,2696,2697,2698,2699,2700,2701,2702,2703,2704,2705,2706,2707,2708,2709,2710,2711,2712,2713,2714,2715,2716,2717,2718,2719,2720,2721,2722,2723,2724,2725,2726,2727,2728,2729,2730,2731,2732,2733,2734,2735,2736,2737,2738,2739,2740,2741,2742,2743,2744,2745,2746,2747,2748,2749,2750,2751,2752,2753,2754,2755,2756,2757,2758,2759,2760,2761,2762,2763,2764,2765,2766,2767,2768,2769,2770,2771,2772,2773,2774,2775,2776,2777,2778,2779,2780,2781,2782,2783,2784,2785,2786,2787,2788,2789,2790,2791,2792,2793,2794,2795,2796,2797,2798,2799]},\"selected\":{\"id\":\"1139\"},\"selection_policy\":{\"id\":\"1138\"}},\"id\":\"1091\",\"type\":\"ColumnDataSource\"},{\"attributes\":{\"fill_color\":{\"field\":\"Value\",\"transform\":{\"id\":\"1092\"}},\"height\":{\"value\":1},\"line_color\":{\"value\":null},\"width\":{\"value\":1},\"x\":{\"field\":\"category\"},\"y\":{\"field\":\"Nutrient\"}},\"id\":\"1114\",\"type\":\"Rect\"}],\"root_ids\":[\"1093\"]},\"title\":\"Bokeh Application\",\"version\":\"2.4.3\"}};\n  const render_items = [{\"docid\":\"91be029d-3962-40ea-b90f-7b69a6ab3f9b\",\"root_ids\":[\"1093\"],\"roots\":{\"1093\":\"c2232150-c64f-4179-82b7-411e64a277ed\"}}];\n  root.Bokeh.embed.embed_items_notebook(docs_json, render_items);\n  }\n  if (root.Bokeh !== undefined) {\n    embed_document(root);\n  } else {\n    let attempts = 0;\n    const timer = setInterval(function(root) {\n      if (root.Bokeh !== undefined) {\n        clearInterval(timer);\n        embed_document(root);\n      } else {\n        attempts++;\n        if (attempts > 100) {\n          clearInterval(timer);\n          console.log(\"Bokeh: ERROR: Unable to run BokehJS code because BokehJS library is missing\");\n        }\n      }\n    }, 10, root)\n  }\n})(window);",
      "application/vnd.bokehjs_exec.v0+json": ""
     },
     "metadata": {
      "application/vnd.bokehjs_exec.v0+json": {
       "id": "1093"
      }
     },
     "output_type": "display_data"
    }
   ],
   "source": [
    "# create the Nutrient Density Heatmap\n",
    "# Select the data for the map\n",
    "nutrients = ['energy', 'protein', 'fat_total', 'carbonhydrate']\n",
    "food_data = food_label_final_df[['category'] + nutrients].copy()\n",
    "\n",
    "# Convert nutrient columns to numeric, handling non-numeric values\n",
    "for nutrient in nutrients:\n",
    "    food_data.loc[:, nutrient] = pd.to_numeric(food_data[nutrient], errors='coerce')\n",
    "\n",
    "#Drop rows where any nutrient value is NaN\n",
    "food_data.dropna(subset=nutrients, inplace=True)\n",
    "# Melt the DataFrame to long format for Bokeh plotting\n",
    "pivot_df = food_data.melt(id_vars=['category'], var_name='Nutrient', value_name='Value')\n",
    "\n",
    "# Create a ColumnDataSource from the pivot DataFrame\n",
    "source = ColumnDataSource(pivot_df)\n",
    "\n",
    "# Define a color mapper based on the nutrient values\n",
    "color_mapper = linear_cmap(field_name='Value', palette='Viridis256', low=pivot_df['Value'].min(), high=pivot_df['Value'].max())\n",
    "\n",
    "# Create a figure with hover tools\n",
    "p = figure(x_range=list(food_data['category'].unique()), y_range=list(reversed(nutrients)),\n",
    "           title=\"Nutrient Density Heatmap\", tools=\"hover\",\n",
    "           tooltips=[('category', '@category'), ('Nutrient', '@Nutrient'), ('Value', '@Value')])\n",
    "\n",
    "# Add the rectangles for the heatmap\n",
    "p.rect(x='category', y='Nutrient', width=1, height=1, source=source,\n",
    "       fill_color=color_mapper, line_color=None)\n",
    "\n",
    "# Add a color bar\n",
    "color_bar = ColorBar(color_mapper=color_mapper['transform'], label_standoff=12)\n",
    "p.add_layout(color_bar, 'right')\n",
    "\n",
    "# Show the plot\n",
    "show(p)"
   ]
  }
 ],
 "metadata": {
  "kernelspec": {
   "display_name": "Python 3 (ipykernel)",
   "language": "python",
   "name": "python3"
  },
  "language_info": {
   "codemirror_mode": {
    "name": "ipython",
    "version": 3
   },
   "file_extension": ".py",
   "mimetype": "text/x-python",
   "name": "python",
   "nbconvert_exporter": "python",
   "pygments_lexer": "ipython3",
   "version": "3.7.13"
  }
 },
 "nbformat": 4,
 "nbformat_minor": 5
}
