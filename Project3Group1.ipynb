{
 "cells": [
  {
   "cell_type": "code",
   "execution_count": 17,
   "id": "56a44eb9-cb33-4754-b4ec-77aaa5ab2b17",
   "metadata": {},
   "outputs": [],
   "source": [
    "# Import dependencies\n",
    "import pandas as pd\n",
    "pd.set_option('max_colwidth', 400)\n",
    "import matplotlib.pyplot as plt\n",
    "# import hvplot.pandas\n",
    "# import numpy as np\n",
    "import csv\n",
    "import json\n",
    "from pymongo import MongoClient\n",
    "from pprint import pprint\n",
    "from plotly.subplots import make_subplots\n",
    "import plotly.graph_objects as go\n",
    "# import seaborn as sns\n",
    "import ipywidgets as widgets\n",
    "# from ipywidgets import interact\n",
    "# from IPython.display import clear_output\n",
    "# from IPython.display import display\n"
   ]
  },
  {
   "cell_type": "code",
   "execution_count": 18,
   "id": "c8f419d0-a2d1-4ab0-92bf-fdc71815f667",
   "metadata": {},
   "outputs": [],
   "source": [
    "# read the origianl dataset extracted from data.world\n",
    "original_df = pd.read_excel('Resources/ABBREV.xlsx')"
   ]
  },
  {
   "cell_type": "code",
   "execution_count": 19,
   "id": "84073965",
   "metadata": {},
   "outputs": [],
   "source": [
    "#  Transform data for analyses\n",
    "# Define a function to categorise food items based on their descriptions\n",
    "def categorise_food(desc):\n",
    "    desc_upper = desc.upper()\n",
    "    if any(fruit in desc_upper for fruit in ['APPLE', 'BANANA', 'ORANGE', 'BERRY', 'FRUIT']):\n",
    "        return 'Fruits'\n",
    "    elif any(veggie in desc_upper for veggie in ['SPINACH', 'BROCCOLI', 'CARROT', 'LETTUCE', 'VEGETABLE']):\n",
    "        return 'Vegetables'\n",
    "    elif any(meat in desc_upper for meat in ['CHICKEN', 'BEEF', 'PORK', 'LAMB', 'MEAT']):\n",
    "        return 'Meats'\n",
    "    elif 'CHEESE' in desc_upper or 'MILK' in desc_upper or 'YOGURT' in desc_upper or 'DAIRY' in desc_upper:\n",
    "        return 'Dairy'\n",
    "    elif any(grain in desc_upper for grain in ['RICE', 'WHEAT', 'OATS', 'GRAIN', 'BREAD']):\n",
    "        return 'Grains'\n",
    "    elif any(nut in desc_upper for nut in ['ALMOND', 'WALNUT', 'SEED', 'NUT']):\n",
    "        return 'Nuts & Seeds'\n",
    "    elif any(seafood in desc_upper for seafood in ['FISH', 'SALMON', 'TUNA', 'SEAFOOD']):\n",
    "        return 'Seafood'\n",
    "    else:\n",
    "        return 'Other'\n",
    "    \n",
    "# Apply the categorisation function to the 'Shrt_Desc' column to create the 'Category' column\n",
    "original_df['Category'] = original_df['Shrt_Desc'].apply(categorise_food)"
   ]
  },
  {
   "cell_type": "code",
   "execution_count": 20,
   "id": "05a97bb7",
   "metadata": {},
   "outputs": [
    {
     "data": {
      "text/plain": [
       "Index(['NDB_No', 'Shrt_Desc', 'Water_(g)', 'Energ_Kcal', 'Protein_(g)',\n",
       "       'Lipid_Tot_(g)', 'Ash_(g)', 'Carbohydrt_(g)', 'Fiber_TD_(g)',\n",
       "       'Sugar_Tot_(g)', 'Calcium_(mg)', 'Iron_(mg)', 'Magnesium_(mg)',\n",
       "       'Phosphorus_(mg)', 'Potassium_(mg)', 'Sodium_(mg)', 'Zinc_(mg)',\n",
       "       'Copper_mg)', 'Manganese_(mg)', 'Selenium_(µg)', 'Vit_C_(mg)',\n",
       "       'Thiamin_(mg)', 'Riboflavin_(mg)', 'Niacin_(mg)', 'Panto_Acid_mg)',\n",
       "       'Vit_B6_(mg)', 'Folate_Tot_(µg)', 'Folic_Acid_(µg)', 'Food_Folate_(µg)',\n",
       "       'Folate_DFE_(µg)', 'Choline_Tot_ (mg)', 'Vit_B12_(µg)', 'Vit_A_IU',\n",
       "       'Vit_A_RAE', 'Retinol_(µg)', 'Alpha_Carot_(µg)', 'Beta_Carot_(µg)',\n",
       "       'Beta_Crypt_(µg)', 'Lycopene_(µg)', 'Lut+Zea_ (µg)', 'Vit_E_(mg)',\n",
       "       'Vit_D_µg', 'Vit_D_IU', 'Vit_K_(µg)', 'FA_Sat_(g)', 'FA_Mono_(g)',\n",
       "       'FA_Poly_(g)', 'Cholestrl_(mg)', 'GmWt_1', 'GmWt_Desc1', 'GmWt_2',\n",
       "       'GmWt_Desc2', 'Refuse_Pct', 'Category'],\n",
       "      dtype='object')"
      ]
     },
     "execution_count": 20,
     "metadata": {},
     "output_type": "execute_result"
    }
   ],
   "source": [
    "# select 100 samples for each category for analyses and visualisations\n",
    "sampled_df = original_df.groupby('Category').apply(lambda x: x.head(100)).reset_index(drop=True)\n",
    "\n",
    "sampled_df.head()\n",
    "sampled_df.columns"
   ]
  },
  {
   "cell_type": "code",
   "execution_count": 21,
   "id": "77d6ed46",
   "metadata": {},
   "outputs": [],
   "source": [
    "# Only keep the columns most commonly listed in the food labels\n",
    "reduced_columns_df = sampled_df[['Shrt_Desc','Energ_Kcal','Protein_(g)', 'Lipid_Tot_(g)', 'FA_Sat_(g)', \n",
    "                           'Carbohydrt_(g)','Sugar_Tot_(g)',\\\n",
    "                           'Fiber_TD_(g)','Sodium_(mg)','Category']]\n",
    "# Rename the columnns; note: all in g but sodium which is in mg\n",
    "food_label_df = reduced_columns_df.rename(columns={\"Shrt_Desc\":\"name\",\n",
    "                                    \"Energ_Kcal\":\"energy\",\n",
    "                                    \"Protein_(g)\": \"protein\",\n",
    "                                    \"Lipid_Tot_(g)\": \"fat_total\",\n",
    "                                    \"FA_Sat_(g)\":\"satuated_fat\",\n",
    "                                    \"Carbohydrt_(g)\":\"carbonhydrate\",\n",
    "                                    \"Sugar_Tot_(g)\":\"sugar\",\n",
    "                                    \"Fiber_TD_(g)\":\"dietary_fiber\",\n",
    "                                    \"Sodium_(mg)\":\"sodium\",\n",
    "                                    \"Category\": \"category\"                                       \n",
    "                                 })\n"
   ]
  },
  {
   "cell_type": "code",
   "execution_count": 22,
   "id": "089d8d15",
   "metadata": {},
   "outputs": [],
   "source": [
    "# Drop the category \"Other\" to keep the clear categories in the final sample analyses\n",
    "food_label_final_df = food_label_df.loc[food_label_df[\"category\"] !=\"Other\", :]"
   ]
  },
  {
   "cell_type": "code",
   "execution_count": 23,
   "id": "67eab987",
   "metadata": {},
   "outputs": [],
   "source": [
    "# Export both the original and final sample DataFrame for visualisations as CSV files. \n",
    "original_df.to_csv(\"Resources/original.csv\", index=False)\n",
    "food_label_final_df.to_csv(\"Resources/food_label_final.csv\", index=False)"
   ]
  },
  {
   "cell_type": "code",
   "execution_count": 24,
   "id": "3c736b2f",
   "metadata": {},
   "outputs": [],
   "source": [
    "# Convert the csv files to json files\n",
    "# Open the CSV file \n",
    "with open('Resources/original.csv', 'r') as csv_file:\n",
    "    csv_reader = csv.DictReader(csv_file)\n",
    "\n",
    "    data1 = []\n",
    "    for row in csv_reader:\n",
    "        data1.append(row)\n",
    "\n",
    "# Write the data to a JSON file\n",
    "with open('Resources/original.json', 'w') as json_file:\n",
    "    json.dump(data1, json_file, indent=4)\n",
    "\n",
    "with open('Resources/food_label_final.csv', 'r') as csv_file:\n",
    "    csv_reader = csv.DictReader(csv_file)\n",
    "\n",
    "    data2 = []\n",
    "    for row in csv_reader:\n",
    "        data2.append(row)\n",
    "\n",
    "# Write the data to a JSON file\n",
    "with open('Resources/food_label_final.json', 'w') as json_file:\n",
    "    json.dump(data2, json_file, indent=4)"
   ]
  },
  {
   "cell_type": "code",
   "execution_count": 25,
   "id": "34941f80-5cdb-41f0-9ced-11db18491a02",
   "metadata": {},
   "outputs": [],
   "source": [
    "# import both the original and transformed json data files to pymongo database to store\n",
    "#'mongoimport --type json -d food -c original --drop --jsonArray original.json'\n",
    "#'mongoimport --type json -d food -c food_label_final --drop --jsonArray food_label_final.json'\n",
    "# Create an instance of MongoClient\n",
    "mongo = MongoClient(port=27017)"
   ]
  },
  {
   "cell_type": "code",
   "execution_count": 26,
   "id": "294991fd-1c16-450b-98fc-04ab63ec9fd3",
   "metadata": {},
   "outputs": [],
   "source": [
    "# Assign the nutrients database to a variable name\n",
    "db = mongo['food']"
   ]
  },
  {
   "cell_type": "code",
   "execution_count": 27,
   "id": "bc7455ae-5c72-4376-a6b9-e384cf25d2e1",
   "metadata": {},
   "outputs": [
    {
     "name": "stdout",
     "output_type": "stream",
     "text": [
      "['food_label_final', 'nutrients', 'original']\n"
     ]
    }
   ],
   "source": [
    "# Review the collections in the database\n",
    "print(db.list_collection_names())"
   ]
  },
  {
   "cell_type": "code",
   "execution_count": 28,
   "id": "4ce39c87-7c7a-455a-9036-5b08c6ca25ba",
   "metadata": {},
   "outputs": [
    {
     "name": "stdout",
     "output_type": "stream",
     "text": [
      "{'_id': ObjectId('6619225e6cd7518d256da7a4'),\n",
      " 'carbonhydrate': '2.72',\n",
      " 'category': 'Dairy',\n",
      " 'dietary_fiber': '0.0',\n",
      " 'energy': '72',\n",
      " 'fat_total': '1.02',\n",
      " 'name': 'CHEESE,COTTAGE,LOWFAT,1% MILKFAT',\n",
      " 'protein': '12.39',\n",
      " 'satuated_fat': '0.645',\n",
      " 'sodium': '406.0',\n",
      " 'sugar': '2.72'}\n"
     ]
    }
   ],
   "source": [
    "# Review an object in the nutrients collection\n",
    "pprint(db.food_label_final.find_one())"
   ]
  },
  {
   "cell_type": "code",
   "execution_count": 29,
   "id": "6c038c65-2a59-475a-ab71-635c1422a49a",
   "metadata": {},
   "outputs": [
    {
     "data": {
      "text/html": [
       "<div>\n",
       "<style scoped>\n",
       "    .dataframe tbody tr th:only-of-type {\n",
       "        vertical-align: middle;\n",
       "    }\n",
       "\n",
       "    .dataframe tbody tr th {\n",
       "        vertical-align: top;\n",
       "    }\n",
       "\n",
       "    .dataframe thead th {\n",
       "        text-align: right;\n",
       "    }\n",
       "</style>\n",
       "<table border=\"1\" class=\"dataframe\">\n",
       "  <thead>\n",
       "    <tr style=\"text-align: right;\">\n",
       "      <th></th>\n",
       "      <th>category</th>\n",
       "      <th>energy</th>\n",
       "      <th>protein</th>\n",
       "      <th>fat_total</th>\n",
       "      <th>satuated_fat</th>\n",
       "      <th>carbonhydrate</th>\n",
       "      <th>sugar</th>\n",
       "      <th>dietary_fiber</th>\n",
       "      <th>sodium</th>\n",
       "    </tr>\n",
       "  </thead>\n",
       "  <tbody>\n",
       "    <tr>\n",
       "      <th>0</th>\n",
       "      <td>Dairy</td>\n",
       "      <td>233.11</td>\n",
       "      <td>15.6131</td>\n",
       "      <td>14.8385</td>\n",
       "      <td>9.251620</td>\n",
       "      <td>9.3034</td>\n",
       "      <td>8.208642</td>\n",
       "      <td>0.031000</td>\n",
       "      <td>521.69</td>\n",
       "    </tr>\n",
       "    <tr>\n",
       "      <th>1</th>\n",
       "      <td>Fruits</td>\n",
       "      <td>129.46</td>\n",
       "      <td>2.8806</td>\n",
       "      <td>1.5924</td>\n",
       "      <td>0.516333</td>\n",
       "      <td>26.7713</td>\n",
       "      <td>14.256047</td>\n",
       "      <td>1.620213</td>\n",
       "      <td>73.53</td>\n",
       "    </tr>\n",
       "    <tr>\n",
       "      <th>2</th>\n",
       "      <td>Grains</td>\n",
       "      <td>274.32</td>\n",
       "      <td>7.5450</td>\n",
       "      <td>5.4924</td>\n",
       "      <td>1.054273</td>\n",
       "      <td>52.1865</td>\n",
       "      <td>8.051183</td>\n",
       "      <td>5.426531</td>\n",
       "      <td>216.00</td>\n",
       "    </tr>\n",
       "    <tr>\n",
       "      <th>3</th>\n",
       "      <td>Meats</td>\n",
       "      <td>225.34</td>\n",
       "      <td>20.8628</td>\n",
       "      <td>14.2603</td>\n",
       "      <td>4.467636</td>\n",
       "      <td>2.0837</td>\n",
       "      <td>0.115493</td>\n",
       "      <td>0.062637</td>\n",
       "      <td>106.68</td>\n",
       "    </tr>\n",
       "    <tr>\n",
       "      <th>4</th>\n",
       "      <td>Nuts &amp; Seeds</td>\n",
       "      <td>343.55</td>\n",
       "      <td>6.1558</td>\n",
       "      <td>20.7423</td>\n",
       "      <td>5.619840</td>\n",
       "      <td>37.0574</td>\n",
       "      <td>18.529565</td>\n",
       "      <td>4.914286</td>\n",
       "      <td>181.04</td>\n",
       "    </tr>\n",
       "    <tr>\n",
       "      <th>5</th>\n",
       "      <td>Seafood</td>\n",
       "      <td>178.51</td>\n",
       "      <td>18.9776</td>\n",
       "      <td>10.5959</td>\n",
       "      <td>3.230204</td>\n",
       "      <td>0.6635</td>\n",
       "      <td>0.128542</td>\n",
       "      <td>0.023469</td>\n",
       "      <td>264.06</td>\n",
       "    </tr>\n",
       "    <tr>\n",
       "      <th>6</th>\n",
       "      <td>Vegetables</td>\n",
       "      <td>81.84</td>\n",
       "      <td>3.5881</td>\n",
       "      <td>2.6656</td>\n",
       "      <td>1.343771</td>\n",
       "      <td>11.7757</td>\n",
       "      <td>2.584353</td>\n",
       "      <td>2.473404</td>\n",
       "      <td>176.15</td>\n",
       "    </tr>\n",
       "  </tbody>\n",
       "</table>\n",
       "</div>"
      ],
      "text/plain": [
       "       category  energy  protein  fat_total  satuated_fat  carbonhydrate  \\\n",
       "0         Dairy  233.11  15.6131    14.8385      9.251620         9.3034   \n",
       "1        Fruits  129.46   2.8806     1.5924      0.516333        26.7713   \n",
       "2        Grains  274.32   7.5450     5.4924      1.054273        52.1865   \n",
       "3         Meats  225.34  20.8628    14.2603      4.467636         2.0837   \n",
       "4  Nuts & Seeds  343.55   6.1558    20.7423      5.619840        37.0574   \n",
       "5       Seafood  178.51  18.9776    10.5959      3.230204         0.6635   \n",
       "6    Vegetables   81.84   3.5881     2.6656      1.343771        11.7757   \n",
       "\n",
       "       sugar  dietary_fiber  sodium  \n",
       "0   8.208642       0.031000  521.69  \n",
       "1  14.256047       1.620213   73.53  \n",
       "2   8.051183       5.426531  216.00  \n",
       "3   0.115493       0.062637  106.68  \n",
       "4  18.529565       4.914286  181.04  \n",
       "5   0.128542       0.023469  264.06  \n",
       "6   2.584353       2.473404  176.15  "
      ]
     },
     "execution_count": 29,
     "metadata": {},
     "output_type": "execute_result"
    }
   ],
   "source": [
    "# Calculate the average of each nutrient for each category\n",
    "mean_by_category_df = food_label_final_df.groupby(['category']).mean().reset_index(drop=False)\n",
    "mean_by_category_df"
   ]
  },
  {
   "cell_type": "code",
   "execution_count": 30,
   "id": "90c1f865",
   "metadata": {},
   "outputs": [],
   "source": [
    "different_disc = food_label_final_df.groupby(['category']).mean()\n",
    "fig = make_subplots(\n",
    "    rows=2, cols=3,\n",
    "    specs=[[{\"type\": \"domain\"},{\"type\": \"domain\"},{\"type\": \"domain\"}],\n",
    "           [{\"type\": \"domain\"},{\"type\": \"domain\"},{\"type\": \"domain\"}]])"
   ]
  },
  {
   "cell_type": "code",
   "execution_count": 31,
   "id": "fc070751",
   "metadata": {},
   "outputs": [
    {
     "data": {
      "application/vnd.plotly.v1+json": {
       "config": {
        "plotlyServerURL": "https://plot.ly"
       },
       "data": [
        {
         "domain": {
          "x": [
           0,
           0.2888888888888889
          ],
          "y": [
           0.575,
           1
          ]
         },
         "labels": [
          "Dairy",
          "Fruits",
          "Grains",
          "Meats",
          "Nuts & Seeds",
          "Seafood",
          "Vegetables"
         ],
         "marker": {
          "colors": [
           "#100b",
           "#f00560"
          ],
          "line": {
           "color": "#FFFFFF",
           "width": 2.5
          }
         },
         "title": {
          "text": "calories"
         },
         "type": "pie",
         "values": [
          233.11,
          129.46,
          274.32,
          225.34,
          343.55,
          178.51,
          81.84
         ]
        },
        {
         "domain": {
          "x": [
           0.35555555555555557,
           0.6444444444444445
          ],
          "y": [
           0.575,
           1
          ]
         },
         "labels": [
          "Dairy",
          "Fruits",
          "Grains",
          "Meats",
          "Nuts & Seeds",
          "Seafood",
          "Vegetables"
         ],
         "marker": {
          "colors": [
           "#100b",
           "#f00560"
          ],
          "line": {
           "color": "#FFFFFF",
           "width": 2.5
          }
         },
         "title": {
          "text": "protein"
         },
         "type": "pie",
         "values": [
          15.6131,
          2.8806,
          7.545,
          20.862800000000004,
          6.1558,
          18.9776,
          3.5881
         ]
        },
        {
         "domain": {
          "x": [
           0.7111111111111111,
           1
          ],
          "y": [
           0.575,
           1
          ]
         },
         "labels": [
          "Dairy",
          "Fruits",
          "Grains",
          "Meats",
          "Nuts & Seeds",
          "Seafood",
          "Vegetables"
         ],
         "marker": {
          "colors": [
           "#100b",
           "#f00560"
          ],
          "line": {
           "color": "#FFFFFF",
           "width": 2.5
          }
         },
         "title": {
          "text": "sat.fat"
         },
         "type": "pie",
         "values": [
          9.25162,
          0.5163333333333333,
          1.0542727272727273,
          4.467636363636363,
          5.61984,
          3.230204081632653,
          1.3437708333333334
         ]
        },
        {
         "domain": {
          "x": [
           0,
           0.2888888888888889
          ],
          "y": [
           0,
           0.425
          ]
         },
         "labels": [
          "Dairy",
          "Fruits",
          "Grains",
          "Meats",
          "Nuts & Seeds",
          "Seafood",
          "Vegetables"
         ],
         "marker": {
          "colors": [
           "#100b",
           "#f00560"
          ],
          "line": {
           "color": "#FFFFFF",
           "width": 2.5
          }
         },
         "title": {
          "text": "carbs"
         },
         "type": "pie",
         "values": [
          9.3034,
          26.7713,
          52.186499999999995,
          2.0837,
          37.0574,
          0.6635,
          11.775699999999999
         ]
        },
        {
         "domain": {
          "x": [
           0.35555555555555557,
           0.6444444444444445
          ],
          "y": [
           0,
           0.425
          ]
         },
         "labels": [
          "Dairy",
          "Fruits",
          "Grains",
          "Meats",
          "Nuts & Seeds",
          "Seafood",
          "Vegetables"
         ],
         "marker": {
          "colors": [
           "#100b",
           "#f00560"
          ],
          "line": {
           "color": "#FFFFFF",
           "width": 2.5
          }
         },
         "title": {
          "text": "sugar"
         },
         "type": "pie",
         "values": [
          8.208641975308641,
          14.256046511627908,
          8.051182795698924,
          0.11549295774647886,
          18.529565217391305,
          0.12854166666666667,
          2.584352941176471
         ]
        },
        {
         "domain": {
          "x": [
           0.7111111111111111,
           1
          ],
          "y": [
           0,
           0.425
          ]
         },
         "labels": [
          "Dairy",
          "Fruits",
          "Grains",
          "Meats",
          "Nuts & Seeds",
          "Seafood",
          "Vegetables"
         ],
         "marker": {
          "colors": [
           "#100b",
           "#f00560"
          ],
          "line": {
           "color": "#FFFFFF",
           "width": 2.5
          }
         },
         "title": {
          "text": "fiber"
         },
         "type": "pie",
         "values": [
          0.031,
          1.620212765957447,
          5.426530612244897,
          0.06263736263736264,
          4.914285714285715,
          0.023469387755102038,
          2.473404255319149
         ]
        }
       ],
       "layout": {
        "height": 700,
        "template": {
         "data": {
          "bar": [
           {
            "error_x": {
             "color": "#2a3f5f"
            },
            "error_y": {
             "color": "#2a3f5f"
            },
            "marker": {
             "line": {
              "color": "#E5ECF6",
              "width": 0.5
             },
             "pattern": {
              "fillmode": "overlay",
              "size": 10,
              "solidity": 0.2
             }
            },
            "type": "bar"
           }
          ],
          "barpolar": [
           {
            "marker": {
             "line": {
              "color": "#E5ECF6",
              "width": 0.5
             },
             "pattern": {
              "fillmode": "overlay",
              "size": 10,
              "solidity": 0.2
             }
            },
            "type": "barpolar"
           }
          ],
          "carpet": [
           {
            "aaxis": {
             "endlinecolor": "#2a3f5f",
             "gridcolor": "white",
             "linecolor": "white",
             "minorgridcolor": "white",
             "startlinecolor": "#2a3f5f"
            },
            "baxis": {
             "endlinecolor": "#2a3f5f",
             "gridcolor": "white",
             "linecolor": "white",
             "minorgridcolor": "white",
             "startlinecolor": "#2a3f5f"
            },
            "type": "carpet"
           }
          ],
          "choropleth": [
           {
            "colorbar": {
             "outlinewidth": 0,
             "ticks": ""
            },
            "type": "choropleth"
           }
          ],
          "contour": [
           {
            "colorbar": {
             "outlinewidth": 0,
             "ticks": ""
            },
            "colorscale": [
             [
              0,
              "#0d0887"
             ],
             [
              0.1111111111111111,
              "#46039f"
             ],
             [
              0.2222222222222222,
              "#7201a8"
             ],
             [
              0.3333333333333333,
              "#9c179e"
             ],
             [
              0.4444444444444444,
              "#bd3786"
             ],
             [
              0.5555555555555556,
              "#d8576b"
             ],
             [
              0.6666666666666666,
              "#ed7953"
             ],
             [
              0.7777777777777778,
              "#fb9f3a"
             ],
             [
              0.8888888888888888,
              "#fdca26"
             ],
             [
              1,
              "#f0f921"
             ]
            ],
            "type": "contour"
           }
          ],
          "contourcarpet": [
           {
            "colorbar": {
             "outlinewidth": 0,
             "ticks": ""
            },
            "type": "contourcarpet"
           }
          ],
          "heatmap": [
           {
            "colorbar": {
             "outlinewidth": 0,
             "ticks": ""
            },
            "colorscale": [
             [
              0,
              "#0d0887"
             ],
             [
              0.1111111111111111,
              "#46039f"
             ],
             [
              0.2222222222222222,
              "#7201a8"
             ],
             [
              0.3333333333333333,
              "#9c179e"
             ],
             [
              0.4444444444444444,
              "#bd3786"
             ],
             [
              0.5555555555555556,
              "#d8576b"
             ],
             [
              0.6666666666666666,
              "#ed7953"
             ],
             [
              0.7777777777777778,
              "#fb9f3a"
             ],
             [
              0.8888888888888888,
              "#fdca26"
             ],
             [
              1,
              "#f0f921"
             ]
            ],
            "type": "heatmap"
           }
          ],
          "heatmapgl": [
           {
            "colorbar": {
             "outlinewidth": 0,
             "ticks": ""
            },
            "colorscale": [
             [
              0,
              "#0d0887"
             ],
             [
              0.1111111111111111,
              "#46039f"
             ],
             [
              0.2222222222222222,
              "#7201a8"
             ],
             [
              0.3333333333333333,
              "#9c179e"
             ],
             [
              0.4444444444444444,
              "#bd3786"
             ],
             [
              0.5555555555555556,
              "#d8576b"
             ],
             [
              0.6666666666666666,
              "#ed7953"
             ],
             [
              0.7777777777777778,
              "#fb9f3a"
             ],
             [
              0.8888888888888888,
              "#fdca26"
             ],
             [
              1,
              "#f0f921"
             ]
            ],
            "type": "heatmapgl"
           }
          ],
          "histogram": [
           {
            "marker": {
             "pattern": {
              "fillmode": "overlay",
              "size": 10,
              "solidity": 0.2
             }
            },
            "type": "histogram"
           }
          ],
          "histogram2d": [
           {
            "colorbar": {
             "outlinewidth": 0,
             "ticks": ""
            },
            "colorscale": [
             [
              0,
              "#0d0887"
             ],
             [
              0.1111111111111111,
              "#46039f"
             ],
             [
              0.2222222222222222,
              "#7201a8"
             ],
             [
              0.3333333333333333,
              "#9c179e"
             ],
             [
              0.4444444444444444,
              "#bd3786"
             ],
             [
              0.5555555555555556,
              "#d8576b"
             ],
             [
              0.6666666666666666,
              "#ed7953"
             ],
             [
              0.7777777777777778,
              "#fb9f3a"
             ],
             [
              0.8888888888888888,
              "#fdca26"
             ],
             [
              1,
              "#f0f921"
             ]
            ],
            "type": "histogram2d"
           }
          ],
          "histogram2dcontour": [
           {
            "colorbar": {
             "outlinewidth": 0,
             "ticks": ""
            },
            "colorscale": [
             [
              0,
              "#0d0887"
             ],
             [
              0.1111111111111111,
              "#46039f"
             ],
             [
              0.2222222222222222,
              "#7201a8"
             ],
             [
              0.3333333333333333,
              "#9c179e"
             ],
             [
              0.4444444444444444,
              "#bd3786"
             ],
             [
              0.5555555555555556,
              "#d8576b"
             ],
             [
              0.6666666666666666,
              "#ed7953"
             ],
             [
              0.7777777777777778,
              "#fb9f3a"
             ],
             [
              0.8888888888888888,
              "#fdca26"
             ],
             [
              1,
              "#f0f921"
             ]
            ],
            "type": "histogram2dcontour"
           }
          ],
          "mesh3d": [
           {
            "colorbar": {
             "outlinewidth": 0,
             "ticks": ""
            },
            "type": "mesh3d"
           }
          ],
          "parcoords": [
           {
            "line": {
             "colorbar": {
              "outlinewidth": 0,
              "ticks": ""
             }
            },
            "type": "parcoords"
           }
          ],
          "pie": [
           {
            "automargin": true,
            "type": "pie"
           }
          ],
          "scatter": [
           {
            "fillpattern": {
             "fillmode": "overlay",
             "size": 10,
             "solidity": 0.2
            },
            "type": "scatter"
           }
          ],
          "scatter3d": [
           {
            "line": {
             "colorbar": {
              "outlinewidth": 0,
              "ticks": ""
             }
            },
            "marker": {
             "colorbar": {
              "outlinewidth": 0,
              "ticks": ""
             }
            },
            "type": "scatter3d"
           }
          ],
          "scattercarpet": [
           {
            "marker": {
             "colorbar": {
              "outlinewidth": 0,
              "ticks": ""
             }
            },
            "type": "scattercarpet"
           }
          ],
          "scattergeo": [
           {
            "marker": {
             "colorbar": {
              "outlinewidth": 0,
              "ticks": ""
             }
            },
            "type": "scattergeo"
           }
          ],
          "scattergl": [
           {
            "marker": {
             "colorbar": {
              "outlinewidth": 0,
              "ticks": ""
             }
            },
            "type": "scattergl"
           }
          ],
          "scattermapbox": [
           {
            "marker": {
             "colorbar": {
              "outlinewidth": 0,
              "ticks": ""
             }
            },
            "type": "scattermapbox"
           }
          ],
          "scatterpolar": [
           {
            "marker": {
             "colorbar": {
              "outlinewidth": 0,
              "ticks": ""
             }
            },
            "type": "scatterpolar"
           }
          ],
          "scatterpolargl": [
           {
            "marker": {
             "colorbar": {
              "outlinewidth": 0,
              "ticks": ""
             }
            },
            "type": "scatterpolargl"
           }
          ],
          "scatterternary": [
           {
            "marker": {
             "colorbar": {
              "outlinewidth": 0,
              "ticks": ""
             }
            },
            "type": "scatterternary"
           }
          ],
          "surface": [
           {
            "colorbar": {
             "outlinewidth": 0,
             "ticks": ""
            },
            "colorscale": [
             [
              0,
              "#0d0887"
             ],
             [
              0.1111111111111111,
              "#46039f"
             ],
             [
              0.2222222222222222,
              "#7201a8"
             ],
             [
              0.3333333333333333,
              "#9c179e"
             ],
             [
              0.4444444444444444,
              "#bd3786"
             ],
             [
              0.5555555555555556,
              "#d8576b"
             ],
             [
              0.6666666666666666,
              "#ed7953"
             ],
             [
              0.7777777777777778,
              "#fb9f3a"
             ],
             [
              0.8888888888888888,
              "#fdca26"
             ],
             [
              1,
              "#f0f921"
             ]
            ],
            "type": "surface"
           }
          ],
          "table": [
           {
            "cells": {
             "fill": {
              "color": "#EBF0F8"
             },
             "line": {
              "color": "white"
             }
            },
            "header": {
             "fill": {
              "color": "#C8D4E3"
             },
             "line": {
              "color": "white"
             }
            },
            "type": "table"
           }
          ]
         },
         "layout": {
          "annotationdefaults": {
           "arrowcolor": "#2a3f5f",
           "arrowhead": 0,
           "arrowwidth": 1
          },
          "autotypenumbers": "strict",
          "coloraxis": {
           "colorbar": {
            "outlinewidth": 0,
            "ticks": ""
           }
          },
          "colorscale": {
           "diverging": [
            [
             0,
             "#8e0152"
            ],
            [
             0.1,
             "#c51b7d"
            ],
            [
             0.2,
             "#de77ae"
            ],
            [
             0.3,
             "#f1b6da"
            ],
            [
             0.4,
             "#fde0ef"
            ],
            [
             0.5,
             "#f7f7f7"
            ],
            [
             0.6,
             "#e6f5d0"
            ],
            [
             0.7,
             "#b8e186"
            ],
            [
             0.8,
             "#7fbc41"
            ],
            [
             0.9,
             "#4d9221"
            ],
            [
             1,
             "#276419"
            ]
           ],
           "sequential": [
            [
             0,
             "#0d0887"
            ],
            [
             0.1111111111111111,
             "#46039f"
            ],
            [
             0.2222222222222222,
             "#7201a8"
            ],
            [
             0.3333333333333333,
             "#9c179e"
            ],
            [
             0.4444444444444444,
             "#bd3786"
            ],
            [
             0.5555555555555556,
             "#d8576b"
            ],
            [
             0.6666666666666666,
             "#ed7953"
            ],
            [
             0.7777777777777778,
             "#fb9f3a"
            ],
            [
             0.8888888888888888,
             "#fdca26"
            ],
            [
             1,
             "#f0f921"
            ]
           ],
           "sequentialminus": [
            [
             0,
             "#0d0887"
            ],
            [
             0.1111111111111111,
             "#46039f"
            ],
            [
             0.2222222222222222,
             "#7201a8"
            ],
            [
             0.3333333333333333,
             "#9c179e"
            ],
            [
             0.4444444444444444,
             "#bd3786"
            ],
            [
             0.5555555555555556,
             "#d8576b"
            ],
            [
             0.6666666666666666,
             "#ed7953"
            ],
            [
             0.7777777777777778,
             "#fb9f3a"
            ],
            [
             0.8888888888888888,
             "#fdca26"
            ],
            [
             1,
             "#f0f921"
            ]
           ]
          },
          "colorway": [
           "#636efa",
           "#EF553B",
           "#00cc96",
           "#ab63fa",
           "#FFA15A",
           "#19d3f3",
           "#FF6692",
           "#B6E880",
           "#FF97FF",
           "#FECB52"
          ],
          "font": {
           "color": "#2a3f5f"
          },
          "geo": {
           "bgcolor": "white",
           "lakecolor": "white",
           "landcolor": "#E5ECF6",
           "showlakes": true,
           "showland": true,
           "subunitcolor": "white"
          },
          "hoverlabel": {
           "align": "left"
          },
          "hovermode": "closest",
          "mapbox": {
           "style": "light"
          },
          "paper_bgcolor": "white",
          "plot_bgcolor": "#E5ECF6",
          "polar": {
           "angularaxis": {
            "gridcolor": "white",
            "linecolor": "white",
            "ticks": ""
           },
           "bgcolor": "#E5ECF6",
           "radialaxis": {
            "gridcolor": "white",
            "linecolor": "white",
            "ticks": ""
           }
          },
          "scene": {
           "xaxis": {
            "backgroundcolor": "#E5ECF6",
            "gridcolor": "white",
            "gridwidth": 2,
            "linecolor": "white",
            "showbackground": true,
            "ticks": "",
            "zerolinecolor": "white"
           },
           "yaxis": {
            "backgroundcolor": "#E5ECF6",
            "gridcolor": "white",
            "gridwidth": 2,
            "linecolor": "white",
            "showbackground": true,
            "ticks": "",
            "zerolinecolor": "white"
           },
           "zaxis": {
            "backgroundcolor": "#E5ECF6",
            "gridcolor": "white",
            "gridwidth": 2,
            "linecolor": "white",
            "showbackground": true,
            "ticks": "",
            "zerolinecolor": "white"
           }
          },
          "shapedefaults": {
           "line": {
            "color": "#2a3f5f"
           }
          },
          "ternary": {
           "aaxis": {
            "gridcolor": "white",
            "linecolor": "white",
            "ticks": ""
           },
           "baxis": {
            "gridcolor": "white",
            "linecolor": "white",
            "ticks": ""
           },
           "bgcolor": "#E5ECF6",
           "caxis": {
            "gridcolor": "white",
            "linecolor": "white",
            "ticks": ""
           }
          },
          "title": {
           "x": 0.05
          },
          "xaxis": {
           "automargin": true,
           "gridcolor": "white",
           "linecolor": "white",
           "ticks": "",
           "title": {
            "standoff": 15
           },
           "zerolinecolor": "white",
           "zerolinewidth": 2
          },
          "yaxis": {
           "automargin": true,
           "gridcolor": "white",
           "linecolor": "white",
           "ticks": "",
           "title": {
            "standoff": 15
           },
           "zerolinecolor": "white",
           "zerolinewidth": 2
          }
         }
        },
        "title": {
         "text": "Category wise distribution of all metrics"
        },
        "width": 900
       }
      }
     },
     "metadata": {},
     "output_type": "display_data"
    }
   ],
   "source": [
    "\n",
    "fig.add_trace(go.Pie(values=different_disc['energy'], \n",
    "                     title='calories', labels=different_disc.index, marker=dict(colors=['#100b','#f00560'], \n",
    "                    line=dict(color='#FFFFFF', width=2.5))),row=1, col=1)\n",
    "fig.add_trace(go.Pie(values=different_disc['protein'], \n",
    "                     title='protein', labels=different_disc.index, marker=dict(colors=['#100b','#f00560'], \n",
    "                    line=dict(color='#FFFFFF', width=2.5))),row=1, col=2)\n",
    "fig.add_trace(go.Pie(values=different_disc['satuated_fat'], \n",
    "                     title='sat.fat', labels=different_disc.index, marker=dict(colors=['#100b','#f00560'], \n",
    "                    line=dict(color='#FFFFFF', width=2.5))),row=1, col=3)\n",
    "fig.add_trace(go.Pie(values=different_disc['carbonhydrate'], \n",
    "                     title='carbs', labels=different_disc.index, marker=dict(colors=['#100b','#f00560'], \n",
    "                    line=dict(color='#FFFFFF', width=2.5))),row=2, col=1)\n",
    "fig.add_trace(go.Pie(values=different_disc['sugar'], \n",
    "                     title='sugar', labels=different_disc.index, marker=dict(colors=['#100b','#f00560'], \n",
    "                    line=dict(color='#FFFFFF', width=2.5))),row=2, col=2)\n",
    "fig.add_trace(go.Pie(values=different_disc['dietary_fiber'], \n",
    "                     title='fiber', labels=different_disc.index, marker=dict(colors=['#100b','#f00560'], \n",
    "                    line=dict(color='#FFFFFF', width=2.5))),row=2, col=3)\n",
    "\n",
    "fig.update_layout(title_text=\"Category wise distribution of all metrics\", height=700, width=900)\n",
    "fig.show()\n",
    "\n"
   ]
  },
  {
   "cell_type": "code",
   "execution_count": 32,
   "id": "7f0e81cf-ec54-4d2c-b894-8c30a853ad31",
   "metadata": {},
   "outputs": [
    {
     "data": {
      "application/vnd.jupyter.widget-view+json": {
       "model_id": "2d96a8a539f046abb760749ed6eb6cd4",
       "version_major": 2,
       "version_minor": 0
      },
      "text/plain": [
       "Dropdown(description='Category 1:', options=('Dairy', 'Fruits', 'Grains', 'Meats', 'Nuts & Seeds', 'Seafood', …"
      ]
     },
     "metadata": {},
     "output_type": "display_data"
    },
    {
     "data": {
      "application/vnd.jupyter.widget-view+json": {
       "model_id": "600c04b42a0f4109b1b64fade07729ef",
       "version_major": 2,
       "version_minor": 0
      },
      "text/plain": [
       "Dropdown(description='Category 2:', options=('Dairy', 'Fruits', 'Grains', 'Meats', 'Nuts & Seeds', 'Seafood', …"
      ]
     },
     "metadata": {},
     "output_type": "display_data"
    },
    {
     "data": {
      "application/vnd.jupyter.widget-view+json": {
       "model_id": "13d39de50bd74c11899589371118bfce",
       "version_major": 2,
       "version_minor": 0
      },
      "text/plain": [
       "Button(description='Compare Categories', style=ButtonStyle())"
      ]
     },
     "metadata": {},
     "output_type": "display_data"
    },
    {
     "data": {
      "application/vnd.jupyter.widget-view+json": {
       "model_id": "ace643b4a4fb4f9ea9e11d658fe095a6",
       "version_major": 2,
       "version_minor": 0
      },
      "text/plain": [
       "Output()"
      ]
     },
     "metadata": {},
     "output_type": "display_data"
    },
    {
     "data": {
      "image/png": "[encoded data removed]",
      "text/plain": [
       "<Figure size 1200x600 with 2 Axes>"
      ]
     },
     "metadata": {},
     "output_type": "display_data"
    }
   ],
   "source": [
    "# Get the categories from the 'category' columns for dropdown menus\n",
    "# categories = mean_by_category_df['category']\n",
    "categories = mean_by_category_df['category'].unique()\n",
    "\n",
    "# Create dropdown widgets for category selection\n",
    "dropdown1 = widgets.Dropdown(options=categories, description='Category 1:')\n",
    "dropdown2 = widgets.Dropdown(options=categories, description='Category 2:')\n",
    "\n",
    "# Create a button widget for triggering the comparison\n",
    "button = widgets.Button(description='Compare Categories')\n",
    "# # Create an output widget for displaying the comparison results\n",
    "output = widgets.Output()\n",
    "\n",
    "# Define a function to compare the selected categories\n",
    "def compare_categories(b):\n",
    "    category1 = dropdown1.value\n",
    "    category2 = dropdown2.value\n",
    "\n",
    "    # Filter the DataFrame for the selected categories\n",
    "    category1_data = mean_by_category_df[mean_by_category_df['category'] == category1]\n",
    "    category2_data = mean_by_category_df[mean_by_category_df['category'] == category2]\n",
    "\n",
    "    fig, (ax1, ax2) = plt.subplots(1, 2, figsize=(12, 6))\n",
    "\n",
    "    category1_data.plot(kind=\"bar\", ax=ax1)\n",
    "    ax1.set_xticklabels(category1_data[\"category\"], rotation=45)\n",
    "\n",
    "    # Plot the second category data\n",
    "    category2_data.plot(kind=\"bar\", ax=ax2)\n",
    "    ax2.set_xticklabels(category2_data[\"category\"], rotation=45)\n",
    "\n",
    "    plt.tight_layout()\n",
    "    plt.show()\n",
    "\n",
    "# Link the button to to the function\n",
    "button.on_click(compare_categories)\n",
    "\n",
    "# # Display the widgets\n",
    "display(dropdown1, dropdown2, button, output)"
   ]
  }
 ],
 "metadata": {
  "kernelspec": {
   "display_name": "Python 3 (ipykernel)",
   "language": "python",
   "name": "python3"
  },
  "language_info": {
   "codemirror_mode": {
    "name": "ipython",
    "version": 3
   },
   "file_extension": ".py",
   "mimetype": "text/x-python",
   "name": "python",
   "nbconvert_exporter": "python",
   "pygments_lexer": "ipython3",
   "version": "3.7.13"
  }
 },
 "nbformat": 4,
 "nbformat_minor": 5
}
